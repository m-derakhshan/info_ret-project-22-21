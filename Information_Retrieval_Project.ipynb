{
  "cells": [
    {
      "cell_type": "code",
      "execution_count": null,
      "metadata": {
        "id": "W9gg8XnXCLxw"
      },
      "outputs": [],
      "source": [
        "!python -m spacy download en_core_web_lg"
      ]
    },
    {
      "cell_type": "code",
      "execution_count": null,
      "metadata": {
        "id": "LXt6z7qnrAyv"
      },
      "outputs": [],
      "source": [
        "import pandas as pd\n",
        "import numpy as np\n",
        "import matplotlib.pyplot as plt\n",
        "import seaborn as sns\n",
        "from collections import defaultdict\n",
        "from tqdm.notebook import tqdm\n",
        "import spacy\n",
        "\n",
        "import nltk\n",
        "from nltk import word_tokenize\n",
        "from nltk.corpus import stopwords\n",
        "from nltk.corpus import wordnet as wn\n",
        "from nltk.stem import WordNetLemmatizer\n",
        "from nltk.stem import PorterStemmer\n",
        "from sklearn.naive_bayes import GaussianNB\n",
        "from sklearn.tree import DecisionTreeClassifier\n",
        "from sklearn.neural_network import MLPClassifier\n",
        "from sklearn.ensemble import AdaBoostClassifier\n",
        "\n",
        "from string import punctuation\n",
        "\n",
        "from sklearn.metrics.pairwise import cosine_similarity\n",
        "from sklearn import svm\n",
        "\n",
        "import random\n",
        "import pickle\n",
        "\n",
        "#---------------downloading ---------------------\n",
        "spacy = spacy.load(\"en_core_web_lg\")\n",
        "nltk.download('wordnet')\n",
        "nltk.download('stopwords')\n",
        "nltk.download('punkt')\n",
        "stopWords = stopwords.words('english')"
      ]
    },
    {
      "cell_type": "code",
      "execution_count": null,
      "metadata": {
        "id": "u6K8cC3XsB6r"
      },
      "outputs": [],
      "source": [
        "#SNI dataset:\n",
        "train_raw_sni = pd.read_json(\"./drive/MyDrive/ColabData/snli_1.0_train.jsonl\",lines = True)\n",
        "train_raw_sni = train_raw_sni[train_raw_sni.gold_label!='-'][:6633]\n",
        "\n",
        "#MNLI dataset:\n",
        "train_raw_mnli = pd.read_json(\"./drive/MyDrive/ColabData/mnli_train.jsonl\",lines = True)\n",
        "train_raw_mnli = train_raw_mnli[train_raw_mnli.gold_label!='-'][:10000]\n",
        "\n",
        "\n",
        "#RTE dataset\n",
        "train_raw_rte3_train = pd.read_xml(\"./drive/MyDrive/ColabData/rte3_dev.xml\")# 800 sample data\n",
        "train_raw_rte3_train.drop(columns=(\"length\"),inplace = True)\n",
        "train_raw_rte2_train = pd.read_xml(\"./drive/MyDrive/ColabData/rte2_dev.xml\")# 400 sample data\n",
        "train_raw_rte2_test = pd.read_xml(\"./drive/MyDrive/ColabData/rte2_test.xml\")# 800 sample data\n",
        "train_raw_rte1_train = pd.read_xml(\"./drive/MyDrive/ColabData/rte1_dev.xml\")# 567 sample data\n",
        "train_raw_rte1_test = pd.read_xml(\"./drive/MyDrive/ColabData/rte1_test.xml\")# 800 sample data\n",
        "train_raw_rte1_train.rename(columns = {\"value\":\"entailment\"},inplace = True)\n",
        "train_raw_rte1_test.rename(columns = {\"value\":\"entailment\"},inplace = True)\n",
        "\n",
        "\n",
        "train_raw = train_raw_rte3_train.append(train_raw_rte2_train,ignore_index=True)\n",
        "train_raw = train_raw.append(train_raw_rte2_test,ignore_index=True)\n",
        "train_raw = train_raw.append(train_raw_rte1_train,ignore_index=True)\n",
        "train_raw = train_raw.append(train_raw_rte1_test,ignore_index=True)\n",
        "\n",
        "\n",
        "\n",
        "\n",
        "train_raw.loc[ train_raw[\"entailment\"] == \"YES\",   \"entailment\" ] = \"entailment\"\n",
        "train_raw.loc[ train_raw[\"entailment\"] == True,  \"entailment\" ] = \"entailment\"\n",
        "train_raw.loc[ train_raw[\"entailment\"] == \"NO\",    \"entailment\" ] = \"other\"\n",
        "train_raw.loc[ train_raw[\"entailment\"] == False, \"entailment\" ] = \"other\"\n",
        "\n",
        "train_raw.rename(columns = {\"t\":\"sentence1\",\"h\":\"sentence2\",\"entailment\":\"gold_label\"},inplace = True)\n",
        "train_raw = train_raw.append(train_raw_sni,ignore_index = True)\n",
        "train_raw = train_raw.append(train_raw_mnli,ignore_index = True)\n",
        "\n",
        "\n",
        "\n",
        "#test RTE dataset\n",
        "test_raw_rte3 = pd.read_xml(\"./drive/MyDrive/ColabData/rte3_test.xml\")\n",
        "test_raw_sni = pd.read_json(\"./drive/MyDrive/ColabData/snli_1.0_test.jsonl\",lines = True)\n",
        "test_raw_sni = train_raw_sni[train_raw_sni.gold_label!='-'][:2200]\n",
        "\n",
        "test_raw_rte3.loc[test_raw_rte3[\"entailment\"]==\"YES\",\"entailment\"] = \"entailment\"\n",
        "test_raw_rte3.loc[test_raw_rte3[\"entailment\"]==\"NO\",\"entailment\"] = \"other\"\n",
        "test_raw_rte3.rename(columns = {\"t\":\"sentence1\",\"h\":\"sentence2\",\"entailment\":\"gold_label\"},inplace = True)\n",
        "\n",
        "test_raw = test_raw_rte3.append(test_raw_sni,ignore_index = True)\n",
        "\n"
      ]
    },
    {
      "cell_type": "code",
      "execution_count": null,
      "metadata": {
        "colab": {
          "base_uri": "https://localhost:8080/"
        },
        "id": "a54gEA_5sMke",
        "outputId": "30eda7af-5c49-4c94-8e9d-9e41d68d8b3a"
      },
      "outputs": [
        {
          "output_type": "stream",
          "name": "stdout",
          "text": [
            "len test: 3000 len train: 20000\n"
          ]
        }
      ],
      "source": [
        "train = train_raw\n",
        "train.drop(columns=[\"id\",\"task\",\"annotator_labels\",\"captionID\",\"pairID\",\"sentence1_binary_parse\",\"sentence1_parse\",\"sentence2_binary_parse\",\"sentence2_parse\",\"genre\",\"promptID\"],inplace = True)\n",
        "train.replace(\"neutral\",\"other\", inplace = True)\n",
        "train.replace(\"contradiction\",\"other\", inplace = True)\n",
        "train = train.reset_index()\n",
        "\n",
        "test = test_raw\n",
        "test.replace(\"neutral\",\"other\", inplace = True)\n",
        "test.replace(\"contradiction\",\"other\", inplace = True)\n",
        "\n",
        "print(\"len test:\",len(test),\"len train:\",len(train))"
      ]
    },
    {
      "cell_type": "code",
      "execution_count": null,
      "metadata": {
        "colab": {
          "base_uri": "https://localhost:8080/",
          "height": 424
        },
        "id": "eIuHqx52hE51",
        "outputId": "382a70aa-9a13-4e99-dc2b-7838d3c63ef1"
      },
      "outputs": [
        {
          "output_type": "execute_result",
          "data": {
            "text/plain": [
              "       index  gold_label                                          sentence1  \\\n",
              "0          0  entailment  The sale was made to pay Yukos' US$ 27.5 billi...   \n",
              "1          1       other  The sale was made to pay Yukos' US$ 27.5 billi...   \n",
              "2          2       other  Loraine besides participating in Broadway's Dr...   \n",
              "3          3  entailment  \"The Extra Girl\" (1923) is a story of a small-...   \n",
              "4          4  entailment  A bus collision with a truck in Uganda has res...   \n",
              "...      ...         ...                                                ...   \n",
              "19995  19995       other  Because, despite its monopoly power, Microsoft...   \n",
              "19996  19996       other                                'Right,' I mumbled.   \n",
              "19997  19997       other                                        Thanks dad.   \n",
              "19998  19998       other                                      which is good   \n",
              "19999  19999       other  Their breath came in clouds in the cool night ...   \n",
              "\n",
              "                                               sentence2  \n",
              "0                 Baikalfinansgroup was sold to Rosneft.  \n",
              "1                 Yuganskneftegaz cost US$ 27.5 billion.  \n",
              "2      \"Does A Tiger Have A Necktie\" was produced in ...  \n",
              "3              \"The Extra Girl\" was produced by Sennett.  \n",
              "4                   30 die in a bus collision in Uganda.  \n",
              "...                                                  ...  \n",
              "19995  Microsoft owns 60 percent of all computer-rela...  \n",
              "19996                                  'Wrong', I said.   \n",
              "19997                                     Thanks Obama.   \n",
              "19998                         I don't think that's great  \n",
              "19999         Their breath was invisible in the hot air.  \n",
              "\n",
              "[20000 rows x 4 columns]"
            ],
            "text/html": [
              "\n",
              "  <div id=\"df-04d4740e-28c2-40df-8f60-256f846193e0\">\n",
              "    <div class=\"colab-df-container\">\n",
              "      <div>\n",
              "<style scoped>\n",
              "    .dataframe tbody tr th:only-of-type {\n",
              "        vertical-align: middle;\n",
              "    }\n",
              "\n",
              "    .dataframe tbody tr th {\n",
              "        vertical-align: top;\n",
              "    }\n",
              "\n",
              "    .dataframe thead th {\n",
              "        text-align: right;\n",
              "    }\n",
              "</style>\n",
              "<table border=\"1\" class=\"dataframe\">\n",
              "  <thead>\n",
              "    <tr style=\"text-align: right;\">\n",
              "      <th></th>\n",
              "      <th>index</th>\n",
              "      <th>gold_label</th>\n",
              "      <th>sentence1</th>\n",
              "      <th>sentence2</th>\n",
              "    </tr>\n",
              "  </thead>\n",
              "  <tbody>\n",
              "    <tr>\n",
              "      <th>0</th>\n",
              "      <td>0</td>\n",
              "      <td>entailment</td>\n",
              "      <td>The sale was made to pay Yukos' US$ 27.5 billi...</td>\n",
              "      <td>Baikalfinansgroup was sold to Rosneft.</td>\n",
              "    </tr>\n",
              "    <tr>\n",
              "      <th>1</th>\n",
              "      <td>1</td>\n",
              "      <td>other</td>\n",
              "      <td>The sale was made to pay Yukos' US$ 27.5 billi...</td>\n",
              "      <td>Yuganskneftegaz cost US$ 27.5 billion.</td>\n",
              "    </tr>\n",
              "    <tr>\n",
              "      <th>2</th>\n",
              "      <td>2</td>\n",
              "      <td>other</td>\n",
              "      <td>Loraine besides participating in Broadway's Dr...</td>\n",
              "      <td>\"Does A Tiger Have A Necktie\" was produced in ...</td>\n",
              "    </tr>\n",
              "    <tr>\n",
              "      <th>3</th>\n",
              "      <td>3</td>\n",
              "      <td>entailment</td>\n",
              "      <td>\"The Extra Girl\" (1923) is a story of a small-...</td>\n",
              "      <td>\"The Extra Girl\" was produced by Sennett.</td>\n",
              "    </tr>\n",
              "    <tr>\n",
              "      <th>4</th>\n",
              "      <td>4</td>\n",
              "      <td>entailment</td>\n",
              "      <td>A bus collision with a truck in Uganda has res...</td>\n",
              "      <td>30 die in a bus collision in Uganda.</td>\n",
              "    </tr>\n",
              "    <tr>\n",
              "      <th>...</th>\n",
              "      <td>...</td>\n",
              "      <td>...</td>\n",
              "      <td>...</td>\n",
              "      <td>...</td>\n",
              "    </tr>\n",
              "    <tr>\n",
              "      <th>19995</th>\n",
              "      <td>19995</td>\n",
              "      <td>other</td>\n",
              "      <td>Because, despite its monopoly power, Microsoft...</td>\n",
              "      <td>Microsoft owns 60 percent of all computer-rela...</td>\n",
              "    </tr>\n",
              "    <tr>\n",
              "      <th>19996</th>\n",
              "      <td>19996</td>\n",
              "      <td>other</td>\n",
              "      <td>'Right,' I mumbled.</td>\n",
              "      <td>'Wrong', I said.</td>\n",
              "    </tr>\n",
              "    <tr>\n",
              "      <th>19997</th>\n",
              "      <td>19997</td>\n",
              "      <td>other</td>\n",
              "      <td>Thanks dad.</td>\n",
              "      <td>Thanks Obama.</td>\n",
              "    </tr>\n",
              "    <tr>\n",
              "      <th>19998</th>\n",
              "      <td>19998</td>\n",
              "      <td>other</td>\n",
              "      <td>which is good</td>\n",
              "      <td>I don't think that's great</td>\n",
              "    </tr>\n",
              "    <tr>\n",
              "      <th>19999</th>\n",
              "      <td>19999</td>\n",
              "      <td>other</td>\n",
              "      <td>Their breath came in clouds in the cool night ...</td>\n",
              "      <td>Their breath was invisible in the hot air.</td>\n",
              "    </tr>\n",
              "  </tbody>\n",
              "</table>\n",
              "<p>20000 rows × 4 columns</p>\n",
              "</div>\n",
              "      <button class=\"colab-df-convert\" onclick=\"convertToInteractive('df-04d4740e-28c2-40df-8f60-256f846193e0')\"\n",
              "              title=\"Convert this dataframe to an interactive table.\"\n",
              "              style=\"display:none;\">\n",
              "        \n",
              "  <svg xmlns=\"http://www.w3.org/2000/svg\" height=\"24px\"viewBox=\"0 0 24 24\"\n",
              "       width=\"24px\">\n",
              "    <path d=\"M0 0h24v24H0V0z\" fill=\"none\"/>\n",
              "    <path d=\"M18.56 5.44l.94 2.06.94-2.06 2.06-.94-2.06-.94-.94-2.06-.94 2.06-2.06.94zm-11 1L8.5 8.5l.94-2.06 2.06-.94-2.06-.94L8.5 2.5l-.94 2.06-2.06.94zm10 10l.94 2.06.94-2.06 2.06-.94-2.06-.94-.94-2.06-.94 2.06-2.06.94z\"/><path d=\"M17.41 7.96l-1.37-1.37c-.4-.4-.92-.59-1.43-.59-.52 0-1.04.2-1.43.59L10.3 9.45l-7.72 7.72c-.78.78-.78 2.05 0 2.83L4 21.41c.39.39.9.59 1.41.59.51 0 1.02-.2 1.41-.59l7.78-7.78 2.81-2.81c.8-.78.8-2.07 0-2.86zM5.41 20L4 18.59l7.72-7.72 1.47 1.35L5.41 20z\"/>\n",
              "  </svg>\n",
              "      </button>\n",
              "      \n",
              "  <style>\n",
              "    .colab-df-container {\n",
              "      display:flex;\n",
              "      flex-wrap:wrap;\n",
              "      gap: 12px;\n",
              "    }\n",
              "\n",
              "    .colab-df-convert {\n",
              "      background-color: #E8F0FE;\n",
              "      border: none;\n",
              "      border-radius: 50%;\n",
              "      cursor: pointer;\n",
              "      display: none;\n",
              "      fill: #1967D2;\n",
              "      height: 32px;\n",
              "      padding: 0 0 0 0;\n",
              "      width: 32px;\n",
              "    }\n",
              "\n",
              "    .colab-df-convert:hover {\n",
              "      background-color: #E2EBFA;\n",
              "      box-shadow: 0px 1px 2px rgba(60, 64, 67, 0.3), 0px 1px 3px 1px rgba(60, 64, 67, 0.15);\n",
              "      fill: #174EA6;\n",
              "    }\n",
              "\n",
              "    [theme=dark] .colab-df-convert {\n",
              "      background-color: #3B4455;\n",
              "      fill: #D2E3FC;\n",
              "    }\n",
              "\n",
              "    [theme=dark] .colab-df-convert:hover {\n",
              "      background-color: #434B5C;\n",
              "      box-shadow: 0px 1px 3px 1px rgba(0, 0, 0, 0.15);\n",
              "      filter: drop-shadow(0px 1px 2px rgba(0, 0, 0, 0.3));\n",
              "      fill: #FFFFFF;\n",
              "    }\n",
              "  </style>\n",
              "\n",
              "      <script>\n",
              "        const buttonEl =\n",
              "          document.querySelector('#df-04d4740e-28c2-40df-8f60-256f846193e0 button.colab-df-convert');\n",
              "        buttonEl.style.display =\n",
              "          google.colab.kernel.accessAllowed ? 'block' : 'none';\n",
              "\n",
              "        async function convertToInteractive(key) {\n",
              "          const element = document.querySelector('#df-04d4740e-28c2-40df-8f60-256f846193e0');\n",
              "          const dataTable =\n",
              "            await google.colab.kernel.invokeFunction('convertToInteractive',\n",
              "                                                     [key], {});\n",
              "          if (!dataTable) return;\n",
              "\n",
              "          const docLinkHtml = 'Like what you see? Visit the ' +\n",
              "            '<a target=\"_blank\" href=https://colab.research.google.com/notebooks/data_table.ipynb>data table notebook</a>'\n",
              "            + ' to learn more about interactive tables.';\n",
              "          element.innerHTML = '';\n",
              "          dataTable['output_type'] = 'display_data';\n",
              "          await google.colab.output.renderOutput(dataTable, element);\n",
              "          const docLink = document.createElement('div');\n",
              "          docLink.innerHTML = docLinkHtml;\n",
              "          element.appendChild(docLink);\n",
              "        }\n",
              "      </script>\n",
              "    </div>\n",
              "  </div>\n",
              "  "
            ]
          },
          "metadata": {},
          "execution_count": 4
        }
      ],
      "source": [
        "train"
      ]
    },
    {
      "cell_type": "code",
      "execution_count": null,
      "metadata": {
        "id": "1QttBPKXlJiT"
      },
      "outputs": [],
      "source": [
        "def normalizedTokenizer(text):\n",
        "   wnl = WordNetLemmatizer()\n",
        "   ps = PorterStemmer()\n",
        "   return [ps.stem(wnl.lemmatize(x)) for x in word_tokenize(text.lower()) if x not in punctuation and x not in stopWords] #"
      ]
    },
    {
      "cell_type": "markdown",
      "metadata": {
        "id": "7psnrMTBPD6_"
      },
      "source": [
        "# First approach, cosine-similarity"
      ]
    },
    {
      "cell_type": "code",
      "execution_count": null,
      "metadata": {
        "id": "WvDbeekWbFBL"
      },
      "outputs": [],
      "source": [
        "def generateBagOfWord(sentences):\n",
        "  BOW = defaultdict(lambda: defaultdict(lambda: 0))\n",
        "  corpus = list(enumerate(sentences))\n",
        "  for i, document in corpus:\n",
        "    tokens = normalizedTokenizer(document)\n",
        "    for token in tokens:\n",
        "        BOW[i][token] += 1\n",
        "  return BOW"
      ]
    },
    {
      "cell_type": "code",
      "execution_count": null,
      "metadata": {
        "id": "QI8q19WQARcA"
      },
      "outputs": [],
      "source": [
        "def predict(T,H,threshold):\n",
        "  bow = generateBagOfWord([T,H])\n",
        "  data = (pd.DataFrame(bow).fillna(0, inplace=False).T).values\n",
        "  similarity = cosine_similarity(data[0].reshape(1, -1),data[1].reshape(1, -1))\n",
        "  if similarity > threshold:\n",
        "    return \"entailment\"\n",
        "  else:\n",
        "    return \"other\""
      ]
    },
    {
      "cell_type": "code",
      "execution_count": null,
      "metadata": {
        "id": "0RI_qcjqPDWZ"
      },
      "outputs": [],
      "source": [
        "def evaluation(threshold):\n",
        "  tp = fp = fn = tn = 0\n",
        "  for index in range(len(test)):\n",
        "    prediction = predict(test.sentence1[index],test.sentence2[index],threshold)\n",
        "    actualLable = test.gold_label[index]\n",
        "    if actualLable == \"entailment\":\n",
        "      if prediction == \"entailment\":\n",
        "        tp +=1\n",
        "      else:\n",
        "        fn +=1\n",
        "    else:\n",
        "        if prediction == \"other\":\n",
        "          tn+=1\n",
        "        else:\n",
        "            fp+=1\n",
        "  return {\"Accuracy\":round( (tp+tn) / (tp+tn+fp+fn),2),\"Percision\":round(tp/(tp+fp),2),\"Recall\":round(tp/(tp+fn),2)}"
      ]
    },
    {
      "cell_type": "code",
      "execution_count": null,
      "metadata": {
        "colab": {
          "base_uri": "https://localhost:8080/"
        },
        "id": "6EABaZVij0m5",
        "outputId": "b8ffb1e4-65e9-4cd8-888f-4a12fb7e12d7"
      },
      "outputs": [
        {
          "output_type": "execute_result",
          "data": {
            "text/plain": [
              "{'Accuracy': 0.66, 'Percision': 0.56, 'Recall': 0.53}"
            ]
          },
          "metadata": {},
          "execution_count": 9
        }
      ],
      "source": [
        "threshold = 0.45\n",
        "#{'Accuracy': 0.66, 'Percision': 0.56, 'Recall': 0.53}\n",
        "evaluation(threshold)"
      ]
    },
    {
      "cell_type": "code",
      "execution_count": null,
      "metadata": {
        "colab": {
          "base_uri": "https://localhost:8080/",
          "height": 502,
          "referenced_widgets": [
            "50346688f9b041ad90785c195c7ab0a4",
            "f4718858371b4bb0ba607b19c40b0e5c",
            "6fbbbff2e167470499623d4dbf6c3fee",
            "4fbd180eb90b44ff84d44fc77b62fb57",
            "559e3ed9b14d4208b8051f428c6a55c2",
            "18fd884b8dd84a41a5047491eb872c97",
            "36848f4cc260431291ae11e43dd7c716",
            "3d9b5e0e330d47bb8464567fbce74eb0",
            "611c49de445e40e3b92c6894162075db",
            "b9bffe0618ad44a696525e41462b93c2",
            "ca20a2be2e0b46079ef1d2e044040a54"
          ]
        },
        "id": "X0afn0X_QH41",
        "outputId": "981de09e-72e6-468e-e3c4-28b20bc3c149"
      },
      "outputs": [
        {
          "output_type": "display_data",
          "data": {
            "text/plain": [
              "  0%|          | 0/100 [00:00<?, ?it/s]"
            ],
            "application/vnd.jupyter.widget-view+json": {
              "version_major": 2,
              "version_minor": 0,
              "model_id": "50346688f9b041ad90785c195c7ab0a4"
            }
          },
          "metadata": {}
        },
        {
          "output_type": "display_data",
          "data": {
            "text/plain": [
              "<Figure size 1050x560 with 1 Axes>"
            ],
            "image/png": "[encoded data removed]"
          },
          "metadata": {
            "needs_background": "light"
          }
        }
      ],
      "source": [
        "values = {\"threshold\":[],\"Accuracy\":[],\"Percision\":[],\"Recall\":[]}\n",
        "for thresh in tqdm(np.arange(0,1,0.01)):\n",
        "  measurement = evaluation(thresh)\n",
        "  values[\"threshold\"].append(thresh)\n",
        "  values[\"Recall\"].append(measurement[\"Recall\"])\n",
        "  values[\"Percision\"].append(measurement[\"Percision\"])\n",
        "  values[\"Accuracy\"].append(measurement[\"Accuracy\"])\n",
        "\n",
        "plt.figure(figsize =(15,8),dpi = 70)\n",
        "\n",
        "plt.plot(values[\"threshold\"],values[\"Accuracy\"])\n",
        "plt.plot(values[\"threshold\"],values[\"Percision\"])\n",
        "plt.plot(values[\"threshold\"],values[\"Recall\"])\n",
        "plt.legend([\"Accuracy\",\"Precision\",\"Recall\"])\n",
        "plt.grid()\n",
        "plt.show()"
      ]
    },
    {
      "cell_type": "code",
      "execution_count": null,
      "metadata": {
        "colab": {
          "base_uri": "https://localhost:8080/"
        },
        "id": "jVEBfsFahMoW",
        "outputId": "bf87a1e4-7ba6-4cbf-a2eb-e88b9fa284ec"
      },
      "outputs": [
        {
          "output_type": "stream",
          "name": "stdout",
          "text": [
            " T->H entailment correct:entrailment\n",
            " T->H1 entailment correct:entrailment\n",
            " T->H2 entailment correct:entrailment\n",
            " T->H3 other correct:other\n",
            " T->H4 other correct:entrailment\n",
            "\n",
            " T->H other correct:entrailment\n",
            " T->H1 entailment correct:entrailment\n",
            " T->H2 other correct:other\n",
            "\n",
            " T->H entailment correct:entrailment\n",
            " T->H1 other correct:other\n",
            " T->H2 entailment correct:other\n",
            "\n"
          ]
        }
      ],
      "source": [
        "T = \"Tim managed to stop the car\"\n",
        "H = \"Tim stopped the car\"\n",
        "H1 = \"Tim tried to stop the car\"\n",
        "H2 = \"Tim did something to the car\"\n",
        "H3 = \"the color of the cor is blue\"\n",
        "H4 = \"car is not moving any more\"\n",
        "print(\" T->H\",predict (T,H,threshold),\"correct:entrailment\\n\",\"T->H1\",predict (T,H1,threshold),\"correct:entrailment\\n\",\"T->H2\",predict (T,H2,threshold),\"correct:entrailment\\n\",\n",
        "      \"T->H3\",predict (T,H3,threshold),\"correct:other\\n\",\"T->H4\",predict (T,H4,threshold),\"correct:entrailment\\n\",)\n",
        "\n",
        "\n",
        "T = \"Tim has bought fish tonight\"\n",
        "H = \"Tim has spent some money\"\n",
        "H1 = \"Tim has bought something\"\n",
        "H2 = \"Tim Is relaxed and happy!\"\n",
        "print(\" T->H\",predict (T,H,threshold),\"correct:entrailment\\n\",\"T->H1\",predict (T,H1,threshold),\"correct:entrailment\\n\",\"T->H2\",predict (T,H2,threshold),\"correct:other\\n\",)\n",
        "\n",
        "\n",
        "T = \"A girl playing a violin along with a group of people\"\n",
        "H = \"A girl is playing an instrument.\"\n",
        "H1 = \"A girl is playing outdoor alone\"\n",
        "H2 = \"A girl is playing volleyball with other groups of people\"\n",
        "print(\" T->H\",predict (T,H,threshold),\"correct:entrailment\\n\",\"T->H1\",predict (T,H1,threshold),\"correct:other\\n\",\"T->H2\",predict (T,H2,threshold),\"correct:other\\n\",)"
      ]
    },
    {
      "cell_type": "markdown",
      "metadata": {
        "id": "Vlv7lMymF_RI"
      },
      "source": [
        "# Second approach: Cosine Directional Similarity"
      ]
    },
    {
      "cell_type": "code",
      "execution_count": null,
      "metadata": {
        "id": "K6Bul87bXJRz"
      },
      "outputs": [],
      "source": [
        "def predict(T,H,threshold):\n",
        "  threshold_one = threshold[0]\n",
        "  threshold_two = threshold[1]\n",
        "  threshold_three = threshold[2]\n",
        "  sentence_one = normalizedTokenizer(T)\n",
        "  sentence_two = normalizedTokenizer(H)\n",
        "  c = len([x for x in sentence_one if x in sentence_two])\n",
        "  cos_T = np.sqrt(c/len(sentence_one))\n",
        "  cos_H = np.sqrt(c/len(sentence_two))\n",
        "  cos_HT = np.sqrt( (4*np.power(c,2)) / ( (len(sentence_two)+c) * (len(sentence_one)+c) ) )\n",
        "  if (cos_HT - cos_T) <= threshold_one and (cos_H - cos_HT) <= threshold_two and max(cos_H,cos_T,cos_HT) >=threshold_three:\n",
        "    return \"entailment\"\n",
        "  else:\n",
        "    return \"other\""
      ]
    },
    {
      "cell_type": "code",
      "execution_count": null,
      "metadata": {
        "id": "0VuupP6FeFoi"
      },
      "outputs": [],
      "source": [
        "def evaluation(threshold):\n",
        "  tp = fp = fn = tn = 0\n",
        "  for index in range(len(test)):\n",
        "    prediction = predict(test.sentence1[index],test.sentence2[index],threshold)\n",
        "    actualLable = test.gold_label[index]\n",
        "    if actualLable == \"entailment\":\n",
        "      if prediction == \"entailment\":\n",
        "        tp +=1\n",
        "      else:\n",
        "        fn +=1\n",
        "    else:\n",
        "        if prediction == \"other\":\n",
        "          tn+=1\n",
        "        else:\n",
        "            fp+=1\n",
        "  return {\"Accuracy\":round( (tp+tn) / (tp+tn+fp+fn),2),\"Percision\":round(tp/(tp+fp),2),\"Recall\":round(tp/(tp+fn),2)}"
      ]
    },
    {
      "cell_type": "code",
      "execution_count": null,
      "metadata": {
        "colab": {
          "base_uri": "https://localhost:8080/"
        },
        "id": "qwNI8Ahpv5pS",
        "outputId": "2faef3f7-5648-4ec1-8dfd-c625fec22485"
      },
      "outputs": [
        {
          "output_type": "execute_result",
          "data": {
            "text/plain": [
              "{'Accuracy': 0.6, 'Percision': 0.49, 'Recall': 0.84}"
            ]
          },
          "metadata": {},
          "execution_count": 14
        }
      ],
      "source": [
        "threshold = [0.5,0.7,0.7]\n",
        "#{'Accuracy': 0.6, 'Percision': 0.49, 'Recall': 0.84}\n",
        "evaluation(threshold)"
      ]
    },
    {
      "cell_type": "code",
      "execution_count": null,
      "metadata": {
        "colab": {
          "base_uri": "https://localhost:8080/"
        },
        "id": "65uxjsr3HNFz",
        "outputId": "6b270f32-4750-4cc8-efaa-d69be074df7c"
      },
      "outputs": [
        {
          "output_type": "stream",
          "name": "stdout",
          "text": [
            " T->H entailment correct:entrailment\n",
            " T->H1 entailment correct:entrailment\n",
            " T->H2 entailment correct:entrailment\n",
            " T->H3 other correct:other\n",
            " T->H4 entailment correct:entrailment\n",
            "\n",
            " T->H other correct:entrailment\n",
            " T->H1 entailment correct:entrailment\n",
            " T->H2 other correct:other\n",
            "\n",
            " T->H entailment correct:entrailment\n",
            " T->H1 entailment correct:other\n",
            " T->H2 entailment correct:other\n",
            "\n"
          ]
        }
      ],
      "source": [
        "T = \"Tim managed to stop the car\"\n",
        "H = \"Tim stopped the car\"\n",
        "H1 = \"Tim tried to stop the car\"\n",
        "H2 = \"Tim did something to the car\"\n",
        "H3 = \"the color of the cor is blue\"\n",
        "H4 = \"car is not moving any more\"\n",
        "print(\" T->H\",predict (T,H,threshold),\"correct:entrailment\\n\",\"T->H1\",predict (T,H1,threshold),\"correct:entrailment\\n\",\"T->H2\",predict (T,H2,threshold),\"correct:entrailment\\n\",\n",
        "      \"T->H3\",predict (T,H3,threshold),\"correct:other\\n\",\"T->H4\",predict (T,H4,threshold),\"correct:entrailment\\n\",)\n",
        "\n",
        "\n",
        "T = \"Tim has bought fish tonight\"\n",
        "H = \"Tim has spent money\"\n",
        "H1 = \"Tim has bought something\"\n",
        "H2 = \"Tim Is relaxed and happy!\"\n",
        "print(\" T->H\",predict (T,H,threshold),\"correct:entrailment\\n\",\"T->H1\",predict (T,H1,threshold),\"correct:entrailment\\n\",\"T->H2\",predict (T,H2,threshold),\"correct:other\\n\",)\n",
        "\n",
        "\n",
        "T = \"A girl playing a violin along with a group of people\"\n",
        "H = \"A girl is playing an instrument.\"\n",
        "H1 = \"A girl is playing outdoor alone\"\n",
        "H2 = \"A girl is playing volleyball with other groups of people\"\n",
        "print(\" T->H\",predict (T,H,threshold),\"correct:entrailment\\n\",\"T->H1\",predict (T,H1,threshold),\"correct:other\\n\",\"T->H2\",predict (T,H2,threshold),\"correct:other\\n\",)"
      ]
    },
    {
      "cell_type": "markdown",
      "metadata": {
        "id": "6CoU2Yqq73i9"
      },
      "source": [
        "# Third Approach, Modified Lev. Distance"
      ]
    },
    {
      "cell_type": "code",
      "execution_count": null,
      "metadata": {
        "id": "MfpSAXQ0L0db"
      },
      "outputs": [],
      "source": [
        "def editDistance(a,b):\n",
        "  remove_cost = 3\n",
        "  insert_cost = 3\n",
        "  swap_cost = 2\n",
        "  substitude_cost = 5\n",
        "  cost = 0\n",
        "  if len(b) < len(a):\n",
        "    difference = (len(a) - len(b))\n",
        "    cost += (remove_cost * difference)\n",
        "    a = a[:-difference]\n",
        "  elif len(b) > len(a):\n",
        "    difference = (len(b) - len(a))\n",
        "    cost += (insert_cost * difference)\n",
        "    a = a + b[-difference:]\n",
        "  for index in range(len(b)):\n",
        "    if a[index] != b[index]:\n",
        "      if index != len(b)-1 and index != 0:\n",
        "         if a[index + 1] == b[index]:\n",
        "           cost += swap_cost\n",
        "           a = a[:index]+a[index+1]+a[index]+a[index+2:]\n",
        "         elif a[index - 1] == b[index]:\n",
        "           cost += swap_cost\n",
        "           a = a[:index-1]+a[index-1]+a[index]+a[index+1:]\n",
        "      else:\n",
        "        cost += substitude_cost\n",
        "        a = a[:index]+b[index]+a[index+1:]\n",
        "  return cost\n",
        "\n",
        "\n",
        "def predict(T,H):\n",
        "  sentence_one = \"\".join(normalizedTokenizer(T))\n",
        "  sentence_two = \"\".join(normalizedTokenizer(H))\n",
        "  ed_TH = editDistance(sentence_one,sentence_two)\n",
        "  ed_HT = editDistance(sentence_two,sentence_one)\n",
        "  if ed_TH < ed_HT:\n",
        "    return \"entailment\"\n",
        "  else:\n",
        "    return \"other\""
      ]
    },
    {
      "cell_type": "code",
      "execution_count": null,
      "metadata": {
        "id": "ngfQJRJ5QKsz"
      },
      "outputs": [],
      "source": [
        "def evaluation():\n",
        "  tp = fp = fn = tn = 0\n",
        "  for index in range(len(test)):\n",
        "    prediction = predict(test.sentence1[index],test.sentence2[index])\n",
        "    actualLable = test.gold_label[index]\n",
        "    if actualLable == \"entailment\":\n",
        "      if prediction == \"entailment\":\n",
        "        tp +=1\n",
        "      else:\n",
        "        fn +=1\n",
        "    else:\n",
        "        if prediction == \"other\":\n",
        "          tn+=1\n",
        "        else:\n",
        "            fp+=1\n",
        "  return {\"Accuracy\":round( (tp+tn) / (tp+tn+fp+fn),2),\"Percision\":round(tp/(tp+fp),2),\"Recall\":round(tp/(tp+fn),2)}"
      ]
    },
    {
      "cell_type": "code",
      "execution_count": null,
      "metadata": {
        "colab": {
          "base_uri": "https://localhost:8080/"
        },
        "id": "3k65Jb3GcAPL",
        "outputId": "ae7f94e3-80ad-4fb7-bcac-d6feaf60407e"
      },
      "outputs": [
        {
          "output_type": "execute_result",
          "data": {
            "text/plain": [
              "{'Accuracy': 0.57, 'Percision': 0.21, 'Recall': 0.05}"
            ]
          },
          "metadata": {},
          "execution_count": 18
        }
      ],
      "source": [
        "#{'Accuracy': 0.57, 'Percision': 0.21, 'Recall': 0.05}\n",
        "evaluation()"
      ]
    },
    {
      "cell_type": "code",
      "execution_count": null,
      "metadata": {
        "colab": {
          "base_uri": "https://localhost:8080/"
        },
        "id": "1Bh4ZnA2jxqx",
        "outputId": "48af98b9-44c1-4a0e-96b9-05a4c1e44237"
      },
      "outputs": [
        {
          "output_type": "stream",
          "name": "stdout",
          "text": [
            " T->H other correct:entrailment\n",
            " T->H1 other correct:entrailment\n",
            " T->H2 other correct:entrailment\n",
            " T->H3 other correct:other\n",
            " T->H4 other correct:entrailment\n",
            "\n",
            " T->H other correct:entrailment\n",
            " T->H1 other correct:entrailment\n",
            " T->H2 other correct:other\n",
            "\n",
            " T->H other correct:entrailment\n",
            " T->H1 entailment correct:other\n",
            " T->H2 other correct:other\n",
            "\n"
          ]
        }
      ],
      "source": [
        "T = \"Tim managed to stop the car\"\n",
        "H = \"Tim stopped the car\"\n",
        "H1 = \"Tim tried to stop the car\"\n",
        "H2 = \"Tim did something to the car\"\n",
        "H3 = \"the color of the cor is blue\"\n",
        "H4 = \"car is not moving any more\"\n",
        "print(\" T->H\",predict (T,H),\"correct:entrailment\\n\",\"T->H1\",predict (T,H1),\"correct:entrailment\\n\",\"T->H2\",predict (T,H2),\"correct:entrailment\\n\",\n",
        "      \"T->H3\",predict (T,H3),\"correct:other\\n\",\"T->H4\",predict (T,H4),\"correct:entrailment\\n\",)\n",
        "\n",
        "\n",
        "T = \"Tim has bought fish tonight\"\n",
        "H = \"Tim has spent money\"\n",
        "H1 = \"Tim has bought something\"\n",
        "H2 = \"Tim Is relaxed and happy!\"\n",
        "print(\" T->H\",predict (T,H),\"correct:entrailment\\n\",\"T->H1\",predict (T,H1),\"correct:entrailment\\n\",\"T->H2\",predict (T,H2),\"correct:other\\n\",)\n",
        "\n",
        "\n",
        "T = \"A girl playing a violin along with a group of people\"\n",
        "H = \"A girl is playing an instrument.\"\n",
        "H1 = \"A girl is playing outdoor alone\"\n",
        "H2 = \"A girl is playing volleyball with other groups of people\"\n",
        "print(\" T->H\",predict (T,H),\"correct:entrailment\\n\",\"T->H1\",predict (T,H1),\"correct:other\\n\",\"T->H2\",predict (T,H2),\"correct:other\\n\",)"
      ]
    },
    {
      "cell_type": "markdown",
      "metadata": {
        "id": "a86lFNF-LBM5"
      },
      "source": [
        "# Fourth Approach, SVM and GaussianNB"
      ]
    },
    {
      "cell_type": "code",
      "execution_count": null,
      "metadata": {
        "id": "Q3v3D9YhEY9G"
      },
      "outputs": [],
      "source": [
        "def tagsDifference(T,H):\n",
        "  counter = 0\n",
        "  sentence_one = spacy(T)\n",
        "  sentence_two = spacy(H)\n",
        "  tags_T = []\n",
        "  tags_H = []\n",
        "  for token in sentence_one:\n",
        "    tags_T.append(token.tag_)\n",
        "  for token in sentence_two:\n",
        "    tags_H.append(token.tag_)  \n",
        "  for tag in tags_H:\n",
        "    if tag in tags_T:\n",
        "      tags_T.remove(tag)\n",
        "      counter +=1\n",
        "  return counter / len(tags_H)\n",
        "\n",
        "\n",
        "\n",
        "def tagsSimilarity(T,H):\n",
        "  \n",
        "  sentence_one = spacy(T)\n",
        "  sentence_two = spacy(H)\n",
        "  tags_T = []\n",
        "  tags_H = []\n",
        "  for token in sentence_one:\n",
        "    tags_T.append(token.tag_)\n",
        "  for token in sentence_two:\n",
        "    tags_H.append(token.tag_)  \n",
        "\n",
        "  bow = generateBagOfWord([\" \".join(tags_T),\" \".join(tags_H)])\n",
        "  data = (pd.DataFrame(bow).fillna(0, inplace=False).T).values\n",
        "  similarity = cosine_similarity(data[0].reshape(1, -1),data[1].reshape(1, -1)).flatten()[0]\n",
        "  return similarity"
      ]
    },
    {
      "cell_type": "code",
      "execution_count": null,
      "metadata": {
        "id": "fIU9aUOAcube"
      },
      "outputs": [],
      "source": [
        "def generateData(T,H):\n",
        "  vector = []\n",
        "  bow = generateBagOfWord([T,H])\n",
        "  data = (pd.DataFrame(bow).fillna(0, inplace=False).T).values\n",
        "  similarity = cosine_similarity(data[0].reshape(1, -1),data[1].reshape(1, -1)).flatten()[0]\n",
        "\n",
        "  sentence_one = normalizedTokenizer(T)\n",
        "  sentence_two = normalizedTokenizer(H)\n",
        "  c = len([x for x in sentence_one if x in sentence_two])\n",
        "  cos_T = np.sqrt(c/len(sentence_one))\n",
        "  cos_H = np.sqrt(c/len(sentence_two))\n",
        "  cos_HT = np.sqrt( (4*np.power(c,2)) / ( (len(sentence_two)+c) * (len(sentence_one)+c) ) )\n",
        "\n",
        "  sentence_one = \"\".join(normalizedTokenizer(T))\n",
        "  sentence_two = \"\".join(normalizedTokenizer(H))\n",
        "  ed_TH = editDistance(sentence_one,sentence_two)\n",
        "  ed_HT = editDistance(sentence_two,sentence_one)\n",
        "\n",
        "  vector.append(similarity)\n",
        "  vector.append(cos_T)\n",
        "  vector.append(cos_H)\n",
        "  vector.append(cos_HT)\n",
        "  vector.append(ed_HT - ed_TH)\n",
        "  vector.append(tagsDifference(T,H))\n",
        "  vector.append(tagsSimilarity(T,H))\n",
        "  vector.append(np.sqrt(tagsSimilarity(T,H)))\n",
        "  return vector\n",
        "\n",
        "\n",
        "def getX_Y(dataset):\n",
        "  x = []\n",
        "  y = []\n",
        "  for index in tqdm(range(len(dataset))):\n",
        "    try:\n",
        "      x.append(generateData(dataset.sentence1[index], dataset.sentence2[index]))\n",
        "      if dataset.gold_label[index] == \"entailment\":\n",
        "        y.append(1)\n",
        "      else:\n",
        "        y.append(0)\n",
        "    except:\n",
        "      pass\n",
        "  return x,y"
      ]
    },
    {
      "cell_type": "code",
      "execution_count": null,
      "metadata": {
        "colab": {
          "base_uri": "https://localhost:8080/",
          "height": 81,
          "referenced_widgets": [
            "7af399aec45240c2becaa96e73c7d91a",
            "38d3a7a3af184674966ac62d8f19317d",
            "caf67ea06a2948f9813e7f844bfd7d48",
            "59cb49a868a84b53a16c7e8d75ac9dab",
            "7872e331b3e04773917901e62fa4509d",
            "329df68b993e402bbc2d91f43761a7a5",
            "c2400863b94140f7b99400a1023c43fe",
            "a314adce4dc04ca49845ebca5f045ee1",
            "147c3cb36df849c785c1690e59c17deb",
            "6a0a7331ab6542f2b002cd0b4b97fb99",
            "8059587eee4b4e6684746c5b0048256e",
            "ce66ce31363249e4ba8440374306dcaf",
            "581739f103154613b591e89db52ef261",
            "541b2a4aed384c89bd4532ceb86fb529",
            "8adfbc69170547e897135bec00062f80",
            "34ed7cc9b28940f89f711efec55f78c2",
            "62f55830471147e899776db563333f55",
            "7a79440263a24752858b4610a25fb8f1",
            "e4b7bb6ab5a6446aa662f154e84014b8",
            "cac01f47353f49f5b612d440acae236c",
            "88a2846374f94c45acae2e435a2aac6a",
            "8ce0e6fc80b24d93ba2de4417044e49a"
          ]
        },
        "id": "pATMrKn1ArJt",
        "outputId": "388905d6-94c2-4e2d-80b6-94f4b2593a90"
      },
      "outputs": [
        {
          "output_type": "display_data",
          "data": {
            "text/plain": [
              "  0%|          | 0/20000 [00:00<?, ?it/s]"
            ],
            "application/vnd.jupyter.widget-view+json": {
              "version_major": 2,
              "version_minor": 0,
              "model_id": "7af399aec45240c2becaa96e73c7d91a"
            }
          },
          "metadata": {}
        },
        {
          "output_type": "display_data",
          "data": {
            "text/plain": [
              "  0%|          | 0/3000 [00:00<?, ?it/s]"
            ],
            "application/vnd.jupyter.widget-view+json": {
              "version_major": 2,
              "version_minor": 0,
              "model_id": "ce66ce31363249e4ba8440374306dcaf"
            }
          },
          "metadata": {}
        }
      ],
      "source": [
        "X,Y = getX_Y(train)\n",
        "X_test,Y_test = getX_Y(test)"
      ]
    },
    {
      "cell_type": "code",
      "execution_count": null,
      "metadata": {
        "id": "Xvm8Rjo9SRe5"
      },
      "outputs": [],
      "source": [
        "#---------------------Store prepared Data--------------------------------\n",
        "with open('./drive/MyDrive/ColabData/X_train.data', 'wb') as f:\n",
        "        pickle.dump(X, f)\n",
        "\n",
        "with open('./drive/MyDrive/ColabData/Y_train.data', 'wb') as f:\n",
        "        pickle.dump(Y, f)\n",
        "\n",
        "with open('./drive/MyDrive/ColabData/X_test.data', 'wb') as f:\n",
        "        pickle.dump(X_test, f)\n",
        "\n",
        "with open('./drive/MyDrive/ColabData/Y_test.data', 'wb') as f:\n",
        "        pickle.dump(Y_test, f)"
      ]
    },
    {
      "cell_type": "code",
      "execution_count": null,
      "metadata": {
        "id": "lViTtrkASciC"
      },
      "outputs": [],
      "source": [
        "#---------------------Load prepared Data--------------------------------\n",
        "with open('./drive/MyDrive/ColabData/X_train.data', 'rb') as f:\n",
        "        X = pickle.load(f)\n",
        "\n",
        "with open('./drive/MyDrive/ColabData/Y_train.data', 'rb') as f:\n",
        "        Y = pickle.load(f)\n",
        "\n",
        "with open('./drive/MyDrive/ColabData/X_test.data', 'rb') as f:\n",
        "        X_test = pickle.load(f)\n",
        "\n",
        "with open('./drive/MyDrive/ColabData/Y_test.data', 'rb') as f:\n",
        "        Y_test = pickle.load(f)"
      ]
    },
    {
      "cell_type": "markdown",
      "metadata": {
        "id": "cGU3TMB5CLzq"
      },
      "source": [
        "**SVM**"
      ]
    },
    {
      "cell_type": "code",
      "execution_count": null,
      "metadata": {
        "id": "3V9kI8Wde62i"
      },
      "outputs": [],
      "source": [
        "def clf_model():\n",
        "  clf = svm.SVC(kernel = 'rbf', C = 200, gamma = 200)\n",
        "  clf.fit(X,Y)\n",
        "  return clf\n",
        "\n",
        "model_SVM = clf_model()"
      ]
    },
    {
      "cell_type": "code",
      "execution_count": null,
      "metadata": {
        "id": "JQQOzC7io1G5"
      },
      "outputs": [],
      "source": [
        "def predict(T,H):\n",
        "  test = [generateData(T,H)]\n",
        "  if model_SVM.predict(test)[0] == 1:\n",
        "      return \"entailment\"\n",
        "  else:\n",
        "      return \"other\"\n",
        "\n",
        "def evaluate():\n",
        "  tp = fp = fn = tn = 0\n",
        "  for index in tqdm(range(len(test))):\n",
        "\n",
        "    prediction =model_SVM.predict( [X_test[index]] )[0]\n",
        "    actualLable = Y_test[index]\n",
        "    if actualLable == 1:\n",
        "      if prediction == 1:\n",
        "        tp +=1\n",
        "      else:\n",
        "        fn +=1\n",
        "    else:\n",
        "        if prediction == 0:\n",
        "          tn+=1\n",
        "        else:\n",
        "            fp+=1\n",
        "  return {\"Accuracy\":round( (tp+tn) / (tp+tn+fp+fn),2),\"Percision\":round(tp/(tp+fp),2),\"Recall\":round(tp/(tp+fn),2)}"
      ]
    },
    {
      "cell_type": "code",
      "execution_count": null,
      "metadata": {
        "colab": {
          "base_uri": "https://localhost:8080/",
          "height": 67,
          "referenced_widgets": [
            "6f786ab2b57f4385936ed902f2dbce6d",
            "0d48392731a345d79087550ea06cf7cd",
            "0d4dfdd93600431298179f7dc217a18d",
            "27c82eb916c8407caa008d57668a3b7f",
            "f7dc4e6f7e944605bcb26abf04020977",
            "165664192cc94ee4b0c0a7262e29f8b0",
            "9573b628de024af98bb4fddc351b4b87",
            "a17e7a26abee4af6873286c09fab04a1",
            "6bab7cf7b5bb4780bd2923bee88410e9",
            "b03c95febb404da890005d003ba02175",
            "6712db1e4b4e416cb3727bcd719a0331"
          ]
        },
        "id": "2F8VH9DYSqK0",
        "outputId": "2c48f353-4cf0-4159-eec1-b42de713bebb"
      },
      "outputs": [
        {
          "output_type": "display_data",
          "data": {
            "text/plain": [
              "  0%|          | 0/3000 [00:00<?, ?it/s]"
            ],
            "application/vnd.jupyter.widget-view+json": {
              "version_major": 2,
              "version_minor": 0,
              "model_id": "6f786ab2b57f4385936ed902f2dbce6d"
            }
          },
          "metadata": {}
        },
        {
          "output_type": "execute_result",
          "data": {
            "text/plain": [
              "{'Accuracy': 0.83, 'Percision': 0.8, 'Recall': 0.75}"
            ]
          },
          "metadata": {},
          "execution_count": 27
        }
      ],
      "source": [
        "#{'Accuracy': 0.83, 'Percision': 0.8, 'Recall': 0.75}  C = 10 gamma = 200 and 1 epoch\n",
        "evaluate() "
      ]
    },
    {
      "cell_type": "code",
      "execution_count": null,
      "metadata": {
        "colab": {
          "base_uri": "https://localhost:8080/"
        },
        "id": "eYY480YKSyPU",
        "outputId": "28ae8b91-cc14-4e9c-9189-d63331a2226d"
      },
      "outputs": [
        {
          "output_type": "stream",
          "name": "stdout",
          "text": [
            " T->H entailment correct:entrailment\n",
            " T->H1 other correct:entrailment\n",
            " T->H2 entailment correct:entrailment\n",
            " T->H3 other correct:other\n",
            " T->H4 other correct:entrailment\n",
            "\n",
            " T->H entailment correct:entrailment\n",
            " T->H1 entailment correct:entrailment\n",
            " T->H2 other correct:other\n",
            "\n",
            " T->H other correct:entrailment\n",
            " T->H1 other correct:other\n",
            " T->H2 other correct:other\n",
            "\n"
          ]
        }
      ],
      "source": [
        "T = \"Tim managed to stop the car\"\n",
        "H = \"Tim stopped the car\"\n",
        "H1 = \"Tim tried to stop the car\"\n",
        "H2 = \"Tim did something to the car\"\n",
        "H3 = \"the color of the cor is blue\"\n",
        "H4 = \"car is not moving any more\"\n",
        "print(\" T->H\",predict (T,H),\"correct:entrailment\\n\",\"T->H1\",predict (T,H1),\"correct:entrailment\\n\",\"T->H2\",predict (T,H2),\"correct:entrailment\\n\",\n",
        "      \"T->H3\",predict (T,H3),\"correct:other\\n\",\"T->H4\",predict (T,H4),\"correct:entrailment\\n\",)\n",
        "\n",
        "\n",
        "T = \"Tim has bought fish tonight\"\n",
        "H = \"Tim has spent money tonight\"\n",
        "H1 = \"Tim has bought something\"\n",
        "H2 = \"Tim Is relaxed and happy!\"\n",
        "print(\" T->H\",predict (T,H),\"correct:entrailment\\n\",\"T->H1\",predict (T,H1),\"correct:entrailment\\n\",\"T->H2\",predict (T,H2),\"correct:other\\n\",)\n",
        "\n",
        "\n",
        "T = \"A girl playing a violin along with a group of people\"\n",
        "H = \"A girl is playing an instrument.\"\n",
        "H1 = \"A girl is playing outdoor alone\"\n",
        "H2 = \"A girl is playing volleyball with other groups of people\"\n",
        "print(\" T->H\",predict (T,H),\"correct:entrailment\\n\",\"T->H1\",predict (T,H1),\"correct:other\\n\",\"T->H2\",predict (T,H2),\"correct:other\\n\",)"
      ]
    },
    {
      "cell_type": "markdown",
      "metadata": {
        "id": "o5hfqGdjoiqC"
      },
      "source": [
        "**GaussianNB Classifier**"
      ]
    },
    {
      "cell_type": "code",
      "execution_count": null,
      "metadata": {
        "id": "OHLjuCqjB5fz"
      },
      "outputs": [],
      "source": [
        "def clf_model():\n",
        "  clf = GaussianNB(var_smoothing= 1e-3)\n",
        "  clf.fit(X,Y)\n",
        "  return clf\n",
        "\n",
        "model_NB = clf_model()"
      ]
    },
    {
      "cell_type": "code",
      "execution_count": null,
      "metadata": {
        "id": "rOh13SBNCCmi"
      },
      "outputs": [],
      "source": [
        "def predict(T,H):\n",
        "  test = [generateData(T,H)]\n",
        "  if model_NB.predict(test)[0] == 1:\n",
        "      return \"entailment\"\n",
        "  else:\n",
        "      return \"other\"\n",
        "\n",
        "def evaluate():\n",
        "  tp = fp = fn = tn = 0\n",
        "  for index in tqdm(range(len(test))):\n",
        "    prediction = model_NB.predict( [X_test[index]] )[0]\n",
        "    actualLable = Y_test[index]\n",
        "    if actualLable == 1:\n",
        "      if prediction == 1:\n",
        "        tp +=1\n",
        "      else:\n",
        "        fn +=1\n",
        "    else:\n",
        "        if prediction == 0:\n",
        "          tn+=1\n",
        "        else:\n",
        "            fp+=1\n",
        "  return {\"Accuracy\":round( (tp+tn) / (tp+tn+fp+fn),2),\"Percision\":round(tp/(tp+fp),2),\"Recall\":round(tp/(tp+fn),2)}"
      ]
    },
    {
      "cell_type": "code",
      "execution_count": null,
      "metadata": {
        "colab": {
          "base_uri": "https://localhost:8080/",
          "height": 67,
          "referenced_widgets": [
            "9d90ade0466b434ab019763921bb9cf4",
            "5cf2c432dd914a41b969f5e4b19fe716",
            "79eddc055fa847ab8bdf8679fccc4cf4",
            "6072d084ee4840e1a4b2e941e8ee88ea",
            "21270ee0e49c41fc93bb47da489c3b3b",
            "af2cd06962c3410090f18bbc29b295b9",
            "8b045f37cf80485c861d7a065bec107a",
            "5daf6584e54244658aac2fc27f711246",
            "98315bf94ca04454b178e8abbd5d8993",
            "9057f415e9ab47bcb534406f5493765d",
            "3b5e10e8004549d797de668565674405"
          ]
        },
        "id": "JbuVbJZsCPlr",
        "outputId": "6e9226f9-d647-4b45-f80a-7e1d3a69febf"
      },
      "outputs": [
        {
          "output_type": "display_data",
          "data": {
            "text/plain": [
              "  0%|          | 0/3000 [00:00<?, ?it/s]"
            ],
            "application/vnd.jupyter.widget-view+json": {
              "version_major": 2,
              "version_minor": 0,
              "model_id": "9d90ade0466b434ab019763921bb9cf4"
            }
          },
          "metadata": {}
        },
        {
          "output_type": "execute_result",
          "data": {
            "text/plain": [
              "{'Accuracy': 0.66, 'Percision': 0.54, 'Recall': 0.64}"
            ]
          },
          "metadata": {},
          "execution_count": 31
        }
      ],
      "source": [
        "#{'Accuracy': 0.66, 'Percision': 0.54, 'Recall': 0.64}\n",
        "evaluate()"
      ]
    },
    {
      "cell_type": "code",
      "execution_count": null,
      "metadata": {
        "colab": {
          "base_uri": "https://localhost:8080/"
        },
        "id": "bJagg_t-CZGM",
        "outputId": "f34d62a2-b28a-4a0b-e328-6ece5f312587"
      },
      "outputs": [
        {
          "output_type": "stream",
          "name": "stdout",
          "text": [
            " T->H entailment correct:entrailment\n",
            " T->H1 entailment correct:entrailment\n",
            " T->H2 entailment correct:entrailment\n",
            " T->H3 other correct:other\n",
            " T->H4 other correct:entrailment\n",
            "\n",
            " T->H other correct:entrailment\n",
            " T->H1 entailment correct:entrailment\n",
            " T->H2 other correct:other\n",
            "\n",
            " T->H entailment correct:entrailment\n",
            " T->H1 other correct:other\n",
            " T->H2 entailment correct:other\n",
            "\n"
          ]
        }
      ],
      "source": [
        "T = \"Tim managed to stop the car\"\n",
        "H = \"Tim stopped the car\"\n",
        "H1 = \"Tim tried to stop the car\"\n",
        "H2 = \"Tim did something to the car\"\n",
        "H3 = \"the color of the cor is blue\"\n",
        "H4 = \"car is not moving any more\"\n",
        "print(\" T->H\",predict (T,H),\"correct:entrailment\\n\",\"T->H1\",predict (T,H1),\"correct:entrailment\\n\",\"T->H2\",predict (T,H2),\"correct:entrailment\\n\",\n",
        "      \"T->H3\",predict (T,H3),\"correct:other\\n\",\"T->H4\",predict (T,H4),\"correct:entrailment\\n\",)\n",
        "\n",
        "\n",
        "T = \"Tim has bought fish tonight\"\n",
        "H = \"Tim has spent money\"\n",
        "H1 = \"Tim has bought something\"\n",
        "H2 = \"Tim Is relaxed and happy!\"\n",
        "print(\" T->H\",predict (T,H),\"correct:entrailment\\n\",\"T->H1\",predict (T,H1),\"correct:entrailment\\n\",\"T->H2\",predict (T,H2),\"correct:other\\n\",)\n",
        "\n",
        "\n",
        "T = \"A girl playing a violin along with a group of people\"\n",
        "H = \"A girl is playing an instrument.\"\n",
        "H1 = \"A girl is playing outdoor alone\"\n",
        "H2 = \"A girl is playing volleyball with other groups of people\"\n",
        "print(\" T->H\",predict (T,H),\"correct:entrailment\\n\",\"T->H1\",predict (T,H1),\"correct:other\\n\",\"T->H2\",predict (T,H2),\"correct:other\\n\",)"
      ]
    },
    {
      "cell_type": "markdown",
      "metadata": {
        "id": "v-QAEPt4v_zK"
      },
      "source": [
        "**Decision Tree classifier**"
      ]
    },
    {
      "cell_type": "code",
      "execution_count": null,
      "metadata": {
        "id": "-9kFoD_zwLFB"
      },
      "outputs": [],
      "source": [
        "def clf_model():\n",
        "  clf = DecisionTreeClassifier()\n",
        "  clf.fit(X,Y)\n",
        "  return clf\n",
        "\n",
        "model_DTC = clf_model()"
      ]
    },
    {
      "cell_type": "code",
      "execution_count": null,
      "metadata": {
        "id": "kbY8qv7Ew76i"
      },
      "outputs": [],
      "source": [
        "def predict(T,H):\n",
        "  test = [generateData(T,H)]\n",
        "  if model_DTC.predict(test)[0] == 1:\n",
        "      return \"entailment\"\n",
        "  else:\n",
        "      return \"other\"\n",
        "\n",
        "\n",
        "def evaluate():\n",
        "  tp = fp = fn = tn = 0\n",
        "  for index in tqdm(range(len(test))):\n",
        "    prediction = model_DTC.predict( [X_test[index]] )[0]\n",
        "    actualLable = Y_test[index]\n",
        "    if actualLable == 1:\n",
        "      if prediction == 1:\n",
        "        tp +=1\n",
        "      else:\n",
        "        fn +=1\n",
        "    else:\n",
        "        if prediction == 0:\n",
        "          tn+=1\n",
        "        else:\n",
        "            fp+=1\n",
        "  return {\"Accuracy\":round( (tp+tn) / (tp+tn+fp+fn),2),\"Percision\":round(tp/(tp+fp),2),\"Recall\":round(tp/(tp+fn),2)}"
      ]
    },
    {
      "cell_type": "code",
      "execution_count": null,
      "metadata": {
        "colab": {
          "base_uri": "https://localhost:8080/",
          "height": 67,
          "referenced_widgets": [
            "67fde2bcfd61462b99bf94f6dcec4035",
            "0bf03843959a45809c455f5ffe53fbf2",
            "28e9c049e03c4d789c0c63006c59943a",
            "0cbb96fff8d84bc9ab2e7b178ffd31e2",
            "17f086e8ff8348a3b78e2fa1228f17ea",
            "d039e744d4dd4cf5bfe006305f177ed6",
            "4e501449e7e44d0ab9fc60e3f29beb0e",
            "c65e14064e0040af8b22ffa1166b28ec",
            "aecc4a878a2143f38b5ee6de55ae514d",
            "c48d0507f49641f59c8a7bc19115d76f",
            "a5953acdbfc344468572baed0c45bab7"
          ]
        },
        "id": "u_fl6Rh7xHIy",
        "outputId": "9e889a60-8097-4020-cfea-ceaa21ad1a78"
      },
      "outputs": [
        {
          "output_type": "display_data",
          "data": {
            "text/plain": [
              "  0%|          | 0/3000 [00:00<?, ?it/s]"
            ],
            "application/vnd.jupyter.widget-view+json": {
              "version_major": 2,
              "version_minor": 0,
              "model_id": "67fde2bcfd61462b99bf94f6dcec4035"
            }
          },
          "metadata": {}
        },
        {
          "output_type": "execute_result",
          "data": {
            "text/plain": [
              "{'Accuracy': 0.87, 'Percision': 0.85, 'Recall': 0.81}"
            ]
          },
          "metadata": {},
          "execution_count": 35
        }
      ],
      "source": [
        "#{'Accuracy': 0.87, 'Percision': 0.85, 'Recall': 0.81}\n",
        "evaluate() "
      ]
    },
    {
      "cell_type": "code",
      "execution_count": null,
      "metadata": {
        "colab": {
          "base_uri": "https://localhost:8080/"
        },
        "id": "VQGho_rKxKZH",
        "outputId": "5497d424-3bd4-4870-c956-4cbc80f56a12"
      },
      "outputs": [
        {
          "output_type": "stream",
          "name": "stdout",
          "text": [
            " T->H entailment correct:entrailment\n",
            " T->H1 other correct:entrailment\n",
            " T->H2 entailment correct:entrailment\n",
            " T->H3 entailment correct:other\n",
            " T->H4 other correct:entrailment\n",
            "\n",
            " T->H other correct:entrailment\n",
            " T->H1 other correct:entrailment\n",
            " T->H2 entailment correct:other\n",
            "\n",
            " T->H other correct:entrailment\n",
            " T->H1 entailment correct:other\n",
            " T->H2 other correct:other\n",
            "\n"
          ]
        }
      ],
      "source": [
        "T = \"Tim managed to stop the car\"\n",
        "H = \"Tim stopped the car\"\n",
        "H1 = \"Tim tried to stop the car\"\n",
        "H2 = \"Tim did something to the car\"\n",
        "H3 = \"the color of the cor is blue\"\n",
        "H4 = \"car is not moving any more\"\n",
        "print(\" T->H\",predict (T,H),\"correct:entrailment\\n\",\"T->H1\",predict (T,H1),\"correct:entrailment\\n\",\"T->H2\",predict (T,H2),\"correct:entrailment\\n\",\n",
        "      \"T->H3\",predict (T,H3),\"correct:other\\n\",\"T->H4\",predict (T,H4),\"correct:entrailment\\n\",)\n",
        "\n",
        "\n",
        "T = \"Tim has bought fish tonight\"\n",
        "H = \"Tim has spent money\"\n",
        "H1 = \"Tim has bought something\"\n",
        "H2 = \"Tim Is relaxed and happy!\"\n",
        "print(\" T->H\",predict (T,H),\"correct:entrailment\\n\",\"T->H1\",predict (T,H1),\"correct:entrailment\\n\",\"T->H2\",predict (T,H2),\"correct:other\\n\",)\n",
        "\n",
        "\n",
        "T = \"A girl playing a violin along with a group of people\"\n",
        "H = \"A girl is playing an instrument.\"\n",
        "H1 = \"A girl is playing outdoor alone\"\n",
        "H2 = \"A girl is playing volleyball with other groups of people\"\n",
        "print(\" T->H\",predict (T,H),\"correct:entrailment\\n\",\"T->H1\",predict (T,H1),\"correct:other\\n\",\"T->H2\",predict (T,H2),\"correct:other\\n\",)"
      ]
    },
    {
      "cell_type": "markdown",
      "metadata": {
        "id": "ZtmHq9nPy4Vc"
      },
      "source": [
        "**AdaBoost Classifier**"
      ]
    },
    {
      "cell_type": "code",
      "execution_count": null,
      "metadata": {
        "id": "jzhCmMjmy9xB"
      },
      "outputs": [],
      "source": [
        "def clf_model():\n",
        "  clf = AdaBoostClassifier(n_estimators=10)\n",
        "  clf.fit(X,Y)\n",
        "  return clf\n",
        "\n",
        "model_Ada = clf_model()"
      ]
    },
    {
      "cell_type": "code",
      "execution_count": null,
      "metadata": {
        "id": "vXwjpVYpzCSW"
      },
      "outputs": [],
      "source": [
        "def predict(T,H):\n",
        "  test = [generateData(T,H)]\n",
        "  if model_Ada.predict(test)[0] == 1:\n",
        "      return \"entailment\"\n",
        "  else:\n",
        "      return \"other\"\n",
        "\n",
        "def evaluate():\n",
        "  tp = fp = fn = tn = 0\n",
        "  for index in tqdm(range(len(test))):\n",
        "    prediction = model_Ada.predict( [X_test[index]] )[0]\n",
        "    actualLable = Y_test[index]\n",
        "    if actualLable == 1:\n",
        "      if prediction == 1:\n",
        "        tp +=1\n",
        "      else:\n",
        "        fn +=1\n",
        "    else:\n",
        "        if prediction == 0:\n",
        "          tn+=1\n",
        "        else:\n",
        "            fp+=1\n",
        "  return {\"Accuracy\":round( (tp+tn) / (tp+tn+fp+fn),2),\"Percision\":round(tp/(tp+fp),2),\"Recall\":round(tp/(tp+fn),2)}"
      ]
    },
    {
      "cell_type": "code",
      "execution_count": null,
      "metadata": {
        "colab": {
          "base_uri": "https://localhost:8080/",
          "height": 67,
          "referenced_widgets": [
            "51e90acaaf1b4db188dbfa41354f2f65",
            "ed5f7a77d8b14f169e141e1858db38de",
            "2b0d072114e94de184a811929308a541",
            "df2062b37b5e4f879d4219dedb368f23",
            "e457c48aac7e44d492d9a14e2a50713b",
            "8bfb80bc61f34896a01caff3b12e249a",
            "b1876b0ea7ed442eb837462fbcf9c303",
            "d305e293d0c44e58a26a9c19afd777e5",
            "08db019bf174454b8898f51ce004073b",
            "1770843e160a4424a02f759d8f996f1e",
            "08816f6642ff4f579dd0a4b6a3e21a1c"
          ]
        },
        "id": "4mz0uikPzJBa",
        "outputId": "451f0681-7591-48d9-cf52-eea6b1d8be02"
      },
      "outputs": [
        {
          "output_type": "display_data",
          "data": {
            "text/plain": [
              "  0%|          | 0/3000 [00:00<?, ?it/s]"
            ],
            "application/vnd.jupyter.widget-view+json": {
              "version_major": 2,
              "version_minor": 0,
              "model_id": "51e90acaaf1b4db188dbfa41354f2f65"
            }
          },
          "metadata": {}
        },
        {
          "output_type": "execute_result",
          "data": {
            "text/plain": [
              "{'Accuracy': 0.71, 'Percision': 0.67, 'Recall': 0.45}"
            ]
          },
          "metadata": {},
          "execution_count": 39
        }
      ],
      "source": [
        "#{'Accuracy': 0.71, 'Percision': 0.67, 'Recall': 0.45}\n",
        "evaluate() "
      ]
    },
    {
      "cell_type": "code",
      "execution_count": null,
      "metadata": {
        "colab": {
          "base_uri": "https://localhost:8080/"
        },
        "id": "egl69U13zJRO",
        "outputId": "4ff660d1-210f-4e04-c59f-817aca259365"
      },
      "outputs": [
        {
          "output_type": "stream",
          "name": "stdout",
          "text": [
            " T->H entailment correct:entrailment\n",
            " T->H1 entailment correct:entrailment\n",
            " T->H2 other correct:entrailment\n",
            " T->H3 other correct:other\n",
            " T->H4 other correct:entrailment\n",
            "\n",
            " T->H other correct:entrailment\n",
            " T->H1 entailment correct:entrailment\n",
            " T->H2 other correct:other\n",
            "\n",
            " T->H other correct:entrailment\n",
            " T->H1 other correct:other\n",
            " T->H2 other correct:other\n",
            "\n"
          ]
        }
      ],
      "source": [
        "T = \"Tim managed to stop the car\"\n",
        "H = \"Tim stopped the car\"\n",
        "H1 = \"Tim tried to stop the car\"\n",
        "H2 = \"Tim did something to the car\"\n",
        "H3 = \"the color of the cor is blue\"\n",
        "H4 = \"car is not moving any more\"\n",
        "print(\" T->H\",predict (T,H),\"correct:entrailment\\n\",\"T->H1\",predict (T,H1),\"correct:entrailment\\n\",\"T->H2\",predict (T,H2),\"correct:entrailment\\n\",\n",
        "      \"T->H3\",predict (T,H3),\"correct:other\\n\",\"T->H4\",predict (T,H4),\"correct:entrailment\\n\",)\n",
        "\n",
        "\n",
        "T = \"Tim has bought fish tonight\"\n",
        "H = \"Tim has spent money\"\n",
        "H1 = \"Tim has bought something\"\n",
        "H2 = \"Tim Is relaxed and happy!\"\n",
        "print(\" T->H\",predict (T,H),\"correct:entrailment\\n\",\"T->H1\",predict (T,H1),\"correct:entrailment\\n\",\"T->H2\",predict (T,H2),\"correct:other\\n\",)\n",
        "\n",
        "\n",
        "T = \"A girl playing a violin along with a group of people\"\n",
        "H = \"A girl is playing an instrument.\"\n",
        "H1 = \"A girl is playing outdoor alone\"\n",
        "H2 = \"A girl is playing volleyball with other groups of people\"\n",
        "print(\" T->H\",predict (T,H),\"correct:entrailment\\n\",\"T->H1\",predict (T,H1),\"correct:other\\n\",\"T->H2\",predict (T,H2),\"correct:other\\n\",)"
      ]
    },
    {
      "cell_type": "markdown",
      "metadata": {
        "id": "Vk1odILy0IHH"
      },
      "source": [
        "**MLP Classifier**"
      ]
    },
    {
      "cell_type": "code",
      "execution_count": null,
      "metadata": {
        "id": "WXF44B9A0REL"
      },
      "outputs": [],
      "source": [
        "def clf_model():\n",
        "  clf = MLPClassifier(random_state=50)\n",
        "  clf.fit(X,Y)\n",
        "  return clf\n",
        "\n",
        "model_MLP = clf_model()"
      ]
    },
    {
      "cell_type": "code",
      "execution_count": null,
      "metadata": {
        "id": "j7kPKi7N0T6n"
      },
      "outputs": [],
      "source": [
        "def predict(T,H):\n",
        "  test = [generateData(T,H)]\n",
        "  if model_MLP.predict(test)[0] == 1:\n",
        "      return \"entailment\"\n",
        "  else:\n",
        "      return \"other\"\n",
        "\n",
        "def evaluate():\n",
        "  tp = fp = fn = tn = 0\n",
        "  for index in tqdm(range(len(test))):\n",
        "    prediction = model_MLP.predict( [X_test[index]] )[0]\n",
        "    actualLable = Y_test[index]\n",
        "    if actualLable == 1:\n",
        "      if prediction == 1:\n",
        "        tp +=1\n",
        "      else:\n",
        "        fn +=1\n",
        "    else:\n",
        "        if prediction == 0:\n",
        "          tn+=1\n",
        "        else:\n",
        "            fp+=1\n",
        "  return {\"Accuracy\":round( (tp+tn) / (tp+tn+fp+fn),2),\"Percision\":round(tp/(tp+fp),2),\"Recall\":round(tp/(tp+fn),2)}"
      ]
    },
    {
      "cell_type": "code",
      "execution_count": null,
      "metadata": {
        "colab": {
          "base_uri": "https://localhost:8080/",
          "height": 67,
          "referenced_widgets": [
            "389a48a378154c75a369bcb2f12d80b9",
            "f231ea399a194fd8a9a15c868f496caa",
            "cb670462004946fe921ca38e34cf367d",
            "beacc0d3c9014e1caa635267671383cb",
            "6dc06a8dd2d043e0bbdfe6b573fc4e38",
            "fbe2ea46ee924b4299e1ed75b7ee9bb6",
            "6ac54b6ee2834868b6927b5514e49213",
            "ced69741c84545f1b1e956b08afcfac7",
            "ff9dfc2fe3984c608fc1804c8b3664d7",
            "9bc9e4af58e74dc1b4bc80e88fcf4a91",
            "38655acaad404dd1be6a1e7bd6cf347b"
          ]
        },
        "id": "VyiiaU-00WMW",
        "outputId": "e174f916-ce16-4673-cd80-883828294563"
      },
      "outputs": [
        {
          "output_type": "display_data",
          "data": {
            "text/plain": [
              "  0%|          | 0/3000 [00:00<?, ?it/s]"
            ],
            "application/vnd.jupyter.widget-view+json": {
              "version_major": 2,
              "version_minor": 0,
              "model_id": "389a48a378154c75a369bcb2f12d80b9"
            }
          },
          "metadata": {}
        },
        {
          "output_type": "execute_result",
          "data": {
            "text/plain": [
              "{'Accuracy': 0.71, 'Percision': 0.68, 'Recall': 0.43}"
            ]
          },
          "metadata": {},
          "execution_count": 43
        }
      ],
      "source": [
        "#{'Accuracy': 0.71, 'Percision': 0.68, 'Recall': 0.43}\n",
        "evaluate()"
      ]
    },
    {
      "cell_type": "code",
      "execution_count": null,
      "metadata": {
        "colab": {
          "base_uri": "https://localhost:8080/"
        },
        "id": "L-XxPHHs0ZLH",
        "outputId": "744f8439-463f-4123-cc83-66c9cf23212b"
      },
      "outputs": [
        {
          "output_type": "stream",
          "name": "stdout",
          "text": [
            " T->H entailment correct:entrailment\n",
            " T->H1 entailment correct:entrailment\n",
            " T->H2 other correct:entrailment\n",
            " T->H3 other correct:other\n",
            " T->H4 other correct:entrailment\n",
            "\n",
            " T->H other correct:entrailment\n",
            " T->H1 other correct:entrailment\n",
            " T->H2 other correct:other\n",
            "\n",
            " T->H other correct:entrailment\n",
            " T->H1 other correct:other\n",
            " T->H2 other correct:other\n",
            "\n"
          ]
        }
      ],
      "source": [
        "T = \"Tim managed to stop the car\"\n",
        "H = \"Tim stopped the car\"\n",
        "H1 = \"Tim tried to stop the car\"\n",
        "H2 = \"Tim did something to the car\"\n",
        "H3 = \"the color of the cor is blue\"\n",
        "H4 = \"car is not moving any more\"\n",
        "print(\" T->H\",predict (T,H),\"correct:entrailment\\n\",\"T->H1\",predict (T,H1),\"correct:entrailment\\n\",\"T->H2\",predict (T,H2),\"correct:entrailment\\n\",\n",
        "      \"T->H3\",predict (T,H3),\"correct:other\\n\",\"T->H4\",predict (T,H4),\"correct:entrailment\\n\",)\n",
        "\n",
        "\n",
        "T = \"Tim has bought fish tonight\"\n",
        "H = \"Tim has spent money\"\n",
        "H1 = \"Tim has bought something\"\n",
        "H2 = \"Tim Is relaxed and happy!\"\n",
        "print(\" T->H\",predict (T,H),\"correct:entrailment\\n\",\"T->H1\",predict (T,H1),\"correct:entrailment\\n\",\"T->H2\",predict (T,H2),\"correct:other\\n\",)\n",
        "\n",
        "\n",
        "T = \"A girl playing a violin along with a group of people\"\n",
        "H = \"A girl is playing an instrument.\"\n",
        "H1 = \"A girl is playing outdoor alone\"\n",
        "H2 = \"A girl is playing volleyball with other groups of people\"\n",
        "print(\" T->H\",predict (T,H),\"correct:entrailment\\n\",\"T->H1\",predict (T,H1),\"correct:other\\n\",\"T->H2\",predict (T,H2),\"correct:other\\n\",)"
      ]
    },
    {
      "cell_type": "markdown",
      "metadata": {
        "id": "MDN38n46Irts"
      },
      "source": [
        "**Combine**"
      ]
    },
    {
      "cell_type": "code",
      "execution_count": null,
      "metadata": {
        "id": "PejT2CYYE1zs"
      },
      "outputs": [],
      "source": [
        "def predict(T,H):\n",
        "  test = [generateData(T,H)]\n",
        "  prediction = []\n",
        "  models = [model_SVM, model_MLP, model_Ada, model_DTC, model_NB]\n",
        "  for model in models:\n",
        "    prediction.append(model.predict(test)[0])\n",
        "  number_of_entailments = len(list(filter(lambda x: x==1,prediction)))\n",
        "  number_of_other = len(list(filter(lambda x: x==0,prediction)))\n",
        "  if number_of_entailments>number_of_other:\n",
        "      return \"entailment\"\n",
        "  else:\n",
        "      return \"other\"\n",
        "\n",
        "\n",
        "\n",
        "\n",
        "def evaluate():\n",
        "  tp = fp = fn = tn = 0\n",
        "  models = [model_SVM, model_MLP, model_Ada, model_DTC, model_NB]\n",
        "\n",
        "  for index in tqdm(range(len(test))):\n",
        "    sentence = [X_test[index]]\n",
        "    prediction = []\n",
        "    for model in models:\n",
        "      prediction.append(model.predict(sentence)[0])\n",
        "      if model is model_DTC:\n",
        "         prediction.append(model.predict(sentence)[0])\n",
        "         if model.predict(sentence)[0] == 1:\n",
        "          prediction.append(model.predict(sentence)[0])\n",
        "          prediction.append(model.predict(sentence)[0])\n",
        "          prediction.append(model.predict(sentence)[0])\n",
        "          \n",
        "\n",
        "    number_of_entailments = len(list(filter(lambda x: x==1,prediction)))\n",
        "    number_of_other = len(list(filter(lambda x: x==0,prediction)))\n",
        "    if number_of_entailments>number_of_other:\n",
        "        prediction = 1\n",
        "    else:\n",
        "        prediction = 0\n",
        "    actualLable = Y_test[index]\n",
        "    if actualLable == 1:\n",
        "      if prediction == 1:\n",
        "        tp +=1\n",
        "      else:\n",
        "        fn +=1\n",
        "    else:\n",
        "        if prediction == 0:\n",
        "          tn+=1\n",
        "        else:\n",
        "            fp+=1\n",
        "  return {\"Accuracy\":round( (tp+tn) / (tp+tn+fp+fn),2),\"Percision\":round(tp/(tp+fp),2),\"Recall\":round(tp/(tp+fn),2)}"
      ]
    },
    {
      "cell_type": "code",
      "execution_count": null,
      "metadata": {
        "colab": {
          "base_uri": "https://localhost:8080/",
          "height": 67,
          "referenced_widgets": [
            "ec79d30d1f72406daa9e1e1c39392cfa",
            "37e194f667054c328a64dd4683792461",
            "c360bb98d530467a8482402e163feed5",
            "e26f9178a3c8492fa36d803af56d0da7",
            "cff9c4d65432497c80df9bef1df9dd8d",
            "9c15dbee580a4f32ae0e137c3672cd66",
            "5ec4ceff3e4a41768be32927ef1a1574",
            "317079f440b6427ab1f9cba37335a528",
            "72849f0e30e84582b006b3777127caf6",
            "44e9d88b10ab45eb9305362330e0593f",
            "901cefe10f5c4e09a045841423dfdc08"
          ]
        },
        "id": "EgpjbbWiLLsZ",
        "outputId": "92d85cc5-353f-4740-c65c-21b82cf35d71"
      },
      "outputs": [
        {
          "output_type": "display_data",
          "data": {
            "text/plain": [
              "  0%|          | 0/3000 [00:00<?, ?it/s]"
            ],
            "application/vnd.jupyter.widget-view+json": {
              "version_major": 2,
              "version_minor": 0,
              "model_id": "ec79d30d1f72406daa9e1e1c39392cfa"
            }
          },
          "metadata": {}
        },
        {
          "output_type": "execute_result",
          "data": {
            "text/plain": [
              "{'Accuracy': 0.88, 'Percision': 0.83, 'Recall': 0.84}"
            ]
          },
          "metadata": {},
          "execution_count": 46
        }
      ],
      "source": [
        "#{'Accuracy': 0.88, 'Percision': 0.83, 'Recall': 0.84}\n",
        "evaluate()"
      ]
    },
    {
      "cell_type": "code",
      "execution_count": null,
      "metadata": {
        "colab": {
          "base_uri": "https://localhost:8080/"
        },
        "id": "UYJsngzVLadM",
        "outputId": "32be39d7-10c9-49d1-cade-ba7ea48e36d5"
      },
      "outputs": [
        {
          "output_type": "stream",
          "name": "stdout",
          "text": [
            " T->H entailment correct:entrailment\n",
            " T->H1 entailment correct:entrailment\n",
            " T->H2 entailment correct:entrailment\n",
            " T->H3 other correct:other\n",
            " T->H4 other correct:entrailment\n",
            "\n",
            " T->H entailment correct:entrailment\n",
            " T->H1 entailment correct:entrailment\n",
            " T->H2 other correct:other\n",
            "\n",
            " T->H other correct:entrailment\n",
            " T->H1 other correct:other\n",
            " T->H2 other correct:other\n",
            "\n"
          ]
        }
      ],
      "source": [
        "T = \"Tim managed to stop the car\"\n",
        "H = \"Tim stopped the car\"\n",
        "H1 = \"Tim tried to stop the car\"\n",
        "H2 = \"Tim did something to the car\"\n",
        "H3 = \"the color of the cor is blue\"\n",
        "H4 = \"car is not moving any more\"\n",
        "print(\" T->H\",predict (T,H),\"correct:entrailment\\n\",\"T->H1\",predict (T,H1),\"correct:entrailment\\n\",\"T->H2\",predict (T,H2),\"correct:entrailment\\n\",\n",
        "      \"T->H3\",predict (T,H3),\"correct:other\\n\",\"T->H4\",predict (T,H4),\"correct:entrailment\\n\",)\n",
        "\n",
        "\n",
        "T = \"Tim has bought fish tonight\"\n",
        "H = \"Tim has spent money tonight\"\n",
        "H1 = \"Tim has bought something\"\n",
        "H2 = \"Tim Is relaxed and happy!\"\n",
        "print(\" T->H\",predict (T,H),\"correct:entrailment\\n\",\"T->H1\",predict (T,H1),\"correct:entrailment\\n\",\"T->H2\",predict (T,H2),\"correct:other\\n\",)\n",
        "\n",
        "\n",
        "T = \"A girl playing a violin along with a group of people\"\n",
        "H = \"A girl is playing an instrument.\"\n",
        "H1 = \"A girl is playing outdoor alone\"\n",
        "H2 = \"A girl is playing volleyball with other groups of people\"\n",
        "print(\" T->H\",predict (T,H),\"correct:entrailment\\n\",\"T->H1\",predict (T,H1),\"correct:other\\n\",\"T->H2\",predict (T,H2),\"correct:other\\n\",)"
      ]
    }
  ],
  "metadata": {
    "colab": {
      "collapsed_sections": [],
      "name": "Information Retrieval Project.ipynb",
      "provenance": []
    },
    "kernelspec": {
      "display_name": "Python 3",
      "name": "python3"
    },
    "language_info": {
      "name": "python"
    },
    "widgets": {
      "application/vnd.jupyter.widget-state+json": {
        "50346688f9b041ad90785c195c7ab0a4": {
          "model_module": "@jupyter-widgets/controls",
          "model_name": "HBoxModel",
          "model_module_version": "1.5.0",
          "state": {
            "_dom_classes": [],
            "_model_module": "@jupyter-widgets/controls",
            "_model_module_version": "1.5.0",
            "_model_name": "HBoxModel",
            "_view_count": null,
            "_view_module": "@jupyter-widgets/controls",
            "_view_module_version": "1.5.0",
            "_view_name": "HBoxView",
            "box_style": "",
            "children": [
              "IPY_MODEL_f4718858371b4bb0ba607b19c40b0e5c",
              "IPY_MODEL_6fbbbff2e167470499623d4dbf6c3fee",
              "IPY_MODEL_4fbd180eb90b44ff84d44fc77b62fb57"
            ],
            "layout": "IPY_MODEL_559e3ed9b14d4208b8051f428c6a55c2"
          }
        },
        "f4718858371b4bb0ba607b19c40b0e5c": {
          "model_module": "@jupyter-widgets/controls",
          "model_name": "HTMLModel",
          "model_module_version": "1.5.0",
          "state": {
            "_dom_classes": [],
            "_model_module": "@jupyter-widgets/controls",
            "_model_module_version": "1.5.0",
            "_model_name": "HTMLModel",
            "_view_count": null,
            "_view_module": "@jupyter-widgets/controls",
            "_view_module_version": "1.5.0",
            "_view_name": "HTMLView",
            "description": "",
            "description_tooltip": null,
            "layout": "IPY_MODEL_18fd884b8dd84a41a5047491eb872c97",
            "placeholder": "​",
            "style": "IPY_MODEL_36848f4cc260431291ae11e43dd7c716",
            "value": "100%"
          }
        },
        "6fbbbff2e167470499623d4dbf6c3fee": {
          "model_module": "@jupyter-widgets/controls",
          "model_name": "FloatProgressModel",
          "model_module_version": "1.5.0",
          "state": {
            "_dom_classes": [],
            "_model_module": "@jupyter-widgets/controls",
            "_model_module_version": "1.5.0",
            "_model_name": "FloatProgressModel",
            "_view_count": null,
            "_view_module": "@jupyter-widgets/controls",
            "_view_module_version": "1.5.0",
            "_view_name": "ProgressView",
            "bar_style": "success",
            "description": "",
            "description_tooltip": null,
            "layout": "IPY_MODEL_3d9b5e0e330d47bb8464567fbce74eb0",
            "max": 100,
            "min": 0,
            "orientation": "horizontal",
            "style": "IPY_MODEL_611c49de445e40e3b92c6894162075db",
            "value": 100
          }
        },
        "4fbd180eb90b44ff84d44fc77b62fb57": {
          "model_module": "@jupyter-widgets/controls",
          "model_name": "HTMLModel",
          "model_module_version": "1.5.0",
          "state": {
            "_dom_classes": [],
            "_model_module": "@jupyter-widgets/controls",
            "_model_module_version": "1.5.0",
            "_model_name": "HTMLModel",
            "_view_count": null,
            "_view_module": "@jupyter-widgets/controls",
            "_view_module_version": "1.5.0",
            "_view_name": "HTMLView",
            "description": "",
            "description_tooltip": null,
            "layout": "IPY_MODEL_b9bffe0618ad44a696525e41462b93c2",
            "placeholder": "​",
            "style": "IPY_MODEL_ca20a2be2e0b46079ef1d2e044040a54",
            "value": " 100/100 [11:48&lt;00:00,  7.14s/it]"
          }
        },
        "559e3ed9b14d4208b8051f428c6a55c2": {
          "model_module": "@jupyter-widgets/base",
          "model_name": "LayoutModel",
          "model_module_version": "1.2.0",
          "state": {
            "_model_module": "@jupyter-widgets/base",
            "_model_module_version": "1.2.0",
            "_model_name": "LayoutModel",
            "_view_count": null,
            "_view_module": "@jupyter-widgets/base",
            "_view_module_version": "1.2.0",
            "_view_name": "LayoutView",
            "align_content": null,
            "align_items": null,
            "align_self": null,
            "border": null,
            "bottom": null,
            "display": null,
            "flex": null,
            "flex_flow": null,
            "grid_area": null,
            "grid_auto_columns": null,
            "grid_auto_flow": null,
            "grid_auto_rows": null,
            "grid_column": null,
            "grid_gap": null,
            "grid_row": null,
            "grid_template_areas": null,
            "grid_template_columns": null,
            "grid_template_rows": null,
            "height": null,
            "justify_content": null,
            "justify_items": null,
            "left": null,
            "margin": null,
            "max_height": null,
            "max_width": null,
            "min_height": null,
            "min_width": null,
            "object_fit": null,
            "object_position": null,
            "order": null,
            "overflow": null,
            "overflow_x": null,
            "overflow_y": null,
            "padding": null,
            "right": null,
            "top": null,
            "visibility": null,
            "width": null
          }
        },
        "18fd884b8dd84a41a5047491eb872c97": {
          "model_module": "@jupyter-widgets/base",
          "model_name": "LayoutModel",
          "model_module_version": "1.2.0",
          "state": {
            "_model_module": "@jupyter-widgets/base",
            "_model_module_version": "1.2.0",
            "_model_name": "LayoutModel",
            "_view_count": null,
            "_view_module": "@jupyter-widgets/base",
            "_view_module_version": "1.2.0",
            "_view_name": "LayoutView",
            "align_content": null,
            "align_items": null,
            "align_self": null,
            "border": null,
            "bottom": null,
            "display": null,
            "flex": null,
            "flex_flow": null,
            "grid_area": null,
            "grid_auto_columns": null,
            "grid_auto_flow": null,
            "grid_auto_rows": null,
            "grid_column": null,
            "grid_gap": null,
            "grid_row": null,
            "grid_template_areas": null,
            "grid_template_columns": null,
            "grid_template_rows": null,
            "height": null,
            "justify_content": null,
            "justify_items": null,
            "left": null,
            "margin": null,
            "max_height": null,
            "max_width": null,
            "min_height": null,
            "min_width": null,
            "object_fit": null,
            "object_position": null,
            "order": null,
            "overflow": null,
            "overflow_x": null,
            "overflow_y": null,
            "padding": null,
            "right": null,
            "top": null,
            "visibility": null,
            "width": null
          }
        },
        "36848f4cc260431291ae11e43dd7c716": {
          "model_module": "@jupyter-widgets/controls",
          "model_name": "DescriptionStyleModel",
          "model_module_version": "1.5.0",
          "state": {
            "_model_module": "@jupyter-widgets/controls",
            "_model_module_version": "1.5.0",
            "_model_name": "DescriptionStyleModel",
            "_view_count": null,
            "_view_module": "@jupyter-widgets/base",
            "_view_module_version": "1.2.0",
            "_view_name": "StyleView",
            "description_width": ""
          }
        },
        "3d9b5e0e330d47bb8464567fbce74eb0": {
          "model_module": "@jupyter-widgets/base",
          "model_name": "LayoutModel",
          "model_module_version": "1.2.0",
          "state": {
            "_model_module": "@jupyter-widgets/base",
            "_model_module_version": "1.2.0",
            "_model_name": "LayoutModel",
            "_view_count": null,
            "_view_module": "@jupyter-widgets/base",
            "_view_module_version": "1.2.0",
            "_view_name": "LayoutView",
            "align_content": null,
            "align_items": null,
            "align_self": null,
            "border": null,
            "bottom": null,
            "display": null,
            "flex": null,
            "flex_flow": null,
            "grid_area": null,
            "grid_auto_columns": null,
            "grid_auto_flow": null,
            "grid_auto_rows": null,
            "grid_column": null,
            "grid_gap": null,
            "grid_row": null,
            "grid_template_areas": null,
            "grid_template_columns": null,
            "grid_template_rows": null,
            "height": null,
            "justify_content": null,
            "justify_items": null,
            "left": null,
            "margin": null,
            "max_height": null,
            "max_width": null,
            "min_height": null,
            "min_width": null,
            "object_fit": null,
            "object_position": null,
            "order": null,
            "overflow": null,
            "overflow_x": null,
            "overflow_y": null,
            "padding": null,
            "right": null,
            "top": null,
            "visibility": null,
            "width": null
          }
        },
        "611c49de445e40e3b92c6894162075db": {
          "model_module": "@jupyter-widgets/controls",
          "model_name": "ProgressStyleModel",
          "model_module_version": "1.5.0",
          "state": {
            "_model_module": "@jupyter-widgets/controls",
            "_model_module_version": "1.5.0",
            "_model_name": "ProgressStyleModel",
            "_view_count": null,
            "_view_module": "@jupyter-widgets/base",
            "_view_module_version": "1.2.0",
            "_view_name": "StyleView",
            "bar_color": null,
            "description_width": ""
          }
        },
        "b9bffe0618ad44a696525e41462b93c2": {
          "model_module": "@jupyter-widgets/base",
          "model_name": "LayoutModel",
          "model_module_version": "1.2.0",
          "state": {
            "_model_module": "@jupyter-widgets/base",
            "_model_module_version": "1.2.0",
            "_model_name": "LayoutModel",
            "_view_count": null,
            "_view_module": "@jupyter-widgets/base",
            "_view_module_version": "1.2.0",
            "_view_name": "LayoutView",
            "align_content": null,
            "align_items": null,
            "align_self": null,
            "border": null,
            "bottom": null,
            "display": null,
            "flex": null,
            "flex_flow": null,
            "grid_area": null,
            "grid_auto_columns": null,
            "grid_auto_flow": null,
            "grid_auto_rows": null,
            "grid_column": null,
            "grid_gap": null,
            "grid_row": null,
            "grid_template_areas": null,
            "grid_template_columns": null,
            "grid_template_rows": null,
            "height": null,
            "justify_content": null,
            "justify_items": null,
            "left": null,
            "margin": null,
            "max_height": null,
            "max_width": null,
            "min_height": null,
            "min_width": null,
            "object_fit": null,
            "object_position": null,
            "order": null,
            "overflow": null,
            "overflow_x": null,
            "overflow_y": null,
            "padding": null,
            "right": null,
            "top": null,
            "visibility": null,
            "width": null
          }
        },
        "ca20a2be2e0b46079ef1d2e044040a54": {
          "model_module": "@jupyter-widgets/controls",
          "model_name": "DescriptionStyleModel",
          "model_module_version": "1.5.0",
          "state": {
            "_model_module": "@jupyter-widgets/controls",
            "_model_module_version": "1.5.0",
            "_model_name": "DescriptionStyleModel",
            "_view_count": null,
            "_view_module": "@jupyter-widgets/base",
            "_view_module_version": "1.2.0",
            "_view_name": "StyleView",
            "description_width": ""
          }
        },
        "7af399aec45240c2becaa96e73c7d91a": {
          "model_module": "@jupyter-widgets/controls",
          "model_name": "HBoxModel",
          "model_module_version": "1.5.0",
          "state": {
            "_dom_classes": [],
            "_model_module": "@jupyter-widgets/controls",
            "_model_module_version": "1.5.0",
            "_model_name": "HBoxModel",
            "_view_count": null,
            "_view_module": "@jupyter-widgets/controls",
            "_view_module_version": "1.5.0",
            "_view_name": "HBoxView",
            "box_style": "",
            "children": [
              "IPY_MODEL_38d3a7a3af184674966ac62d8f19317d",
              "IPY_MODEL_caf67ea06a2948f9813e7f844bfd7d48",
              "IPY_MODEL_59cb49a868a84b53a16c7e8d75ac9dab"
            ],
            "layout": "IPY_MODEL_7872e331b3e04773917901e62fa4509d"
          }
        },
        "38d3a7a3af184674966ac62d8f19317d": {
          "model_module": "@jupyter-widgets/controls",
          "model_name": "HTMLModel",
          "model_module_version": "1.5.0",
          "state": {
            "_dom_classes": [],
            "_model_module": "@jupyter-widgets/controls",
            "_model_module_version": "1.5.0",
            "_model_name": "HTMLModel",
            "_view_count": null,
            "_view_module": "@jupyter-widgets/controls",
            "_view_module_version": "1.5.0",
            "_view_name": "HTMLView",
            "description": "",
            "description_tooltip": null,
            "layout": "IPY_MODEL_329df68b993e402bbc2d91f43761a7a5",
            "placeholder": "​",
            "style": "IPY_MODEL_c2400863b94140f7b99400a1023c43fe",
            "value": "100%"
          }
        },
        "caf67ea06a2948f9813e7f844bfd7d48": {
          "model_module": "@jupyter-widgets/controls",
          "model_name": "FloatProgressModel",
          "model_module_version": "1.5.0",
          "state": {
            "_dom_classes": [],
            "_model_module": "@jupyter-widgets/controls",
            "_model_module_version": "1.5.0",
            "_model_name": "FloatProgressModel",
            "_view_count": null,
            "_view_module": "@jupyter-widgets/controls",
            "_view_module_version": "1.5.0",
            "_view_name": "ProgressView",
            "bar_style": "success",
            "description": "",
            "description_tooltip": null,
            "layout": "IPY_MODEL_a314adce4dc04ca49845ebca5f045ee1",
            "max": 20000,
            "min": 0,
            "orientation": "horizontal",
            "style": "IPY_MODEL_147c3cb36df849c785c1690e59c17deb",
            "value": 20000
          }
        },
        "59cb49a868a84b53a16c7e8d75ac9dab": {
          "model_module": "@jupyter-widgets/controls",
          "model_name": "HTMLModel",
          "model_module_version": "1.5.0",
          "state": {
            "_dom_classes": [],
            "_model_module": "@jupyter-widgets/controls",
            "_model_module_version": "1.5.0",
            "_model_name": "HTMLModel",
            "_view_count": null,
            "_view_module": "@jupyter-widgets/controls",
            "_view_module_version": "1.5.0",
            "_view_name": "HTMLView",
            "description": "",
            "description_tooltip": null,
            "layout": "IPY_MODEL_6a0a7331ab6542f2b002cd0b4b97fb99",
            "placeholder": "​",
            "style": "IPY_MODEL_8059587eee4b4e6684746c5b0048256e",
            "value": " 20000/20000 [26:33&lt;00:00, 13.22it/s]"
          }
        },
        "7872e331b3e04773917901e62fa4509d": {
          "model_module": "@jupyter-widgets/base",
          "model_name": "LayoutModel",
          "model_module_version": "1.2.0",
          "state": {
            "_model_module": "@jupyter-widgets/base",
            "_model_module_version": "1.2.0",
            "_model_name": "LayoutModel",
            "_view_count": null,
            "_view_module": "@jupyter-widgets/base",
            "_view_module_version": "1.2.0",
            "_view_name": "LayoutView",
            "align_content": null,
            "align_items": null,
            "align_self": null,
            "border": null,
            "bottom": null,
            "display": null,
            "flex": null,
            "flex_flow": null,
            "grid_area": null,
            "grid_auto_columns": null,
            "grid_auto_flow": null,
            "grid_auto_rows": null,
            "grid_column": null,
            "grid_gap": null,
            "grid_row": null,
            "grid_template_areas": null,
            "grid_template_columns": null,
            "grid_template_rows": null,
            "height": null,
            "justify_content": null,
            "justify_items": null,
            "left": null,
            "margin": null,
            "max_height": null,
            "max_width": null,
            "min_height": null,
            "min_width": null,
            "object_fit": null,
            "object_position": null,
            "order": null,
            "overflow": null,
            "overflow_x": null,
            "overflow_y": null,
            "padding": null,
            "right": null,
            "top": null,
            "visibility": null,
            "width": null
          }
        },
        "329df68b993e402bbc2d91f43761a7a5": {
          "model_module": "@jupyter-widgets/base",
          "model_name": "LayoutModel",
          "model_module_version": "1.2.0",
          "state": {
            "_model_module": "@jupyter-widgets/base",
            "_model_module_version": "1.2.0",
            "_model_name": "LayoutModel",
            "_view_count": null,
            "_view_module": "@jupyter-widgets/base",
            "_view_module_version": "1.2.0",
            "_view_name": "LayoutView",
            "align_content": null,
            "align_items": null,
            "align_self": null,
            "border": null,
            "bottom": null,
            "display": null,
            "flex": null,
            "flex_flow": null,
            "grid_area": null,
            "grid_auto_columns": null,
            "grid_auto_flow": null,
            "grid_auto_rows": null,
            "grid_column": null,
            "grid_gap": null,
            "grid_row": null,
            "grid_template_areas": null,
            "grid_template_columns": null,
            "grid_template_rows": null,
            "height": null,
            "justify_content": null,
            "justify_items": null,
            "left": null,
            "margin": null,
            "max_height": null,
            "max_width": null,
            "min_height": null,
            "min_width": null,
            "object_fit": null,
            "object_position": null,
            "order": null,
            "overflow": null,
            "overflow_x": null,
            "overflow_y": null,
            "padding": null,
            "right": null,
            "top": null,
            "visibility": null,
            "width": null
          }
        },
        "c2400863b94140f7b99400a1023c43fe": {
          "model_module": "@jupyter-widgets/controls",
          "model_name": "DescriptionStyleModel",
          "model_module_version": "1.5.0",
          "state": {
            "_model_module": "@jupyter-widgets/controls",
            "_model_module_version": "1.5.0",
            "_model_name": "DescriptionStyleModel",
            "_view_count": null,
            "_view_module": "@jupyter-widgets/base",
            "_view_module_version": "1.2.0",
            "_view_name": "StyleView",
            "description_width": ""
          }
        },
        "a314adce4dc04ca49845ebca5f045ee1": {
          "model_module": "@jupyter-widgets/base",
          "model_name": "LayoutModel",
          "model_module_version": "1.2.0",
          "state": {
            "_model_module": "@jupyter-widgets/base",
            "_model_module_version": "1.2.0",
            "_model_name": "LayoutModel",
            "_view_count": null,
            "_view_module": "@jupyter-widgets/base",
            "_view_module_version": "1.2.0",
            "_view_name": "LayoutView",
            "align_content": null,
            "align_items": null,
            "align_self": null,
            "border": null,
            "bottom": null,
            "display": null,
            "flex": null,
            "flex_flow": null,
            "grid_area": null,
            "grid_auto_columns": null,
            "grid_auto_flow": null,
            "grid_auto_rows": null,
            "grid_column": null,
            "grid_gap": null,
            "grid_row": null,
            "grid_template_areas": null,
            "grid_template_columns": null,
            "grid_template_rows": null,
            "height": null,
            "justify_content": null,
            "justify_items": null,
            "left": null,
            "margin": null,
            "max_height": null,
            "max_width": null,
            "min_height": null,
            "min_width": null,
            "object_fit": null,
            "object_position": null,
            "order": null,
            "overflow": null,
            "overflow_x": null,
            "overflow_y": null,
            "padding": null,
            "right": null,
            "top": null,
            "visibility": null,
            "width": null
          }
        },
        "147c3cb36df849c785c1690e59c17deb": {
          "model_module": "@jupyter-widgets/controls",
          "model_name": "ProgressStyleModel",
          "model_module_version": "1.5.0",
          "state": {
            "_model_module": "@jupyter-widgets/controls",
            "_model_module_version": "1.5.0",
            "_model_name": "ProgressStyleModel",
            "_view_count": null,
            "_view_module": "@jupyter-widgets/base",
            "_view_module_version": "1.2.0",
            "_view_name": "StyleView",
            "bar_color": null,
            "description_width": ""
          }
        },
        "6a0a7331ab6542f2b002cd0b4b97fb99": {
          "model_module": "@jupyter-widgets/base",
          "model_name": "LayoutModel",
          "model_module_version": "1.2.0",
          "state": {
            "_model_module": "@jupyter-widgets/base",
            "_model_module_version": "1.2.0",
            "_model_name": "LayoutModel",
            "_view_count": null,
            "_view_module": "@jupyter-widgets/base",
            "_view_module_version": "1.2.0",
            "_view_name": "LayoutView",
            "align_content": null,
            "align_items": null,
            "align_self": null,
            "border": null,
            "bottom": null,
            "display": null,
            "flex": null,
            "flex_flow": null,
            "grid_area": null,
            "grid_auto_columns": null,
            "grid_auto_flow": null,
            "grid_auto_rows": null,
            "grid_column": null,
            "grid_gap": null,
            "grid_row": null,
            "grid_template_areas": null,
            "grid_template_columns": null,
            "grid_template_rows": null,
            "height": null,
            "justify_content": null,
            "justify_items": null,
            "left": null,
            "margin": null,
            "max_height": null,
            "max_width": null,
            "min_height": null,
            "min_width": null,
            "object_fit": null,
            "object_position": null,
            "order": null,
            "overflow": null,
            "overflow_x": null,
            "overflow_y": null,
            "padding": null,
            "right": null,
            "top": null,
            "visibility": null,
            "width": null
          }
        },
        "8059587eee4b4e6684746c5b0048256e": {
          "model_module": "@jupyter-widgets/controls",
          "model_name": "DescriptionStyleModel",
          "model_module_version": "1.5.0",
          "state": {
            "_model_module": "@jupyter-widgets/controls",
            "_model_module_version": "1.5.0",
            "_model_name": "DescriptionStyleModel",
            "_view_count": null,
            "_view_module": "@jupyter-widgets/base",
            "_view_module_version": "1.2.0",
            "_view_name": "StyleView",
            "description_width": ""
          }
        },
        "ce66ce31363249e4ba8440374306dcaf": {
          "model_module": "@jupyter-widgets/controls",
          "model_name": "HBoxModel",
          "model_module_version": "1.5.0",
          "state": {
            "_dom_classes": [],
            "_model_module": "@jupyter-widgets/controls",
            "_model_module_version": "1.5.0",
            "_model_name": "HBoxModel",
            "_view_count": null,
            "_view_module": "@jupyter-widgets/controls",
            "_view_module_version": "1.5.0",
            "_view_name": "HBoxView",
            "box_style": "",
            "children": [
              "IPY_MODEL_581739f103154613b591e89db52ef261",
              "IPY_MODEL_541b2a4aed384c89bd4532ceb86fb529",
              "IPY_MODEL_8adfbc69170547e897135bec00062f80"
            ],
            "layout": "IPY_MODEL_34ed7cc9b28940f89f711efec55f78c2"
          }
        },
        "581739f103154613b591e89db52ef261": {
          "model_module": "@jupyter-widgets/controls",
          "model_name": "HTMLModel",
          "model_module_version": "1.5.0",
          "state": {
            "_dom_classes": [],
            "_model_module": "@jupyter-widgets/controls",
            "_model_module_version": "1.5.0",
            "_model_name": "HTMLModel",
            "_view_count": null,
            "_view_module": "@jupyter-widgets/controls",
            "_view_module_version": "1.5.0",
            "_view_name": "HTMLView",
            "description": "",
            "description_tooltip": null,
            "layout": "IPY_MODEL_62f55830471147e899776db563333f55",
            "placeholder": "​",
            "style": "IPY_MODEL_7a79440263a24752858b4610a25fb8f1",
            "value": "100%"
          }
        },
        "541b2a4aed384c89bd4532ceb86fb529": {
          "model_module": "@jupyter-widgets/controls",
          "model_name": "FloatProgressModel",
          "model_module_version": "1.5.0",
          "state": {
            "_dom_classes": [],
            "_model_module": "@jupyter-widgets/controls",
            "_model_module_version": "1.5.0",
            "_model_name": "FloatProgressModel",
            "_view_count": null,
            "_view_module": "@jupyter-widgets/controls",
            "_view_module_version": "1.5.0",
            "_view_name": "ProgressView",
            "bar_style": "success",
            "description": "",
            "description_tooltip": null,
            "layout": "IPY_MODEL_e4b7bb6ab5a6446aa662f154e84014b8",
            "max": 3000,
            "min": 0,
            "orientation": "horizontal",
            "style": "IPY_MODEL_cac01f47353f49f5b612d440acae236c",
            "value": 3000
          }
        },
        "8adfbc69170547e897135bec00062f80": {
          "model_module": "@jupyter-widgets/controls",
          "model_name": "HTMLModel",
          "model_module_version": "1.5.0",
          "state": {
            "_dom_classes": [],
            "_model_module": "@jupyter-widgets/controls",
            "_model_module_version": "1.5.0",
            "_model_name": "HTMLModel",
            "_view_count": null,
            "_view_module": "@jupyter-widgets/controls",
            "_view_module_version": "1.5.0",
            "_view_name": "HTMLView",
            "description": "",
            "description_tooltip": null,
            "layout": "IPY_MODEL_88a2846374f94c45acae2e435a2aac6a",
            "placeholder": "​",
            "style": "IPY_MODEL_8ce0e6fc80b24d93ba2de4417044e49a",
            "value": " 3000/3000 [03:51&lt;00:00, 13.39it/s]"
          }
        },
        "34ed7cc9b28940f89f711efec55f78c2": {
          "model_module": "@jupyter-widgets/base",
          "model_name": "LayoutModel",
          "model_module_version": "1.2.0",
          "state": {
            "_model_module": "@jupyter-widgets/base",
            "_model_module_version": "1.2.0",
            "_model_name": "LayoutModel",
            "_view_count": null,
            "_view_module": "@jupyter-widgets/base",
            "_view_module_version": "1.2.0",
            "_view_name": "LayoutView",
            "align_content": null,
            "align_items": null,
            "align_self": null,
            "border": null,
            "bottom": null,
            "display": null,
            "flex": null,
            "flex_flow": null,
            "grid_area": null,
            "grid_auto_columns": null,
            "grid_auto_flow": null,
            "grid_auto_rows": null,
            "grid_column": null,
            "grid_gap": null,
            "grid_row": null,
            "grid_template_areas": null,
            "grid_template_columns": null,
            "grid_template_rows": null,
            "height": null,
            "justify_content": null,
            "justify_items": null,
            "left": null,
            "margin": null,
            "max_height": null,
            "max_width": null,
            "min_height": null,
            "min_width": null,
            "object_fit": null,
            "object_position": null,
            "order": null,
            "overflow": null,
            "overflow_x": null,
            "overflow_y": null,
            "padding": null,
            "right": null,
            "top": null,
            "visibility": null,
            "width": null
          }
        },
        "62f55830471147e899776db563333f55": {
          "model_module": "@jupyter-widgets/base",
          "model_name": "LayoutModel",
          "model_module_version": "1.2.0",
          "state": {
            "_model_module": "@jupyter-widgets/base",
            "_model_module_version": "1.2.0",
            "_model_name": "LayoutModel",
            "_view_count": null,
            "_view_module": "@jupyter-widgets/base",
            "_view_module_version": "1.2.0",
            "_view_name": "LayoutView",
            "align_content": null,
            "align_items": null,
            "align_self": null,
            "border": null,
            "bottom": null,
            "display": null,
            "flex": null,
            "flex_flow": null,
            "grid_area": null,
            "grid_auto_columns": null,
            "grid_auto_flow": null,
            "grid_auto_rows": null,
            "grid_column": null,
            "grid_gap": null,
            "grid_row": null,
            "grid_template_areas": null,
            "grid_template_columns": null,
            "grid_template_rows": null,
            "height": null,
            "justify_content": null,
            "justify_items": null,
            "left": null,
            "margin": null,
            "max_height": null,
            "max_width": null,
            "min_height": null,
            "min_width": null,
            "object_fit": null,
            "object_position": null,
            "order": null,
            "overflow": null,
            "overflow_x": null,
            "overflow_y": null,
            "padding": null,
            "right": null,
            "top": null,
            "visibility": null,
            "width": null
          }
        },
        "7a79440263a24752858b4610a25fb8f1": {
          "model_module": "@jupyter-widgets/controls",
          "model_name": "DescriptionStyleModel",
          "model_module_version": "1.5.0",
          "state": {
            "_model_module": "@jupyter-widgets/controls",
            "_model_module_version": "1.5.0",
            "_model_name": "DescriptionStyleModel",
            "_view_count": null,
            "_view_module": "@jupyter-widgets/base",
            "_view_module_version": "1.2.0",
            "_view_name": "StyleView",
            "description_width": ""
          }
        },
        "e4b7bb6ab5a6446aa662f154e84014b8": {
          "model_module": "@jupyter-widgets/base",
          "model_name": "LayoutModel",
          "model_module_version": "1.2.0",
          "state": {
            "_model_module": "@jupyter-widgets/base",
            "_model_module_version": "1.2.0",
            "_model_name": "LayoutModel",
            "_view_count": null,
            "_view_module": "@jupyter-widgets/base",
            "_view_module_version": "1.2.0",
            "_view_name": "LayoutView",
            "align_content": null,
            "align_items": null,
            "align_self": null,
            "border": null,
            "bottom": null,
            "display": null,
            "flex": null,
            "flex_flow": null,
            "grid_area": null,
            "grid_auto_columns": null,
            "grid_auto_flow": null,
            "grid_auto_rows": null,
            "grid_column": null,
            "grid_gap": null,
            "grid_row": null,
            "grid_template_areas": null,
            "grid_template_columns": null,
            "grid_template_rows": null,
            "height": null,
            "justify_content": null,
            "justify_items": null,
            "left": null,
            "margin": null,
            "max_height": null,
            "max_width": null,
            "min_height": null,
            "min_width": null,
            "object_fit": null,
            "object_position": null,
            "order": null,
            "overflow": null,
            "overflow_x": null,
            "overflow_y": null,
            "padding": null,
            "right": null,
            "top": null,
            "visibility": null,
            "width": null
          }
        },
        "cac01f47353f49f5b612d440acae236c": {
          "model_module": "@jupyter-widgets/controls",
          "model_name": "ProgressStyleModel",
          "model_module_version": "1.5.0",
          "state": {
            "_model_module": "@jupyter-widgets/controls",
            "_model_module_version": "1.5.0",
            "_model_name": "ProgressStyleModel",
            "_view_count": null,
            "_view_module": "@jupyter-widgets/base",
            "_view_module_version": "1.2.0",
            "_view_name": "StyleView",
            "bar_color": null,
            "description_width": ""
          }
        },
        "88a2846374f94c45acae2e435a2aac6a": {
          "model_module": "@jupyter-widgets/base",
          "model_name": "LayoutModel",
          "model_module_version": "1.2.0",
          "state": {
            "_model_module": "@jupyter-widgets/base",
            "_model_module_version": "1.2.0",
            "_model_name": "LayoutModel",
            "_view_count": null,
            "_view_module": "@jupyter-widgets/base",
            "_view_module_version": "1.2.0",
            "_view_name": "LayoutView",
            "align_content": null,
            "align_items": null,
            "align_self": null,
            "border": null,
            "bottom": null,
            "display": null,
            "flex": null,
            "flex_flow": null,
            "grid_area": null,
            "grid_auto_columns": null,
            "grid_auto_flow": null,
            "grid_auto_rows": null,
            "grid_column": null,
            "grid_gap": null,
            "grid_row": null,
            "grid_template_areas": null,
            "grid_template_columns": null,
            "grid_template_rows": null,
            "height": null,
            "justify_content": null,
            "justify_items": null,
            "left": null,
            "margin": null,
            "max_height": null,
            "max_width": null,
            "min_height": null,
            "min_width": null,
            "object_fit": null,
            "object_position": null,
            "order": null,
            "overflow": null,
            "overflow_x": null,
            "overflow_y": null,
            "padding": null,
            "right": null,
            "top": null,
            "visibility": null,
            "width": null
          }
        },
        "8ce0e6fc80b24d93ba2de4417044e49a": {
          "model_module": "@jupyter-widgets/controls",
          "model_name": "DescriptionStyleModel",
          "model_module_version": "1.5.0",
          "state": {
            "_model_module": "@jupyter-widgets/controls",
            "_model_module_version": "1.5.0",
            "_model_name": "DescriptionStyleModel",
            "_view_count": null,
            "_view_module": "@jupyter-widgets/base",
            "_view_module_version": "1.2.0",
            "_view_name": "StyleView",
            "description_width": ""
          }
        },
        "6f786ab2b57f4385936ed902f2dbce6d": {
          "model_module": "@jupyter-widgets/controls",
          "model_name": "HBoxModel",
          "model_module_version": "1.5.0",
          "state": {
            "_dom_classes": [],
            "_model_module": "@jupyter-widgets/controls",
            "_model_module_version": "1.5.0",
            "_model_name": "HBoxModel",
            "_view_count": null,
            "_view_module": "@jupyter-widgets/controls",
            "_view_module_version": "1.5.0",
            "_view_name": "HBoxView",
            "box_style": "",
            "children": [
              "IPY_MODEL_0d48392731a345d79087550ea06cf7cd",
              "IPY_MODEL_0d4dfdd93600431298179f7dc217a18d",
              "IPY_MODEL_27c82eb916c8407caa008d57668a3b7f"
            ],
            "layout": "IPY_MODEL_f7dc4e6f7e944605bcb26abf04020977"
          }
        },
        "0d48392731a345d79087550ea06cf7cd": {
          "model_module": "@jupyter-widgets/controls",
          "model_name": "HTMLModel",
          "model_module_version": "1.5.0",
          "state": {
            "_dom_classes": [],
            "_model_module": "@jupyter-widgets/controls",
            "_model_module_version": "1.5.0",
            "_model_name": "HTMLModel",
            "_view_count": null,
            "_view_module": "@jupyter-widgets/controls",
            "_view_module_version": "1.5.0",
            "_view_name": "HTMLView",
            "description": "",
            "description_tooltip": null,
            "layout": "IPY_MODEL_165664192cc94ee4b0c0a7262e29f8b0",
            "placeholder": "​",
            "style": "IPY_MODEL_9573b628de024af98bb4fddc351b4b87",
            "value": "100%"
          }
        },
        "0d4dfdd93600431298179f7dc217a18d": {
          "model_module": "@jupyter-widgets/controls",
          "model_name": "FloatProgressModel",
          "model_module_version": "1.5.0",
          "state": {
            "_dom_classes": [],
            "_model_module": "@jupyter-widgets/controls",
            "_model_module_version": "1.5.0",
            "_model_name": "FloatProgressModel",
            "_view_count": null,
            "_view_module": "@jupyter-widgets/controls",
            "_view_module_version": "1.5.0",
            "_view_name": "ProgressView",
            "bar_style": "success",
            "description": "",
            "description_tooltip": null,
            "layout": "IPY_MODEL_a17e7a26abee4af6873286c09fab04a1",
            "max": 3000,
            "min": 0,
            "orientation": "horizontal",
            "style": "IPY_MODEL_6bab7cf7b5bb4780bd2923bee88410e9",
            "value": 3000
          }
        },
        "27c82eb916c8407caa008d57668a3b7f": {
          "model_module": "@jupyter-widgets/controls",
          "model_name": "HTMLModel",
          "model_module_version": "1.5.0",
          "state": {
            "_dom_classes": [],
            "_model_module": "@jupyter-widgets/controls",
            "_model_module_version": "1.5.0",
            "_model_name": "HTMLModel",
            "_view_count": null,
            "_view_module": "@jupyter-widgets/controls",
            "_view_module_version": "1.5.0",
            "_view_name": "HTMLView",
            "description": "",
            "description_tooltip": null,
            "layout": "IPY_MODEL_b03c95febb404da890005d003ba02175",
            "placeholder": "​",
            "style": "IPY_MODEL_6712db1e4b4e416cb3727bcd719a0331",
            "value": " 3000/3000 [00:03&lt;00:00, 809.73it/s]"
          }
        },
        "f7dc4e6f7e944605bcb26abf04020977": {
          "model_module": "@jupyter-widgets/base",
          "model_name": "LayoutModel",
          "model_module_version": "1.2.0",
          "state": {
            "_model_module": "@jupyter-widgets/base",
            "_model_module_version": "1.2.0",
            "_model_name": "LayoutModel",
            "_view_count": null,
            "_view_module": "@jupyter-widgets/base",
            "_view_module_version": "1.2.0",
            "_view_name": "LayoutView",
            "align_content": null,
            "align_items": null,
            "align_self": null,
            "border": null,
            "bottom": null,
            "display": null,
            "flex": null,
            "flex_flow": null,
            "grid_area": null,
            "grid_auto_columns": null,
            "grid_auto_flow": null,
            "grid_auto_rows": null,
            "grid_column": null,
            "grid_gap": null,
            "grid_row": null,
            "grid_template_areas": null,
            "grid_template_columns": null,
            "grid_template_rows": null,
            "height": null,
            "justify_content": null,
            "justify_items": null,
            "left": null,
            "margin": null,
            "max_height": null,
            "max_width": null,
            "min_height": null,
            "min_width": null,
            "object_fit": null,
            "object_position": null,
            "order": null,
            "overflow": null,
            "overflow_x": null,
            "overflow_y": null,
            "padding": null,
            "right": null,
            "top": null,
            "visibility": null,
            "width": null
          }
        },
        "165664192cc94ee4b0c0a7262e29f8b0": {
          "model_module": "@jupyter-widgets/base",
          "model_name": "LayoutModel",
          "model_module_version": "1.2.0",
          "state": {
            "_model_module": "@jupyter-widgets/base",
            "_model_module_version": "1.2.0",
            "_model_name": "LayoutModel",
            "_view_count": null,
            "_view_module": "@jupyter-widgets/base",
            "_view_module_version": "1.2.0",
            "_view_name": "LayoutView",
            "align_content": null,
            "align_items": null,
            "align_self": null,
            "border": null,
            "bottom": null,
            "display": null,
            "flex": null,
            "flex_flow": null,
            "grid_area": null,
            "grid_auto_columns": null,
            "grid_auto_flow": null,
            "grid_auto_rows": null,
            "grid_column": null,
            "grid_gap": null,
            "grid_row": null,
            "grid_template_areas": null,
            "grid_template_columns": null,
            "grid_template_rows": null,
            "height": null,
            "justify_content": null,
            "justify_items": null,
            "left": null,
            "margin": null,
            "max_height": null,
            "max_width": null,
            "min_height": null,
            "min_width": null,
            "object_fit": null,
            "object_position": null,
            "order": null,
            "overflow": null,
            "overflow_x": null,
            "overflow_y": null,
            "padding": null,
            "right": null,
            "top": null,
            "visibility": null,
            "width": null
          }
        },
        "9573b628de024af98bb4fddc351b4b87": {
          "model_module": "@jupyter-widgets/controls",
          "model_name": "DescriptionStyleModel",
          "model_module_version": "1.5.0",
          "state": {
            "_model_module": "@jupyter-widgets/controls",
            "_model_module_version": "1.5.0",
            "_model_name": "DescriptionStyleModel",
            "_view_count": null,
            "_view_module": "@jupyter-widgets/base",
            "_view_module_version": "1.2.0",
            "_view_name": "StyleView",
            "description_width": ""
          }
        },
        "a17e7a26abee4af6873286c09fab04a1": {
          "model_module": "@jupyter-widgets/base",
          "model_name": "LayoutModel",
          "model_module_version": "1.2.0",
          "state": {
            "_model_module": "@jupyter-widgets/base",
            "_model_module_version": "1.2.0",
            "_model_name": "LayoutModel",
            "_view_count": null,
            "_view_module": "@jupyter-widgets/base",
            "_view_module_version": "1.2.0",
            "_view_name": "LayoutView",
            "align_content": null,
            "align_items": null,
            "align_self": null,
            "border": null,
            "bottom": null,
            "display": null,
            "flex": null,
            "flex_flow": null,
            "grid_area": null,
            "grid_auto_columns": null,
            "grid_auto_flow": null,
            "grid_auto_rows": null,
            "grid_column": null,
            "grid_gap": null,
            "grid_row": null,
            "grid_template_areas": null,
            "grid_template_columns": null,
            "grid_template_rows": null,
            "height": null,
            "justify_content": null,
            "justify_items": null,
            "left": null,
            "margin": null,
            "max_height": null,
            "max_width": null,
            "min_height": null,
            "min_width": null,
            "object_fit": null,
            "object_position": null,
            "order": null,
            "overflow": null,
            "overflow_x": null,
            "overflow_y": null,
            "padding": null,
            "right": null,
            "top": null,
            "visibility": null,
            "width": null
          }
        },
        "6bab7cf7b5bb4780bd2923bee88410e9": {
          "model_module": "@jupyter-widgets/controls",
          "model_name": "ProgressStyleModel",
          "model_module_version": "1.5.0",
          "state": {
            "_model_module": "@jupyter-widgets/controls",
            "_model_module_version": "1.5.0",
            "_model_name": "ProgressStyleModel",
            "_view_count": null,
            "_view_module": "@jupyter-widgets/base",
            "_view_module_version": "1.2.0",
            "_view_name": "StyleView",
            "bar_color": null,
            "description_width": ""
          }
        },
        "b03c95febb404da890005d003ba02175": {
          "model_module": "@jupyter-widgets/base",
          "model_name": "LayoutModel",
          "model_module_version": "1.2.0",
          "state": {
            "_model_module": "@jupyter-widgets/base",
            "_model_module_version": "1.2.0",
            "_model_name": "LayoutModel",
            "_view_count": null,
            "_view_module": "@jupyter-widgets/base",
            "_view_module_version": "1.2.0",
            "_view_name": "LayoutView",
            "align_content": null,
            "align_items": null,
            "align_self": null,
            "border": null,
            "bottom": null,
            "display": null,
            "flex": null,
            "flex_flow": null,
            "grid_area": null,
            "grid_auto_columns": null,
            "grid_auto_flow": null,
            "grid_auto_rows": null,
            "grid_column": null,
            "grid_gap": null,
            "grid_row": null,
            "grid_template_areas": null,
            "grid_template_columns": null,
            "grid_template_rows": null,
            "height": null,
            "justify_content": null,
            "justify_items": null,
            "left": null,
            "margin": null,
            "max_height": null,
            "max_width": null,
            "min_height": null,
            "min_width": null,
            "object_fit": null,
            "object_position": null,
            "order": null,
            "overflow": null,
            "overflow_x": null,
            "overflow_y": null,
            "padding": null,
            "right": null,
            "top": null,
            "visibility": null,
            "width": null
          }
        },
        "6712db1e4b4e416cb3727bcd719a0331": {
          "model_module": "@jupyter-widgets/controls",
          "model_name": "DescriptionStyleModel",
          "model_module_version": "1.5.0",
          "state": {
            "_model_module": "@jupyter-widgets/controls",
            "_model_module_version": "1.5.0",
            "_model_name": "DescriptionStyleModel",
            "_view_count": null,
            "_view_module": "@jupyter-widgets/base",
            "_view_module_version": "1.2.0",
            "_view_name": "StyleView",
            "description_width": ""
          }
        },
        "9d90ade0466b434ab019763921bb9cf4": {
          "model_module": "@jupyter-widgets/controls",
          "model_name": "HBoxModel",
          "model_module_version": "1.5.0",
          "state": {
            "_dom_classes": [],
            "_model_module": "@jupyter-widgets/controls",
            "_model_module_version": "1.5.0",
            "_model_name": "HBoxModel",
            "_view_count": null,
            "_view_module": "@jupyter-widgets/controls",
            "_view_module_version": "1.5.0",
            "_view_name": "HBoxView",
            "box_style": "",
            "children": [
              "IPY_MODEL_5cf2c432dd914a41b969f5e4b19fe716",
              "IPY_MODEL_79eddc055fa847ab8bdf8679fccc4cf4",
              "IPY_MODEL_6072d084ee4840e1a4b2e941e8ee88ea"
            ],
            "layout": "IPY_MODEL_21270ee0e49c41fc93bb47da489c3b3b"
          }
        },
        "5cf2c432dd914a41b969f5e4b19fe716": {
          "model_module": "@jupyter-widgets/controls",
          "model_name": "HTMLModel",
          "model_module_version": "1.5.0",
          "state": {
            "_dom_classes": [],
            "_model_module": "@jupyter-widgets/controls",
            "_model_module_version": "1.5.0",
            "_model_name": "HTMLModel",
            "_view_count": null,
            "_view_module": "@jupyter-widgets/controls",
            "_view_module_version": "1.5.0",
            "_view_name": "HTMLView",
            "description": "",
            "description_tooltip": null,
            "layout": "IPY_MODEL_af2cd06962c3410090f18bbc29b295b9",
            "placeholder": "​",
            "style": "IPY_MODEL_8b045f37cf80485c861d7a065bec107a",
            "value": "100%"
          }
        },
        "79eddc055fa847ab8bdf8679fccc4cf4": {
          "model_module": "@jupyter-widgets/controls",
          "model_name": "FloatProgressModel",
          "model_module_version": "1.5.0",
          "state": {
            "_dom_classes": [],
            "_model_module": "@jupyter-widgets/controls",
            "_model_module_version": "1.5.0",
            "_model_name": "FloatProgressModel",
            "_view_count": null,
            "_view_module": "@jupyter-widgets/controls",
            "_view_module_version": "1.5.0",
            "_view_name": "ProgressView",
            "bar_style": "success",
            "description": "",
            "description_tooltip": null,
            "layout": "IPY_MODEL_5daf6584e54244658aac2fc27f711246",
            "max": 3000,
            "min": 0,
            "orientation": "horizontal",
            "style": "IPY_MODEL_98315bf94ca04454b178e8abbd5d8993",
            "value": 3000
          }
        },
        "6072d084ee4840e1a4b2e941e8ee88ea": {
          "model_module": "@jupyter-widgets/controls",
          "model_name": "HTMLModel",
          "model_module_version": "1.5.0",
          "state": {
            "_dom_classes": [],
            "_model_module": "@jupyter-widgets/controls",
            "_model_module_version": "1.5.0",
            "_model_name": "HTMLModel",
            "_view_count": null,
            "_view_module": "@jupyter-widgets/controls",
            "_view_module_version": "1.5.0",
            "_view_name": "HTMLView",
            "description": "",
            "description_tooltip": null,
            "layout": "IPY_MODEL_9057f415e9ab47bcb534406f5493765d",
            "placeholder": "​",
            "style": "IPY_MODEL_3b5e10e8004549d797de668565674405",
            "value": " 3000/3000 [00:00&lt;00:00, 5184.90it/s]"
          }
        },
        "21270ee0e49c41fc93bb47da489c3b3b": {
          "model_module": "@jupyter-widgets/base",
          "model_name": "LayoutModel",
          "model_module_version": "1.2.0",
          "state": {
            "_model_module": "@jupyter-widgets/base",
            "_model_module_version": "1.2.0",
            "_model_name": "LayoutModel",
            "_view_count": null,
            "_view_module": "@jupyter-widgets/base",
            "_view_module_version": "1.2.0",
            "_view_name": "LayoutView",
            "align_content": null,
            "align_items": null,
            "align_self": null,
            "border": null,
            "bottom": null,
            "display": null,
            "flex": null,
            "flex_flow": null,
            "grid_area": null,
            "grid_auto_columns": null,
            "grid_auto_flow": null,
            "grid_auto_rows": null,
            "grid_column": null,
            "grid_gap": null,
            "grid_row": null,
            "grid_template_areas": null,
            "grid_template_columns": null,
            "grid_template_rows": null,
            "height": null,
            "justify_content": null,
            "justify_items": null,
            "left": null,
            "margin": null,
            "max_height": null,
            "max_width": null,
            "min_height": null,
            "min_width": null,
            "object_fit": null,
            "object_position": null,
            "order": null,
            "overflow": null,
            "overflow_x": null,
            "overflow_y": null,
            "padding": null,
            "right": null,
            "top": null,
            "visibility": null,
            "width": null
          }
        },
        "af2cd06962c3410090f18bbc29b295b9": {
          "model_module": "@jupyter-widgets/base",
          "model_name": "LayoutModel",
          "model_module_version": "1.2.0",
          "state": {
            "_model_module": "@jupyter-widgets/base",
            "_model_module_version": "1.2.0",
            "_model_name": "LayoutModel",
            "_view_count": null,
            "_view_module": "@jupyter-widgets/base",
            "_view_module_version": "1.2.0",
            "_view_name": "LayoutView",
            "align_content": null,
            "align_items": null,
            "align_self": null,
            "border": null,
            "bottom": null,
            "display": null,
            "flex": null,
            "flex_flow": null,
            "grid_area": null,
            "grid_auto_columns": null,
            "grid_auto_flow": null,
            "grid_auto_rows": null,
            "grid_column": null,
            "grid_gap": null,
            "grid_row": null,
            "grid_template_areas": null,
            "grid_template_columns": null,
            "grid_template_rows": null,
            "height": null,
            "justify_content": null,
            "justify_items": null,
            "left": null,
            "margin": null,
            "max_height": null,
            "max_width": null,
            "min_height": null,
            "min_width": null,
            "object_fit": null,
            "object_position": null,
            "order": null,
            "overflow": null,
            "overflow_x": null,
            "overflow_y": null,
            "padding": null,
            "right": null,
            "top": null,
            "visibility": null,
            "width": null
          }
        },
        "8b045f37cf80485c861d7a065bec107a": {
          "model_module": "@jupyter-widgets/controls",
          "model_name": "DescriptionStyleModel",
          "model_module_version": "1.5.0",
          "state": {
            "_model_module": "@jupyter-widgets/controls",
            "_model_module_version": "1.5.0",
            "_model_name": "DescriptionStyleModel",
            "_view_count": null,
            "_view_module": "@jupyter-widgets/base",
            "_view_module_version": "1.2.0",
            "_view_name": "StyleView",
            "description_width": ""
          }
        },
        "5daf6584e54244658aac2fc27f711246": {
          "model_module": "@jupyter-widgets/base",
          "model_name": "LayoutModel",
          "model_module_version": "1.2.0",
          "state": {
            "_model_module": "@jupyter-widgets/base",
            "_model_module_version": "1.2.0",
            "_model_name": "LayoutModel",
            "_view_count": null,
            "_view_module": "@jupyter-widgets/base",
            "_view_module_version": "1.2.0",
            "_view_name": "LayoutView",
            "align_content": null,
            "align_items": null,
            "align_self": null,
            "border": null,
            "bottom": null,
            "display": null,
            "flex": null,
            "flex_flow": null,
            "grid_area": null,
            "grid_auto_columns": null,
            "grid_auto_flow": null,
            "grid_auto_rows": null,
            "grid_column": null,
            "grid_gap": null,
            "grid_row": null,
            "grid_template_areas": null,
            "grid_template_columns": null,
            "grid_template_rows": null,
            "height": null,
            "justify_content": null,
            "justify_items": null,
            "left": null,
            "margin": null,
            "max_height": null,
            "max_width": null,
            "min_height": null,
            "min_width": null,
            "object_fit": null,
            "object_position": null,
            "order": null,
            "overflow": null,
            "overflow_x": null,
            "overflow_y": null,
            "padding": null,
            "right": null,
            "top": null,
            "visibility": null,
            "width": null
          }
        },
        "98315bf94ca04454b178e8abbd5d8993": {
          "model_module": "@jupyter-widgets/controls",
          "model_name": "ProgressStyleModel",
          "model_module_version": "1.5.0",
          "state": {
            "_model_module": "@jupyter-widgets/controls",
            "_model_module_version": "1.5.0",
            "_model_name": "ProgressStyleModel",
            "_view_count": null,
            "_view_module": "@jupyter-widgets/base",
            "_view_module_version": "1.2.0",
            "_view_name": "StyleView",
            "bar_color": null,
            "description_width": ""
          }
        },
        "9057f415e9ab47bcb534406f5493765d": {
          "model_module": "@jupyter-widgets/base",
          "model_name": "LayoutModel",
          "model_module_version": "1.2.0",
          "state": {
            "_model_module": "@jupyter-widgets/base",
            "_model_module_version": "1.2.0",
            "_model_name": "LayoutModel",
            "_view_count": null,
            "_view_module": "@jupyter-widgets/base",
            "_view_module_version": "1.2.0",
            "_view_name": "LayoutView",
            "align_content": null,
            "align_items": null,
            "align_self": null,
            "border": null,
            "bottom": null,
            "display": null,
            "flex": null,
            "flex_flow": null,
            "grid_area": null,
            "grid_auto_columns": null,
            "grid_auto_flow": null,
            "grid_auto_rows": null,
            "grid_column": null,
            "grid_gap": null,
            "grid_row": null,
            "grid_template_areas": null,
            "grid_template_columns": null,
            "grid_template_rows": null,
            "height": null,
            "justify_content": null,
            "justify_items": null,
            "left": null,
            "margin": null,
            "max_height": null,
            "max_width": null,
            "min_height": null,
            "min_width": null,
            "object_fit": null,
            "object_position": null,
            "order": null,
            "overflow": null,
            "overflow_x": null,
            "overflow_y": null,
            "padding": null,
            "right": null,
            "top": null,
            "visibility": null,
            "width": null
          }
        },
        "3b5e10e8004549d797de668565674405": {
          "model_module": "@jupyter-widgets/controls",
          "model_name": "DescriptionStyleModel",
          "model_module_version": "1.5.0",
          "state": {
            "_model_module": "@jupyter-widgets/controls",
            "_model_module_version": "1.5.0",
            "_model_name": "DescriptionStyleModel",
            "_view_count": null,
            "_view_module": "@jupyter-widgets/base",
            "_view_module_version": "1.2.0",
            "_view_name": "StyleView",
            "description_width": ""
          }
        },
        "67fde2bcfd61462b99bf94f6dcec4035": {
          "model_module": "@jupyter-widgets/controls",
          "model_name": "HBoxModel",
          "model_module_version": "1.5.0",
          "state": {
            "_dom_classes": [],
            "_model_module": "@jupyter-widgets/controls",
            "_model_module_version": "1.5.0",
            "_model_name": "HBoxModel",
            "_view_count": null,
            "_view_module": "@jupyter-widgets/controls",
            "_view_module_version": "1.5.0",
            "_view_name": "HBoxView",
            "box_style": "",
            "children": [
              "IPY_MODEL_0bf03843959a45809c455f5ffe53fbf2",
              "IPY_MODEL_28e9c049e03c4d789c0c63006c59943a",
              "IPY_MODEL_0cbb96fff8d84bc9ab2e7b178ffd31e2"
            ],
            "layout": "IPY_MODEL_17f086e8ff8348a3b78e2fa1228f17ea"
          }
        },
        "0bf03843959a45809c455f5ffe53fbf2": {
          "model_module": "@jupyter-widgets/controls",
          "model_name": "HTMLModel",
          "model_module_version": "1.5.0",
          "state": {
            "_dom_classes": [],
            "_model_module": "@jupyter-widgets/controls",
            "_model_module_version": "1.5.0",
            "_model_name": "HTMLModel",
            "_view_count": null,
            "_view_module": "@jupyter-widgets/controls",
            "_view_module_version": "1.5.0",
            "_view_name": "HTMLView",
            "description": "",
            "description_tooltip": null,
            "layout": "IPY_MODEL_d039e744d4dd4cf5bfe006305f177ed6",
            "placeholder": "​",
            "style": "IPY_MODEL_4e501449e7e44d0ab9fc60e3f29beb0e",
            "value": "100%"
          }
        },
        "28e9c049e03c4d789c0c63006c59943a": {
          "model_module": "@jupyter-widgets/controls",
          "model_name": "FloatProgressModel",
          "model_module_version": "1.5.0",
          "state": {
            "_dom_classes": [],
            "_model_module": "@jupyter-widgets/controls",
            "_model_module_version": "1.5.0",
            "_model_name": "FloatProgressModel",
            "_view_count": null,
            "_view_module": "@jupyter-widgets/controls",
            "_view_module_version": "1.5.0",
            "_view_name": "ProgressView",
            "bar_style": "success",
            "description": "",
            "description_tooltip": null,
            "layout": "IPY_MODEL_c65e14064e0040af8b22ffa1166b28ec",
            "max": 3000,
            "min": 0,
            "orientation": "horizontal",
            "style": "IPY_MODEL_aecc4a878a2143f38b5ee6de55ae514d",
            "value": 3000
          }
        },
        "0cbb96fff8d84bc9ab2e7b178ffd31e2": {
          "model_module": "@jupyter-widgets/controls",
          "model_name": "HTMLModel",
          "model_module_version": "1.5.0",
          "state": {
            "_dom_classes": [],
            "_model_module": "@jupyter-widgets/controls",
            "_model_module_version": "1.5.0",
            "_model_name": "HTMLModel",
            "_view_count": null,
            "_view_module": "@jupyter-widgets/controls",
            "_view_module_version": "1.5.0",
            "_view_name": "HTMLView",
            "description": "",
            "description_tooltip": null,
            "layout": "IPY_MODEL_c48d0507f49641f59c8a7bc19115d76f",
            "placeholder": "​",
            "style": "IPY_MODEL_a5953acdbfc344468572baed0c45bab7",
            "value": " 3000/3000 [00:00&lt;00:00, 9304.53it/s]"
          }
        },
        "17f086e8ff8348a3b78e2fa1228f17ea": {
          "model_module": "@jupyter-widgets/base",
          "model_name": "LayoutModel",
          "model_module_version": "1.2.0",
          "state": {
            "_model_module": "@jupyter-widgets/base",
            "_model_module_version": "1.2.0",
            "_model_name": "LayoutModel",
            "_view_count": null,
            "_view_module": "@jupyter-widgets/base",
            "_view_module_version": "1.2.0",
            "_view_name": "LayoutView",
            "align_content": null,
            "align_items": null,
            "align_self": null,
            "border": null,
            "bottom": null,
            "display": null,
            "flex": null,
            "flex_flow": null,
            "grid_area": null,
            "grid_auto_columns": null,
            "grid_auto_flow": null,
            "grid_auto_rows": null,
            "grid_column": null,
            "grid_gap": null,
            "grid_row": null,
            "grid_template_areas": null,
            "grid_template_columns": null,
            "grid_template_rows": null,
            "height": null,
            "justify_content": null,
            "justify_items": null,
            "left": null,
            "margin": null,
            "max_height": null,
            "max_width": null,
            "min_height": null,
            "min_width": null,
            "object_fit": null,
            "object_position": null,
            "order": null,
            "overflow": null,
            "overflow_x": null,
            "overflow_y": null,
            "padding": null,
            "right": null,
            "top": null,
            "visibility": null,
            "width": null
          }
        },
        "d039e744d4dd4cf5bfe006305f177ed6": {
          "model_module": "@jupyter-widgets/base",
          "model_name": "LayoutModel",
          "model_module_version": "1.2.0",
          "state": {
            "_model_module": "@jupyter-widgets/base",
            "_model_module_version": "1.2.0",
            "_model_name": "LayoutModel",
            "_view_count": null,
            "_view_module": "@jupyter-widgets/base",
            "_view_module_version": "1.2.0",
            "_view_name": "LayoutView",
            "align_content": null,
            "align_items": null,
            "align_self": null,
            "border": null,
            "bottom": null,
            "display": null,
            "flex": null,
            "flex_flow": null,
            "grid_area": null,
            "grid_auto_columns": null,
            "grid_auto_flow": null,
            "grid_auto_rows": null,
            "grid_column": null,
            "grid_gap": null,
            "grid_row": null,
            "grid_template_areas": null,
            "grid_template_columns": null,
            "grid_template_rows": null,
            "height": null,
            "justify_content": null,
            "justify_items": null,
            "left": null,
            "margin": null,
            "max_height": null,
            "max_width": null,
            "min_height": null,
            "min_width": null,
            "object_fit": null,
            "object_position": null,
            "order": null,
            "overflow": null,
            "overflow_x": null,
            "overflow_y": null,
            "padding": null,
            "right": null,
            "top": null,
            "visibility": null,
            "width": null
          }
        },
        "4e501449e7e44d0ab9fc60e3f29beb0e": {
          "model_module": "@jupyter-widgets/controls",
          "model_name": "DescriptionStyleModel",
          "model_module_version": "1.5.0",
          "state": {
            "_model_module": "@jupyter-widgets/controls",
            "_model_module_version": "1.5.0",
            "_model_name": "DescriptionStyleModel",
            "_view_count": null,
            "_view_module": "@jupyter-widgets/base",
            "_view_module_version": "1.2.0",
            "_view_name": "StyleView",
            "description_width": ""
          }
        },
        "c65e14064e0040af8b22ffa1166b28ec": {
          "model_module": "@jupyter-widgets/base",
          "model_name": "LayoutModel",
          "model_module_version": "1.2.0",
          "state": {
            "_model_module": "@jupyter-widgets/base",
            "_model_module_version": "1.2.0",
            "_model_name": "LayoutModel",
            "_view_count": null,
            "_view_module": "@jupyter-widgets/base",
            "_view_module_version": "1.2.0",
            "_view_name": "LayoutView",
            "align_content": null,
            "align_items": null,
            "align_self": null,
            "border": null,
            "bottom": null,
            "display": null,
            "flex": null,
            "flex_flow": null,
            "grid_area": null,
            "grid_auto_columns": null,
            "grid_auto_flow": null,
            "grid_auto_rows": null,
            "grid_column": null,
            "grid_gap": null,
            "grid_row": null,
            "grid_template_areas": null,
            "grid_template_columns": null,
            "grid_template_rows": null,
            "height": null,
            "justify_content": null,
            "justify_items": null,
            "left": null,
            "margin": null,
            "max_height": null,
            "max_width": null,
            "min_height": null,
            "min_width": null,
            "object_fit": null,
            "object_position": null,
            "order": null,
            "overflow": null,
            "overflow_x": null,
            "overflow_y": null,
            "padding": null,
            "right": null,
            "top": null,
            "visibility": null,
            "width": null
          }
        },
        "aecc4a878a2143f38b5ee6de55ae514d": {
          "model_module": "@jupyter-widgets/controls",
          "model_name": "ProgressStyleModel",
          "model_module_version": "1.5.0",
          "state": {
            "_model_module": "@jupyter-widgets/controls",
            "_model_module_version": "1.5.0",
            "_model_name": "ProgressStyleModel",
            "_view_count": null,
            "_view_module": "@jupyter-widgets/base",
            "_view_module_version": "1.2.0",
            "_view_name": "StyleView",
            "bar_color": null,
            "description_width": ""
          }
        },
        "c48d0507f49641f59c8a7bc19115d76f": {
          "model_module": "@jupyter-widgets/base",
          "model_name": "LayoutModel",
          "model_module_version": "1.2.0",
          "state": {
            "_model_module": "@jupyter-widgets/base",
            "_model_module_version": "1.2.0",
            "_model_name": "LayoutModel",
            "_view_count": null,
            "_view_module": "@jupyter-widgets/base",
            "_view_module_version": "1.2.0",
            "_view_name": "LayoutView",
            "align_content": null,
            "align_items": null,
            "align_self": null,
            "border": null,
            "bottom": null,
            "display": null,
            "flex": null,
            "flex_flow": null,
            "grid_area": null,
            "grid_auto_columns": null,
            "grid_auto_flow": null,
            "grid_auto_rows": null,
            "grid_column": null,
            "grid_gap": null,
            "grid_row": null,
            "grid_template_areas": null,
            "grid_template_columns": null,
            "grid_template_rows": null,
            "height": null,
            "justify_content": null,
            "justify_items": null,
            "left": null,
            "margin": null,
            "max_height": null,
            "max_width": null,
            "min_height": null,
            "min_width": null,
            "object_fit": null,
            "object_position": null,
            "order": null,
            "overflow": null,
            "overflow_x": null,
            "overflow_y": null,
            "padding": null,
            "right": null,
            "top": null,
            "visibility": null,
            "width": null
          }
        },
        "a5953acdbfc344468572baed0c45bab7": {
          "model_module": "@jupyter-widgets/controls",
          "model_name": "DescriptionStyleModel",
          "model_module_version": "1.5.0",
          "state": {
            "_model_module": "@jupyter-widgets/controls",
            "_model_module_version": "1.5.0",
            "_model_name": "DescriptionStyleModel",
            "_view_count": null,
            "_view_module": "@jupyter-widgets/base",
            "_view_module_version": "1.2.0",
            "_view_name": "StyleView",
            "description_width": ""
          }
        },
        "51e90acaaf1b4db188dbfa41354f2f65": {
          "model_module": "@jupyter-widgets/controls",
          "model_name": "HBoxModel",
          "model_module_version": "1.5.0",
          "state": {
            "_dom_classes": [],
            "_model_module": "@jupyter-widgets/controls",
            "_model_module_version": "1.5.0",
            "_model_name": "HBoxModel",
            "_view_count": null,
            "_view_module": "@jupyter-widgets/controls",
            "_view_module_version": "1.5.0",
            "_view_name": "HBoxView",
            "box_style": "",
            "children": [
              "IPY_MODEL_ed5f7a77d8b14f169e141e1858db38de",
              "IPY_MODEL_2b0d072114e94de184a811929308a541",
              "IPY_MODEL_df2062b37b5e4f879d4219dedb368f23"
            ],
            "layout": "IPY_MODEL_e457c48aac7e44d492d9a14e2a50713b"
          }
        },
        "ed5f7a77d8b14f169e141e1858db38de": {
          "model_module": "@jupyter-widgets/controls",
          "model_name": "HTMLModel",
          "model_module_version": "1.5.0",
          "state": {
            "_dom_classes": [],
            "_model_module": "@jupyter-widgets/controls",
            "_model_module_version": "1.5.0",
            "_model_name": "HTMLModel",
            "_view_count": null,
            "_view_module": "@jupyter-widgets/controls",
            "_view_module_version": "1.5.0",
            "_view_name": "HTMLView",
            "description": "",
            "description_tooltip": null,
            "layout": "IPY_MODEL_8bfb80bc61f34896a01caff3b12e249a",
            "placeholder": "​",
            "style": "IPY_MODEL_b1876b0ea7ed442eb837462fbcf9c303",
            "value": "100%"
          }
        },
        "2b0d072114e94de184a811929308a541": {
          "model_module": "@jupyter-widgets/controls",
          "model_name": "FloatProgressModel",
          "model_module_version": "1.5.0",
          "state": {
            "_dom_classes": [],
            "_model_module": "@jupyter-widgets/controls",
            "_model_module_version": "1.5.0",
            "_model_name": "FloatProgressModel",
            "_view_count": null,
            "_view_module": "@jupyter-widgets/controls",
            "_view_module_version": "1.5.0",
            "_view_name": "ProgressView",
            "bar_style": "success",
            "description": "",
            "description_tooltip": null,
            "layout": "IPY_MODEL_d305e293d0c44e58a26a9c19afd777e5",
            "max": 3000,
            "min": 0,
            "orientation": "horizontal",
            "style": "IPY_MODEL_08db019bf174454b8898f51ce004073b",
            "value": 3000
          }
        },
        "df2062b37b5e4f879d4219dedb368f23": {
          "model_module": "@jupyter-widgets/controls",
          "model_name": "HTMLModel",
          "model_module_version": "1.5.0",
          "state": {
            "_dom_classes": [],
            "_model_module": "@jupyter-widgets/controls",
            "_model_module_version": "1.5.0",
            "_model_name": "HTMLModel",
            "_view_count": null,
            "_view_module": "@jupyter-widgets/controls",
            "_view_module_version": "1.5.0",
            "_view_name": "HTMLView",
            "description": "",
            "description_tooltip": null,
            "layout": "IPY_MODEL_1770843e160a4424a02f759d8f996f1e",
            "placeholder": "​",
            "style": "IPY_MODEL_08816f6642ff4f579dd0a4b6a3e21a1c",
            "value": " 3000/3000 [00:05&lt;00:00, 552.07it/s]"
          }
        },
        "e457c48aac7e44d492d9a14e2a50713b": {
          "model_module": "@jupyter-widgets/base",
          "model_name": "LayoutModel",
          "model_module_version": "1.2.0",
          "state": {
            "_model_module": "@jupyter-widgets/base",
            "_model_module_version": "1.2.0",
            "_model_name": "LayoutModel",
            "_view_count": null,
            "_view_module": "@jupyter-widgets/base",
            "_view_module_version": "1.2.0",
            "_view_name": "LayoutView",
            "align_content": null,
            "align_items": null,
            "align_self": null,
            "border": null,
            "bottom": null,
            "display": null,
            "flex": null,
            "flex_flow": null,
            "grid_area": null,
            "grid_auto_columns": null,
            "grid_auto_flow": null,
            "grid_auto_rows": null,
            "grid_column": null,
            "grid_gap": null,
            "grid_row": null,
            "grid_template_areas": null,
            "grid_template_columns": null,
            "grid_template_rows": null,
            "height": null,
            "justify_content": null,
            "justify_items": null,
            "left": null,
            "margin": null,
            "max_height": null,
            "max_width": null,
            "min_height": null,
            "min_width": null,
            "object_fit": null,
            "object_position": null,
            "order": null,
            "overflow": null,
            "overflow_x": null,
            "overflow_y": null,
            "padding": null,
            "right": null,
            "top": null,
            "visibility": null,
            "width": null
          }
        },
        "8bfb80bc61f34896a01caff3b12e249a": {
          "model_module": "@jupyter-widgets/base",
          "model_name": "LayoutModel",
          "model_module_version": "1.2.0",
          "state": {
            "_model_module": "@jupyter-widgets/base",
            "_model_module_version": "1.2.0",
            "_model_name": "LayoutModel",
            "_view_count": null,
            "_view_module": "@jupyter-widgets/base",
            "_view_module_version": "1.2.0",
            "_view_name": "LayoutView",
            "align_content": null,
            "align_items": null,
            "align_self": null,
            "border": null,
            "bottom": null,
            "display": null,
            "flex": null,
            "flex_flow": null,
            "grid_area": null,
            "grid_auto_columns": null,
            "grid_auto_flow": null,
            "grid_auto_rows": null,
            "grid_column": null,
            "grid_gap": null,
            "grid_row": null,
            "grid_template_areas": null,
            "grid_template_columns": null,
            "grid_template_rows": null,
            "height": null,
            "justify_content": null,
            "justify_items": null,
            "left": null,
            "margin": null,
            "max_height": null,
            "max_width": null,
            "min_height": null,
            "min_width": null,
            "object_fit": null,
            "object_position": null,
            "order": null,
            "overflow": null,
            "overflow_x": null,
            "overflow_y": null,
            "padding": null,
            "right": null,
            "top": null,
            "visibility": null,
            "width": null
          }
        },
        "b1876b0ea7ed442eb837462fbcf9c303": {
          "model_module": "@jupyter-widgets/controls",
          "model_name": "DescriptionStyleModel",
          "model_module_version": "1.5.0",
          "state": {
            "_model_module": "@jupyter-widgets/controls",
            "_model_module_version": "1.5.0",
            "_model_name": "DescriptionStyleModel",
            "_view_count": null,
            "_view_module": "@jupyter-widgets/base",
            "_view_module_version": "1.2.0",
            "_view_name": "StyleView",
            "description_width": ""
          }
        },
        "d305e293d0c44e58a26a9c19afd777e5": {
          "model_module": "@jupyter-widgets/base",
          "model_name": "LayoutModel",
          "model_module_version": "1.2.0",
          "state": {
            "_model_module": "@jupyter-widgets/base",
            "_model_module_version": "1.2.0",
            "_model_name": "LayoutModel",
            "_view_count": null,
            "_view_module": "@jupyter-widgets/base",
            "_view_module_version": "1.2.0",
            "_view_name": "LayoutView",
            "align_content": null,
            "align_items": null,
            "align_self": null,
            "border": null,
            "bottom": null,
            "display": null,
            "flex": null,
            "flex_flow": null,
            "grid_area": null,
            "grid_auto_columns": null,
            "grid_auto_flow": null,
            "grid_auto_rows": null,
            "grid_column": null,
            "grid_gap": null,
            "grid_row": null,
            "grid_template_areas": null,
            "grid_template_columns": null,
            "grid_template_rows": null,
            "height": null,
            "justify_content": null,
            "justify_items": null,
            "left": null,
            "margin": null,
            "max_height": null,
            "max_width": null,
            "min_height": null,
            "min_width": null,
            "object_fit": null,
            "object_position": null,
            "order": null,
            "overflow": null,
            "overflow_x": null,
            "overflow_y": null,
            "padding": null,
            "right": null,
            "top": null,
            "visibility": null,
            "width": null
          }
        },
        "08db019bf174454b8898f51ce004073b": {
          "model_module": "@jupyter-widgets/controls",
          "model_name": "ProgressStyleModel",
          "model_module_version": "1.5.0",
          "state": {
            "_model_module": "@jupyter-widgets/controls",
            "_model_module_version": "1.5.0",
            "_model_name": "ProgressStyleModel",
            "_view_count": null,
            "_view_module": "@jupyter-widgets/base",
            "_view_module_version": "1.2.0",
            "_view_name": "StyleView",
            "bar_color": null,
            "description_width": ""
          }
        },
        "1770843e160a4424a02f759d8f996f1e": {
          "model_module": "@jupyter-widgets/base",
          "model_name": "LayoutModel",
          "model_module_version": "1.2.0",
          "state": {
            "_model_module": "@jupyter-widgets/base",
            "_model_module_version": "1.2.0",
            "_model_name": "LayoutModel",
            "_view_count": null,
            "_view_module": "@jupyter-widgets/base",
            "_view_module_version": "1.2.0",
            "_view_name": "LayoutView",
            "align_content": null,
            "align_items": null,
            "align_self": null,
            "border": null,
            "bottom": null,
            "display": null,
            "flex": null,
            "flex_flow": null,
            "grid_area": null,
            "grid_auto_columns": null,
            "grid_auto_flow": null,
            "grid_auto_rows": null,
            "grid_column": null,
            "grid_gap": null,
            "grid_row": null,
            "grid_template_areas": null,
            "grid_template_columns": null,
            "grid_template_rows": null,
            "height": null,
            "justify_content": null,
            "justify_items": null,
            "left": null,
            "margin": null,
            "max_height": null,
            "max_width": null,
            "min_height": null,
            "min_width": null,
            "object_fit": null,
            "object_position": null,
            "order": null,
            "overflow": null,
            "overflow_x": null,
            "overflow_y": null,
            "padding": null,
            "right": null,
            "top": null,
            "visibility": null,
            "width": null
          }
        },
        "08816f6642ff4f579dd0a4b6a3e21a1c": {
          "model_module": "@jupyter-widgets/controls",
          "model_name": "DescriptionStyleModel",
          "model_module_version": "1.5.0",
          "state": {
            "_model_module": "@jupyter-widgets/controls",
            "_model_module_version": "1.5.0",
            "_model_name": "DescriptionStyleModel",
            "_view_count": null,
            "_view_module": "@jupyter-widgets/base",
            "_view_module_version": "1.2.0",
            "_view_name": "StyleView",
            "description_width": ""
          }
        },
        "389a48a378154c75a369bcb2f12d80b9": {
          "model_module": "@jupyter-widgets/controls",
          "model_name": "HBoxModel",
          "model_module_version": "1.5.0",
          "state": {
            "_dom_classes": [],
            "_model_module": "@jupyter-widgets/controls",
            "_model_module_version": "1.5.0",
            "_model_name": "HBoxModel",
            "_view_count": null,
            "_view_module": "@jupyter-widgets/controls",
            "_view_module_version": "1.5.0",
            "_view_name": "HBoxView",
            "box_style": "",
            "children": [
              "IPY_MODEL_f231ea399a194fd8a9a15c868f496caa",
              "IPY_MODEL_cb670462004946fe921ca38e34cf367d",
              "IPY_MODEL_beacc0d3c9014e1caa635267671383cb"
            ],
            "layout": "IPY_MODEL_6dc06a8dd2d043e0bbdfe6b573fc4e38"
          }
        },
        "f231ea399a194fd8a9a15c868f496caa": {
          "model_module": "@jupyter-widgets/controls",
          "model_name": "HTMLModel",
          "model_module_version": "1.5.0",
          "state": {
            "_dom_classes": [],
            "_model_module": "@jupyter-widgets/controls",
            "_model_module_version": "1.5.0",
            "_model_name": "HTMLModel",
            "_view_count": null,
            "_view_module": "@jupyter-widgets/controls",
            "_view_module_version": "1.5.0",
            "_view_name": "HTMLView",
            "description": "",
            "description_tooltip": null,
            "layout": "IPY_MODEL_fbe2ea46ee924b4299e1ed75b7ee9bb6",
            "placeholder": "​",
            "style": "IPY_MODEL_6ac54b6ee2834868b6927b5514e49213",
            "value": "100%"
          }
        },
        "cb670462004946fe921ca38e34cf367d": {
          "model_module": "@jupyter-widgets/controls",
          "model_name": "FloatProgressModel",
          "model_module_version": "1.5.0",
          "state": {
            "_dom_classes": [],
            "_model_module": "@jupyter-widgets/controls",
            "_model_module_version": "1.5.0",
            "_model_name": "FloatProgressModel",
            "_view_count": null,
            "_view_module": "@jupyter-widgets/controls",
            "_view_module_version": "1.5.0",
            "_view_name": "ProgressView",
            "bar_style": "success",
            "description": "",
            "description_tooltip": null,
            "layout": "IPY_MODEL_ced69741c84545f1b1e956b08afcfac7",
            "max": 3000,
            "min": 0,
            "orientation": "horizontal",
            "style": "IPY_MODEL_ff9dfc2fe3984c608fc1804c8b3664d7",
            "value": 3000
          }
        },
        "beacc0d3c9014e1caa635267671383cb": {
          "model_module": "@jupyter-widgets/controls",
          "model_name": "HTMLModel",
          "model_module_version": "1.5.0",
          "state": {
            "_dom_classes": [],
            "_model_module": "@jupyter-widgets/controls",
            "_model_module_version": "1.5.0",
            "_model_name": "HTMLModel",
            "_view_count": null,
            "_view_module": "@jupyter-widgets/controls",
            "_view_module_version": "1.5.0",
            "_view_name": "HTMLView",
            "description": "",
            "description_tooltip": null,
            "layout": "IPY_MODEL_9bc9e4af58e74dc1b4bc80e88fcf4a91",
            "placeholder": "​",
            "style": "IPY_MODEL_38655acaad404dd1be6a1e7bd6cf347b",
            "value": " 3000/3000 [00:00&lt;00:00, 5420.37it/s]"
          }
        },
        "6dc06a8dd2d043e0bbdfe6b573fc4e38": {
          "model_module": "@jupyter-widgets/base",
          "model_name": "LayoutModel",
          "model_module_version": "1.2.0",
          "state": {
            "_model_module": "@jupyter-widgets/base",
            "_model_module_version": "1.2.0",
            "_model_name": "LayoutModel",
            "_view_count": null,
            "_view_module": "@jupyter-widgets/base",
            "_view_module_version": "1.2.0",
            "_view_name": "LayoutView",
            "align_content": null,
            "align_items": null,
            "align_self": null,
            "border": null,
            "bottom": null,
            "display": null,
            "flex": null,
            "flex_flow": null,
            "grid_area": null,
            "grid_auto_columns": null,
            "grid_auto_flow": null,
            "grid_auto_rows": null,
            "grid_column": null,
            "grid_gap": null,
            "grid_row": null,
            "grid_template_areas": null,
            "grid_template_columns": null,
            "grid_template_rows": null,
            "height": null,
            "justify_content": null,
            "justify_items": null,
            "left": null,
            "margin": null,
            "max_height": null,
            "max_width": null,
            "min_height": null,
            "min_width": null,
            "object_fit": null,
            "object_position": null,
            "order": null,
            "overflow": null,
            "overflow_x": null,
            "overflow_y": null,
            "padding": null,
            "right": null,
            "top": null,
            "visibility": null,
            "width": null
          }
        },
        "fbe2ea46ee924b4299e1ed75b7ee9bb6": {
          "model_module": "@jupyter-widgets/base",
          "model_name": "LayoutModel",
          "model_module_version": "1.2.0",
          "state": {
            "_model_module": "@jupyter-widgets/base",
            "_model_module_version": "1.2.0",
            "_model_name": "LayoutModel",
            "_view_count": null,
            "_view_module": "@jupyter-widgets/base",
            "_view_module_version": "1.2.0",
            "_view_name": "LayoutView",
            "align_content": null,
            "align_items": null,
            "align_self": null,
            "border": null,
            "bottom": null,
            "display": null,
            "flex": null,
            "flex_flow": null,
            "grid_area": null,
            "grid_auto_columns": null,
            "grid_auto_flow": null,
            "grid_auto_rows": null,
            "grid_column": null,
            "grid_gap": null,
            "grid_row": null,
            "grid_template_areas": null,
            "grid_template_columns": null,
            "grid_template_rows": null,
            "height": null,
            "justify_content": null,
            "justify_items": null,
            "left": null,
            "margin": null,
            "max_height": null,
            "max_width": null,
            "min_height": null,
            "min_width": null,
            "object_fit": null,
            "object_position": null,
            "order": null,
            "overflow": null,
            "overflow_x": null,
            "overflow_y": null,
            "padding": null,
            "right": null,
            "top": null,
            "visibility": null,
            "width": null
          }
        },
        "6ac54b6ee2834868b6927b5514e49213": {
          "model_module": "@jupyter-widgets/controls",
          "model_name": "DescriptionStyleModel",
          "model_module_version": "1.5.0",
          "state": {
            "_model_module": "@jupyter-widgets/controls",
            "_model_module_version": "1.5.0",
            "_model_name": "DescriptionStyleModel",
            "_view_count": null,
            "_view_module": "@jupyter-widgets/base",
            "_view_module_version": "1.2.0",
            "_view_name": "StyleView",
            "description_width": ""
          }
        },
        "ced69741c84545f1b1e956b08afcfac7": {
          "model_module": "@jupyter-widgets/base",
          "model_name": "LayoutModel",
          "model_module_version": "1.2.0",
          "state": {
            "_model_module": "@jupyter-widgets/base",
            "_model_module_version": "1.2.0",
            "_model_name": "LayoutModel",
            "_view_count": null,
            "_view_module": "@jupyter-widgets/base",
            "_view_module_version": "1.2.0",
            "_view_name": "LayoutView",
            "align_content": null,
            "align_items": null,
            "align_self": null,
            "border": null,
            "bottom": null,
            "display": null,
            "flex": null,
            "flex_flow": null,
            "grid_area": null,
            "grid_auto_columns": null,
            "grid_auto_flow": null,
            "grid_auto_rows": null,
            "grid_column": null,
            "grid_gap": null,
            "grid_row": null,
            "grid_template_areas": null,
            "grid_template_columns": null,
            "grid_template_rows": null,
            "height": null,
            "justify_content": null,
            "justify_items": null,
            "left": null,
            "margin": null,
            "max_height": null,
            "max_width": null,
            "min_height": null,
            "min_width": null,
            "object_fit": null,
            "object_position": null,
            "order": null,
            "overflow": null,
            "overflow_x": null,
            "overflow_y": null,
            "padding": null,
            "right": null,
            "top": null,
            "visibility": null,
            "width": null
          }
        },
        "ff9dfc2fe3984c608fc1804c8b3664d7": {
          "model_module": "@jupyter-widgets/controls",
          "model_name": "ProgressStyleModel",
          "model_module_version": "1.5.0",
          "state": {
            "_model_module": "@jupyter-widgets/controls",
            "_model_module_version": "1.5.0",
            "_model_name": "ProgressStyleModel",
            "_view_count": null,
            "_view_module": "@jupyter-widgets/base",
            "_view_module_version": "1.2.0",
            "_view_name": "StyleView",
            "bar_color": null,
            "description_width": ""
          }
        },
        "9bc9e4af58e74dc1b4bc80e88fcf4a91": {
          "model_module": "@jupyter-widgets/base",
          "model_name": "LayoutModel",
          "model_module_version": "1.2.0",
          "state": {
            "_model_module": "@jupyter-widgets/base",
            "_model_module_version": "1.2.0",
            "_model_name": "LayoutModel",
            "_view_count": null,
            "_view_module": "@jupyter-widgets/base",
            "_view_module_version": "1.2.0",
            "_view_name": "LayoutView",
            "align_content": null,
            "align_items": null,
            "align_self": null,
            "border": null,
            "bottom": null,
            "display": null,
            "flex": null,
            "flex_flow": null,
            "grid_area": null,
            "grid_auto_columns": null,
            "grid_auto_flow": null,
            "grid_auto_rows": null,
            "grid_column": null,
            "grid_gap": null,
            "grid_row": null,
            "grid_template_areas": null,
            "grid_template_columns": null,
            "grid_template_rows": null,
            "height": null,
            "justify_content": null,
            "justify_items": null,
            "left": null,
            "margin": null,
            "max_height": null,
            "max_width": null,
            "min_height": null,
            "min_width": null,
            "object_fit": null,
            "object_position": null,
            "order": null,
            "overflow": null,
            "overflow_x": null,
            "overflow_y": null,
            "padding": null,
            "right": null,
            "top": null,
            "visibility": null,
            "width": null
          }
        },
        "38655acaad404dd1be6a1e7bd6cf347b": {
          "model_module": "@jupyter-widgets/controls",
          "model_name": "DescriptionStyleModel",
          "model_module_version": "1.5.0",
          "state": {
            "_model_module": "@jupyter-widgets/controls",
            "_model_module_version": "1.5.0",
            "_model_name": "DescriptionStyleModel",
            "_view_count": null,
            "_view_module": "@jupyter-widgets/base",
            "_view_module_version": "1.2.0",
            "_view_name": "StyleView",
            "description_width": ""
          }
        },
        "ec79d30d1f72406daa9e1e1c39392cfa": {
          "model_module": "@jupyter-widgets/controls",
          "model_name": "HBoxModel",
          "model_module_version": "1.5.0",
          "state": {
            "_dom_classes": [],
            "_model_module": "@jupyter-widgets/controls",
            "_model_module_version": "1.5.0",
            "_model_name": "HBoxModel",
            "_view_count": null,
            "_view_module": "@jupyter-widgets/controls",
            "_view_module_version": "1.5.0",
            "_view_name": "HBoxView",
            "box_style": "",
            "children": [
              "IPY_MODEL_37e194f667054c328a64dd4683792461",
              "IPY_MODEL_c360bb98d530467a8482402e163feed5",
              "IPY_MODEL_e26f9178a3c8492fa36d803af56d0da7"
            ],
            "layout": "IPY_MODEL_cff9c4d65432497c80df9bef1df9dd8d"
          }
        },
        "37e194f667054c328a64dd4683792461": {
          "model_module": "@jupyter-widgets/controls",
          "model_name": "HTMLModel",
          "model_module_version": "1.5.0",
          "state": {
            "_dom_classes": [],
            "_model_module": "@jupyter-widgets/controls",
            "_model_module_version": "1.5.0",
            "_model_name": "HTMLModel",
            "_view_count": null,
            "_view_module": "@jupyter-widgets/controls",
            "_view_module_version": "1.5.0",
            "_view_name": "HTMLView",
            "description": "",
            "description_tooltip": null,
            "layout": "IPY_MODEL_9c15dbee580a4f32ae0e137c3672cd66",
            "placeholder": "​",
            "style": "IPY_MODEL_5ec4ceff3e4a41768be32927ef1a1574",
            "value": "100%"
          }
        },
        "c360bb98d530467a8482402e163feed5": {
          "model_module": "@jupyter-widgets/controls",
          "model_name": "FloatProgressModel",
          "model_module_version": "1.5.0",
          "state": {
            "_dom_classes": [],
            "_model_module": "@jupyter-widgets/controls",
            "_model_module_version": "1.5.0",
            "_model_name": "FloatProgressModel",
            "_view_count": null,
            "_view_module": "@jupyter-widgets/controls",
            "_view_module_version": "1.5.0",
            "_view_name": "ProgressView",
            "bar_style": "success",
            "description": "",
            "description_tooltip": null,
            "layout": "IPY_MODEL_317079f440b6427ab1f9cba37335a528",
            "max": 3000,
            "min": 0,
            "orientation": "horizontal",
            "style": "IPY_MODEL_72849f0e30e84582b006b3777127caf6",
            "value": 3000
          }
        },
        "e26f9178a3c8492fa36d803af56d0da7": {
          "model_module": "@jupyter-widgets/controls",
          "model_name": "HTMLModel",
          "model_module_version": "1.5.0",
          "state": {
            "_dom_classes": [],
            "_model_module": "@jupyter-widgets/controls",
            "_model_module_version": "1.5.0",
            "_model_name": "HTMLModel",
            "_view_count": null,
            "_view_module": "@jupyter-widgets/controls",
            "_view_module_version": "1.5.0",
            "_view_name": "HTMLView",
            "description": "",
            "description_tooltip": null,
            "layout": "IPY_MODEL_44e9d88b10ab45eb9305362330e0593f",
            "placeholder": "​",
            "style": "IPY_MODEL_901cefe10f5c4e09a045841423dfdc08",
            "value": " 3000/3000 [00:11&lt;00:00, 275.14it/s]"
          }
        },
        "cff9c4d65432497c80df9bef1df9dd8d": {
          "model_module": "@jupyter-widgets/base",
          "model_name": "LayoutModel",
          "model_module_version": "1.2.0",
          "state": {
            "_model_module": "@jupyter-widgets/base",
            "_model_module_version": "1.2.0",
            "_model_name": "LayoutModel",
            "_view_count": null,
            "_view_module": "@jupyter-widgets/base",
            "_view_module_version": "1.2.0",
            "_view_name": "LayoutView",
            "align_content": null,
            "align_items": null,
            "align_self": null,
            "border": null,
            "bottom": null,
            "display": null,
            "flex": null,
            "flex_flow": null,
            "grid_area": null,
            "grid_auto_columns": null,
            "grid_auto_flow": null,
            "grid_auto_rows": null,
            "grid_column": null,
            "grid_gap": null,
            "grid_row": null,
            "grid_template_areas": null,
            "grid_template_columns": null,
            "grid_template_rows": null,
            "height": null,
            "justify_content": null,
            "justify_items": null,
            "left": null,
            "margin": null,
            "max_height": null,
            "max_width": null,
            "min_height": null,
            "min_width": null,
            "object_fit": null,
            "object_position": null,
            "order": null,
            "overflow": null,
            "overflow_x": null,
            "overflow_y": null,
            "padding": null,
            "right": null,
            "top": null,
            "visibility": null,
            "width": null
          }
        },
        "9c15dbee580a4f32ae0e137c3672cd66": {
          "model_module": "@jupyter-widgets/base",
          "model_name": "LayoutModel",
          "model_module_version": "1.2.0",
          "state": {
            "_model_module": "@jupyter-widgets/base",
            "_model_module_version": "1.2.0",
            "_model_name": "LayoutModel",
            "_view_count": null,
            "_view_module": "@jupyter-widgets/base",
            "_view_module_version": "1.2.0",
            "_view_name": "LayoutView",
            "align_content": null,
            "align_items": null,
            "align_self": null,
            "border": null,
            "bottom": null,
            "display": null,
            "flex": null,
            "flex_flow": null,
            "grid_area": null,
            "grid_auto_columns": null,
            "grid_auto_flow": null,
            "grid_auto_rows": null,
            "grid_column": null,
            "grid_gap": null,
            "grid_row": null,
            "grid_template_areas": null,
            "grid_template_columns": null,
            "grid_template_rows": null,
            "height": null,
            "justify_content": null,
            "justify_items": null,
            "left": null,
            "margin": null,
            "max_height": null,
            "max_width": null,
            "min_height": null,
            "min_width": null,
            "object_fit": null,
            "object_position": null,
            "order": null,
            "overflow": null,
            "overflow_x": null,
            "overflow_y": null,
            "padding": null,
            "right": null,
            "top": null,
            "visibility": null,
            "width": null
          }
        },
        "5ec4ceff3e4a41768be32927ef1a1574": {
          "model_module": "@jupyter-widgets/controls",
          "model_name": "DescriptionStyleModel",
          "model_module_version": "1.5.0",
          "state": {
            "_model_module": "@jupyter-widgets/controls",
            "_model_module_version": "1.5.0",
            "_model_name": "DescriptionStyleModel",
            "_view_count": null,
            "_view_module": "@jupyter-widgets/base",
            "_view_module_version": "1.2.0",
            "_view_name": "StyleView",
            "description_width": ""
          }
        },
        "317079f440b6427ab1f9cba37335a528": {
          "model_module": "@jupyter-widgets/base",
          "model_name": "LayoutModel",
          "model_module_version": "1.2.0",
          "state": {
            "_model_module": "@jupyter-widgets/base",
            "_model_module_version": "1.2.0",
            "_model_name": "LayoutModel",
            "_view_count": null,
            "_view_module": "@jupyter-widgets/base",
            "_view_module_version": "1.2.0",
            "_view_name": "LayoutView",
            "align_content": null,
            "align_items": null,
            "align_self": null,
            "border": null,
            "bottom": null,
            "display": null,
            "flex": null,
            "flex_flow": null,
            "grid_area": null,
            "grid_auto_columns": null,
            "grid_auto_flow": null,
            "grid_auto_rows": null,
            "grid_column": null,
            "grid_gap": null,
            "grid_row": null,
            "grid_template_areas": null,
            "grid_template_columns": null,
            "grid_template_rows": null,
            "height": null,
            "justify_content": null,
            "justify_items": null,
            "left": null,
            "margin": null,
            "max_height": null,
            "max_width": null,
            "min_height": null,
            "min_width": null,
            "object_fit": null,
            "object_position": null,
            "order": null,
            "overflow": null,
            "overflow_x": null,
            "overflow_y": null,
            "padding": null,
            "right": null,
            "top": null,
            "visibility": null,
            "width": null
          }
        },
        "72849f0e30e84582b006b3777127caf6": {
          "model_module": "@jupyter-widgets/controls",
          "model_name": "ProgressStyleModel",
          "model_module_version": "1.5.0",
          "state": {
            "_model_module": "@jupyter-widgets/controls",
            "_model_module_version": "1.5.0",
            "_model_name": "ProgressStyleModel",
            "_view_count": null,
            "_view_module": "@jupyter-widgets/base",
            "_view_module_version": "1.2.0",
            "_view_name": "StyleView",
            "bar_color": null,
            "description_width": ""
          }
        },
        "44e9d88b10ab45eb9305362330e0593f": {
          "model_module": "@jupyter-widgets/base",
          "model_name": "LayoutModel",
          "model_module_version": "1.2.0",
          "state": {
            "_model_module": "@jupyter-widgets/base",
            "_model_module_version": "1.2.0",
            "_model_name": "LayoutModel",
            "_view_count": null,
            "_view_module": "@jupyter-widgets/base",
            "_view_module_version": "1.2.0",
            "_view_name": "LayoutView",
            "align_content": null,
            "align_items": null,
            "align_self": null,
            "border": null,
            "bottom": null,
            "display": null,
            "flex": null,
            "flex_flow": null,
            "grid_area": null,
            "grid_auto_columns": null,
            "grid_auto_flow": null,
            "grid_auto_rows": null,
            "grid_column": null,
            "grid_gap": null,
            "grid_row": null,
            "grid_template_areas": null,
            "grid_template_columns": null,
            "grid_template_rows": null,
            "height": null,
            "justify_content": null,
            "justify_items": null,
            "left": null,
            "margin": null,
            "max_height": null,
            "max_width": null,
            "min_height": null,
            "min_width": null,
            "object_fit": null,
            "object_position": null,
            "order": null,
            "overflow": null,
            "overflow_x": null,
            "overflow_y": null,
            "padding": null,
            "right": null,
            "top": null,
            "visibility": null,
            "width": null
          }
        },
        "901cefe10f5c4e09a045841423dfdc08": {
          "model_module": "@jupyter-widgets/controls",
          "model_name": "DescriptionStyleModel",
          "model_module_version": "1.5.0",
          "state": {
            "_model_module": "@jupyter-widgets/controls",
            "_model_module_version": "1.5.0",
            "_model_name": "DescriptionStyleModel",
            "_view_count": null,
            "_view_module": "@jupyter-widgets/base",
            "_view_module_version": "1.2.0",
            "_view_name": "StyleView",
            "description_width": ""
          }
        }
      }
    }
  },
  "nbformat": 4,
  "nbformat_minor": 0
}