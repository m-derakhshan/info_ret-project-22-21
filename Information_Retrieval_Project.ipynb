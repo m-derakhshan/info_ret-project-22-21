{
  "nbformat": 4,
  "nbformat_minor": 0,
  "metadata": {
    "colab": {
      "name": "Information Retrieval Project.ipynb",
      "provenance": [],
      "collapsed_sections": []
    },
    "kernelspec": {
      "name": "python3",
      "display_name": "Python 3"
    },
    "language_info": {
      "name": "python"
    },
    "widgets": {
      "application/vnd.jupyter.widget-state+json": {
        "bf75fe1780494bba9437393f4878759d": {
          "model_module": "@jupyter-widgets/controls",
          "model_name": "HBoxModel",
          "model_module_version": "1.5.0",
          "state": {
            "_dom_classes": [],
            "_model_module": "@jupyter-widgets/controls",
            "_model_module_version": "1.5.0",
            "_model_name": "HBoxModel",
            "_view_count": null,
            "_view_module": "@jupyter-widgets/controls",
            "_view_module_version": "1.5.0",
            "_view_name": "HBoxView",
            "box_style": "",
            "children": [
              "IPY_MODEL_e25ba494fa26489ca9d6729f0a563dda",
              "IPY_MODEL_0f94cc1ba82146b3867bd36e2a13b4f3",
              "IPY_MODEL_a8213832fe82485f9c844e6192b0e54b"
            ],
            "layout": "IPY_MODEL_78dffaf570e9426bbfd726258a244d2b"
          }
        },
        "e25ba494fa26489ca9d6729f0a563dda": {
          "model_module": "@jupyter-widgets/controls",
          "model_name": "HTMLModel",
          "model_module_version": "1.5.0",
          "state": {
            "_dom_classes": [],
            "_model_module": "@jupyter-widgets/controls",
            "_model_module_version": "1.5.0",
            "_model_name": "HTMLModel",
            "_view_count": null,
            "_view_module": "@jupyter-widgets/controls",
            "_view_module_version": "1.5.0",
            "_view_name": "HTMLView",
            "description": "",
            "description_tooltip": null,
            "layout": "IPY_MODEL_1bc87aeb70334df79797658d2c0fc970",
            "placeholder": "​",
            "style": "IPY_MODEL_b011ccfa5f2b4df19806155fd0bf7264",
            "value": "100%"
          }
        },
        "0f94cc1ba82146b3867bd36e2a13b4f3": {
          "model_module": "@jupyter-widgets/controls",
          "model_name": "FloatProgressModel",
          "model_module_version": "1.5.0",
          "state": {
            "_dom_classes": [],
            "_model_module": "@jupyter-widgets/controls",
            "_model_module_version": "1.5.0",
            "_model_name": "FloatProgressModel",
            "_view_count": null,
            "_view_module": "@jupyter-widgets/controls",
            "_view_module_version": "1.5.0",
            "_view_name": "ProgressView",
            "bar_style": "success",
            "description": "",
            "description_tooltip": null,
            "layout": "IPY_MODEL_a95cf0a48920496abcaef37e0a8f7376",
            "max": 7000,
            "min": 0,
            "orientation": "horizontal",
            "style": "IPY_MODEL_b96616b7237148d8962f57e215c55378",
            "value": 7000
          }
        },
        "a8213832fe82485f9c844e6192b0e54b": {
          "model_module": "@jupyter-widgets/controls",
          "model_name": "HTMLModel",
          "model_module_version": "1.5.0",
          "state": {
            "_dom_classes": [],
            "_model_module": "@jupyter-widgets/controls",
            "_model_module_version": "1.5.0",
            "_model_name": "HTMLModel",
            "_view_count": null,
            "_view_module": "@jupyter-widgets/controls",
            "_view_module_version": "1.5.0",
            "_view_name": "HTMLView",
            "description": "",
            "description_tooltip": null,
            "layout": "IPY_MODEL_075ab69c1e934a0fac5a0d50695bb8a5",
            "placeholder": "​",
            "style": "IPY_MODEL_2aa0bd1adc75401782032375a9844bf0",
            "value": " 7000/7000 [11:02&lt;00:00, 12.39it/s]"
          }
        },
        "78dffaf570e9426bbfd726258a244d2b": {
          "model_module": "@jupyter-widgets/base",
          "model_name": "LayoutModel",
          "model_module_version": "1.2.0",
          "state": {
            "_model_module": "@jupyter-widgets/base",
            "_model_module_version": "1.2.0",
            "_model_name": "LayoutModel",
            "_view_count": null,
            "_view_module": "@jupyter-widgets/base",
            "_view_module_version": "1.2.0",
            "_view_name": "LayoutView",
            "align_content": null,
            "align_items": null,
            "align_self": null,
            "border": null,
            "bottom": null,
            "display": null,
            "flex": null,
            "flex_flow": null,
            "grid_area": null,
            "grid_auto_columns": null,
            "grid_auto_flow": null,
            "grid_auto_rows": null,
            "grid_column": null,
            "grid_gap": null,
            "grid_row": null,
            "grid_template_areas": null,
            "grid_template_columns": null,
            "grid_template_rows": null,
            "height": null,
            "justify_content": null,
            "justify_items": null,
            "left": null,
            "margin": null,
            "max_height": null,
            "max_width": null,
            "min_height": null,
            "min_width": null,
            "object_fit": null,
            "object_position": null,
            "order": null,
            "overflow": null,
            "overflow_x": null,
            "overflow_y": null,
            "padding": null,
            "right": null,
            "top": null,
            "visibility": null,
            "width": null
          }
        },
        "1bc87aeb70334df79797658d2c0fc970": {
          "model_module": "@jupyter-widgets/base",
          "model_name": "LayoutModel",
          "model_module_version": "1.2.0",
          "state": {
            "_model_module": "@jupyter-widgets/base",
            "_model_module_version": "1.2.0",
            "_model_name": "LayoutModel",
            "_view_count": null,
            "_view_module": "@jupyter-widgets/base",
            "_view_module_version": "1.2.0",
            "_view_name": "LayoutView",
            "align_content": null,
            "align_items": null,
            "align_self": null,
            "border": null,
            "bottom": null,
            "display": null,
            "flex": null,
            "flex_flow": null,
            "grid_area": null,
            "grid_auto_columns": null,
            "grid_auto_flow": null,
            "grid_auto_rows": null,
            "grid_column": null,
            "grid_gap": null,
            "grid_row": null,
            "grid_template_areas": null,
            "grid_template_columns": null,
            "grid_template_rows": null,
            "height": null,
            "justify_content": null,
            "justify_items": null,
            "left": null,
            "margin": null,
            "max_height": null,
            "max_width": null,
            "min_height": null,
            "min_width": null,
            "object_fit": null,
            "object_position": null,
            "order": null,
            "overflow": null,
            "overflow_x": null,
            "overflow_y": null,
            "padding": null,
            "right": null,
            "top": null,
            "visibility": null,
            "width": null
          }
        },
        "b011ccfa5f2b4df19806155fd0bf7264": {
          "model_module": "@jupyter-widgets/controls",
          "model_name": "DescriptionStyleModel",
          "model_module_version": "1.5.0",
          "state": {
            "_model_module": "@jupyter-widgets/controls",
            "_model_module_version": "1.5.0",
            "_model_name": "DescriptionStyleModel",
            "_view_count": null,
            "_view_module": "@jupyter-widgets/base",
            "_view_module_version": "1.2.0",
            "_view_name": "StyleView",
            "description_width": ""
          }
        },
        "a95cf0a48920496abcaef37e0a8f7376": {
          "model_module": "@jupyter-widgets/base",
          "model_name": "LayoutModel",
          "model_module_version": "1.2.0",
          "state": {
            "_model_module": "@jupyter-widgets/base",
            "_model_module_version": "1.2.0",
            "_model_name": "LayoutModel",
            "_view_count": null,
            "_view_module": "@jupyter-widgets/base",
            "_view_module_version": "1.2.0",
            "_view_name": "LayoutView",
            "align_content": null,
            "align_items": null,
            "align_self": null,
            "border": null,
            "bottom": null,
            "display": null,
            "flex": null,
            "flex_flow": null,
            "grid_area": null,
            "grid_auto_columns": null,
            "grid_auto_flow": null,
            "grid_auto_rows": null,
            "grid_column": null,
            "grid_gap": null,
            "grid_row": null,
            "grid_template_areas": null,
            "grid_template_columns": null,
            "grid_template_rows": null,
            "height": null,
            "justify_content": null,
            "justify_items": null,
            "left": null,
            "margin": null,
            "max_height": null,
            "max_width": null,
            "min_height": null,
            "min_width": null,
            "object_fit": null,
            "object_position": null,
            "order": null,
            "overflow": null,
            "overflow_x": null,
            "overflow_y": null,
            "padding": null,
            "right": null,
            "top": null,
            "visibility": null,
            "width": null
          }
        },
        "b96616b7237148d8962f57e215c55378": {
          "model_module": "@jupyter-widgets/controls",
          "model_name": "ProgressStyleModel",
          "model_module_version": "1.5.0",
          "state": {
            "_model_module": "@jupyter-widgets/controls",
            "_model_module_version": "1.5.0",
            "_model_name": "ProgressStyleModel",
            "_view_count": null,
            "_view_module": "@jupyter-widgets/base",
            "_view_module_version": "1.2.0",
            "_view_name": "StyleView",
            "bar_color": null,
            "description_width": ""
          }
        },
        "075ab69c1e934a0fac5a0d50695bb8a5": {
          "model_module": "@jupyter-widgets/base",
          "model_name": "LayoutModel",
          "model_module_version": "1.2.0",
          "state": {
            "_model_module": "@jupyter-widgets/base",
            "_model_module_version": "1.2.0",
            "_model_name": "LayoutModel",
            "_view_count": null,
            "_view_module": "@jupyter-widgets/base",
            "_view_module_version": "1.2.0",
            "_view_name": "LayoutView",
            "align_content": null,
            "align_items": null,
            "align_self": null,
            "border": null,
            "bottom": null,
            "display": null,
            "flex": null,
            "flex_flow": null,
            "grid_area": null,
            "grid_auto_columns": null,
            "grid_auto_flow": null,
            "grid_auto_rows": null,
            "grid_column": null,
            "grid_gap": null,
            "grid_row": null,
            "grid_template_areas": null,
            "grid_template_columns": null,
            "grid_template_rows": null,
            "height": null,
            "justify_content": null,
            "justify_items": null,
            "left": null,
            "margin": null,
            "max_height": null,
            "max_width": null,
            "min_height": null,
            "min_width": null,
            "object_fit": null,
            "object_position": null,
            "order": null,
            "overflow": null,
            "overflow_x": null,
            "overflow_y": null,
            "padding": null,
            "right": null,
            "top": null,
            "visibility": null,
            "width": null
          }
        },
        "2aa0bd1adc75401782032375a9844bf0": {
          "model_module": "@jupyter-widgets/controls",
          "model_name": "DescriptionStyleModel",
          "model_module_version": "1.5.0",
          "state": {
            "_model_module": "@jupyter-widgets/controls",
            "_model_module_version": "1.5.0",
            "_model_name": "DescriptionStyleModel",
            "_view_count": null,
            "_view_module": "@jupyter-widgets/base",
            "_view_module_version": "1.2.0",
            "_view_name": "StyleView",
            "description_width": ""
          }
        },
        "dfdba2a6e829450b80a003679ae14b3e": {
          "model_module": "@jupyter-widgets/controls",
          "model_name": "HBoxModel",
          "model_module_version": "1.5.0",
          "state": {
            "_dom_classes": [],
            "_model_module": "@jupyter-widgets/controls",
            "_model_module_version": "1.5.0",
            "_model_name": "HBoxModel",
            "_view_count": null,
            "_view_module": "@jupyter-widgets/controls",
            "_view_module_version": "1.5.0",
            "_view_name": "HBoxView",
            "box_style": "",
            "children": [
              "IPY_MODEL_5232ca9d9f89419a9e24c0b881907b18",
              "IPY_MODEL_05c5f1642feb41f7b49b150d4826f68c",
              "IPY_MODEL_5090217406624667b64a6e076055529d"
            ],
            "layout": "IPY_MODEL_9b19fbff184c4abc9182a190d002cde9"
          }
        },
        "5232ca9d9f89419a9e24c0b881907b18": {
          "model_module": "@jupyter-widgets/controls",
          "model_name": "HTMLModel",
          "model_module_version": "1.5.0",
          "state": {
            "_dom_classes": [],
            "_model_module": "@jupyter-widgets/controls",
            "_model_module_version": "1.5.0",
            "_model_name": "HTMLModel",
            "_view_count": null,
            "_view_module": "@jupyter-widgets/controls",
            "_view_module_version": "1.5.0",
            "_view_name": "HTMLView",
            "description": "",
            "description_tooltip": null,
            "layout": "IPY_MODEL_4141f661d13d4bb3a95af599b7a2b986",
            "placeholder": "​",
            "style": "IPY_MODEL_58a622776e524d918b544a3eb71c6aae",
            "value": "100%"
          }
        },
        "05c5f1642feb41f7b49b150d4826f68c": {
          "model_module": "@jupyter-widgets/controls",
          "model_name": "FloatProgressModel",
          "model_module_version": "1.5.0",
          "state": {
            "_dom_classes": [],
            "_model_module": "@jupyter-widgets/controls",
            "_model_module_version": "1.5.0",
            "_model_name": "FloatProgressModel",
            "_view_count": null,
            "_view_module": "@jupyter-widgets/controls",
            "_view_module_version": "1.5.0",
            "_view_name": "ProgressView",
            "bar_style": "success",
            "description": "",
            "description_tooltip": null,
            "layout": "IPY_MODEL_2ba65364459b40398e10a91c6f1cb17d",
            "max": 2000,
            "min": 0,
            "orientation": "horizontal",
            "style": "IPY_MODEL_9aa5615cc7db4f06a9263523c978746b",
            "value": 2000
          }
        },
        "5090217406624667b64a6e076055529d": {
          "model_module": "@jupyter-widgets/controls",
          "model_name": "HTMLModel",
          "model_module_version": "1.5.0",
          "state": {
            "_dom_classes": [],
            "_model_module": "@jupyter-widgets/controls",
            "_model_module_version": "1.5.0",
            "_model_name": "HTMLModel",
            "_view_count": null,
            "_view_module": "@jupyter-widgets/controls",
            "_view_module_version": "1.5.0",
            "_view_name": "HTMLView",
            "description": "",
            "description_tooltip": null,
            "layout": "IPY_MODEL_4a6165bb351d4966ad4852508c6f8b2c",
            "placeholder": "​",
            "style": "IPY_MODEL_65611ede20fa4afc9ebc97c85158c01c",
            "value": " 2000/2000 [02:56&lt;00:00, 10.45it/s]"
          }
        },
        "9b19fbff184c4abc9182a190d002cde9": {
          "model_module": "@jupyter-widgets/base",
          "model_name": "LayoutModel",
          "model_module_version": "1.2.0",
          "state": {
            "_model_module": "@jupyter-widgets/base",
            "_model_module_version": "1.2.0",
            "_model_name": "LayoutModel",
            "_view_count": null,
            "_view_module": "@jupyter-widgets/base",
            "_view_module_version": "1.2.0",
            "_view_name": "LayoutView",
            "align_content": null,
            "align_items": null,
            "align_self": null,
            "border": null,
            "bottom": null,
            "display": null,
            "flex": null,
            "flex_flow": null,
            "grid_area": null,
            "grid_auto_columns": null,
            "grid_auto_flow": null,
            "grid_auto_rows": null,
            "grid_column": null,
            "grid_gap": null,
            "grid_row": null,
            "grid_template_areas": null,
            "grid_template_columns": null,
            "grid_template_rows": null,
            "height": null,
            "justify_content": null,
            "justify_items": null,
            "left": null,
            "margin": null,
            "max_height": null,
            "max_width": null,
            "min_height": null,
            "min_width": null,
            "object_fit": null,
            "object_position": null,
            "order": null,
            "overflow": null,
            "overflow_x": null,
            "overflow_y": null,
            "padding": null,
            "right": null,
            "top": null,
            "visibility": null,
            "width": null
          }
        },
        "4141f661d13d4bb3a95af599b7a2b986": {
          "model_module": "@jupyter-widgets/base",
          "model_name": "LayoutModel",
          "model_module_version": "1.2.0",
          "state": {
            "_model_module": "@jupyter-widgets/base",
            "_model_module_version": "1.2.0",
            "_model_name": "LayoutModel",
            "_view_count": null,
            "_view_module": "@jupyter-widgets/base",
            "_view_module_version": "1.2.0",
            "_view_name": "LayoutView",
            "align_content": null,
            "align_items": null,
            "align_self": null,
            "border": null,
            "bottom": null,
            "display": null,
            "flex": null,
            "flex_flow": null,
            "grid_area": null,
            "grid_auto_columns": null,
            "grid_auto_flow": null,
            "grid_auto_rows": null,
            "grid_column": null,
            "grid_gap": null,
            "grid_row": null,
            "grid_template_areas": null,
            "grid_template_columns": null,
            "grid_template_rows": null,
            "height": null,
            "justify_content": null,
            "justify_items": null,
            "left": null,
            "margin": null,
            "max_height": null,
            "max_width": null,
            "min_height": null,
            "min_width": null,
            "object_fit": null,
            "object_position": null,
            "order": null,
            "overflow": null,
            "overflow_x": null,
            "overflow_y": null,
            "padding": null,
            "right": null,
            "top": null,
            "visibility": null,
            "width": null
          }
        },
        "58a622776e524d918b544a3eb71c6aae": {
          "model_module": "@jupyter-widgets/controls",
          "model_name": "DescriptionStyleModel",
          "model_module_version": "1.5.0",
          "state": {
            "_model_module": "@jupyter-widgets/controls",
            "_model_module_version": "1.5.0",
            "_model_name": "DescriptionStyleModel",
            "_view_count": null,
            "_view_module": "@jupyter-widgets/base",
            "_view_module_version": "1.2.0",
            "_view_name": "StyleView",
            "description_width": ""
          }
        },
        "2ba65364459b40398e10a91c6f1cb17d": {
          "model_module": "@jupyter-widgets/base",
          "model_name": "LayoutModel",
          "model_module_version": "1.2.0",
          "state": {
            "_model_module": "@jupyter-widgets/base",
            "_model_module_version": "1.2.0",
            "_model_name": "LayoutModel",
            "_view_count": null,
            "_view_module": "@jupyter-widgets/base",
            "_view_module_version": "1.2.0",
            "_view_name": "LayoutView",
            "align_content": null,
            "align_items": null,
            "align_self": null,
            "border": null,
            "bottom": null,
            "display": null,
            "flex": null,
            "flex_flow": null,
            "grid_area": null,
            "grid_auto_columns": null,
            "grid_auto_flow": null,
            "grid_auto_rows": null,
            "grid_column": null,
            "grid_gap": null,
            "grid_row": null,
            "grid_template_areas": null,
            "grid_template_columns": null,
            "grid_template_rows": null,
            "height": null,
            "justify_content": null,
            "justify_items": null,
            "left": null,
            "margin": null,
            "max_height": null,
            "max_width": null,
            "min_height": null,
            "min_width": null,
            "object_fit": null,
            "object_position": null,
            "order": null,
            "overflow": null,
            "overflow_x": null,
            "overflow_y": null,
            "padding": null,
            "right": null,
            "top": null,
            "visibility": null,
            "width": null
          }
        },
        "9aa5615cc7db4f06a9263523c978746b": {
          "model_module": "@jupyter-widgets/controls",
          "model_name": "ProgressStyleModel",
          "model_module_version": "1.5.0",
          "state": {
            "_model_module": "@jupyter-widgets/controls",
            "_model_module_version": "1.5.0",
            "_model_name": "ProgressStyleModel",
            "_view_count": null,
            "_view_module": "@jupyter-widgets/base",
            "_view_module_version": "1.2.0",
            "_view_name": "StyleView",
            "bar_color": null,
            "description_width": ""
          }
        },
        "4a6165bb351d4966ad4852508c6f8b2c": {
          "model_module": "@jupyter-widgets/base",
          "model_name": "LayoutModel",
          "model_module_version": "1.2.0",
          "state": {
            "_model_module": "@jupyter-widgets/base",
            "_model_module_version": "1.2.0",
            "_model_name": "LayoutModel",
            "_view_count": null,
            "_view_module": "@jupyter-widgets/base",
            "_view_module_version": "1.2.0",
            "_view_name": "LayoutView",
            "align_content": null,
            "align_items": null,
            "align_self": null,
            "border": null,
            "bottom": null,
            "display": null,
            "flex": null,
            "flex_flow": null,
            "grid_area": null,
            "grid_auto_columns": null,
            "grid_auto_flow": null,
            "grid_auto_rows": null,
            "grid_column": null,
            "grid_gap": null,
            "grid_row": null,
            "grid_template_areas": null,
            "grid_template_columns": null,
            "grid_template_rows": null,
            "height": null,
            "justify_content": null,
            "justify_items": null,
            "left": null,
            "margin": null,
            "max_height": null,
            "max_width": null,
            "min_height": null,
            "min_width": null,
            "object_fit": null,
            "object_position": null,
            "order": null,
            "overflow": null,
            "overflow_x": null,
            "overflow_y": null,
            "padding": null,
            "right": null,
            "top": null,
            "visibility": null,
            "width": null
          }
        },
        "65611ede20fa4afc9ebc97c85158c01c": {
          "model_module": "@jupyter-widgets/controls",
          "model_name": "DescriptionStyleModel",
          "model_module_version": "1.5.0",
          "state": {
            "_model_module": "@jupyter-widgets/controls",
            "_model_module_version": "1.5.0",
            "_model_name": "DescriptionStyleModel",
            "_view_count": null,
            "_view_module": "@jupyter-widgets/base",
            "_view_module_version": "1.2.0",
            "_view_name": "StyleView",
            "description_width": ""
          }
        },
        "7f1d4aebff414d3e96d83879f54f7ffa": {
          "model_module": "@jupyter-widgets/controls",
          "model_name": "HBoxModel",
          "model_module_version": "1.5.0",
          "state": {
            "_dom_classes": [],
            "_model_module": "@jupyter-widgets/controls",
            "_model_module_version": "1.5.0",
            "_model_name": "HBoxModel",
            "_view_count": null,
            "_view_module": "@jupyter-widgets/controls",
            "_view_module_version": "1.5.0",
            "_view_name": "HBoxView",
            "box_style": "",
            "children": [
              "IPY_MODEL_c8f4850f16a84df2bcab1964b61e9d82",
              "IPY_MODEL_9e847d0a8ad74f0cbefc8af4c2818a73",
              "IPY_MODEL_2e1d0fdbdf5647e0af53559153ae5652"
            ],
            "layout": "IPY_MODEL_84cb5dd4cc05424ebd29f5f08692c71e"
          }
        },
        "c8f4850f16a84df2bcab1964b61e9d82": {
          "model_module": "@jupyter-widgets/controls",
          "model_name": "HTMLModel",
          "model_module_version": "1.5.0",
          "state": {
            "_dom_classes": [],
            "_model_module": "@jupyter-widgets/controls",
            "_model_module_version": "1.5.0",
            "_model_name": "HTMLModel",
            "_view_count": null,
            "_view_module": "@jupyter-widgets/controls",
            "_view_module_version": "1.5.0",
            "_view_name": "HTMLView",
            "description": "",
            "description_tooltip": null,
            "layout": "IPY_MODEL_2b0bf1a9ebc34061b6a00ed4b837c521",
            "placeholder": "​",
            "style": "IPY_MODEL_222c2f148157441eb7de212fc7cf5598",
            "value": "100%"
          }
        },
        "9e847d0a8ad74f0cbefc8af4c2818a73": {
          "model_module": "@jupyter-widgets/controls",
          "model_name": "FloatProgressModel",
          "model_module_version": "1.5.0",
          "state": {
            "_dom_classes": [],
            "_model_module": "@jupyter-widgets/controls",
            "_model_module_version": "1.5.0",
            "_model_name": "FloatProgressModel",
            "_view_count": null,
            "_view_module": "@jupyter-widgets/controls",
            "_view_module_version": "1.5.0",
            "_view_name": "ProgressView",
            "bar_style": "success",
            "description": "",
            "description_tooltip": null,
            "layout": "IPY_MODEL_8e463732cf21404e94d95efd550acab6",
            "max": 2000,
            "min": 0,
            "orientation": "horizontal",
            "style": "IPY_MODEL_4255aba4adef41e7926cb2e404ab4c16",
            "value": 2000
          }
        },
        "2e1d0fdbdf5647e0af53559153ae5652": {
          "model_module": "@jupyter-widgets/controls",
          "model_name": "HTMLModel",
          "model_module_version": "1.5.0",
          "state": {
            "_dom_classes": [],
            "_model_module": "@jupyter-widgets/controls",
            "_model_module_version": "1.5.0",
            "_model_name": "HTMLModel",
            "_view_count": null,
            "_view_module": "@jupyter-widgets/controls",
            "_view_module_version": "1.5.0",
            "_view_name": "HTMLView",
            "description": "",
            "description_tooltip": null,
            "layout": "IPY_MODEL_e381abd45d1346d4b98dc99c8e485a3e",
            "placeholder": "​",
            "style": "IPY_MODEL_c1cdd1f0fe3e47e9862ca24a243301cf",
            "value": " 2000/2000 [00:01&lt;00:00, 1683.53it/s]"
          }
        },
        "84cb5dd4cc05424ebd29f5f08692c71e": {
          "model_module": "@jupyter-widgets/base",
          "model_name": "LayoutModel",
          "model_module_version": "1.2.0",
          "state": {
            "_model_module": "@jupyter-widgets/base",
            "_model_module_version": "1.2.0",
            "_model_name": "LayoutModel",
            "_view_count": null,
            "_view_module": "@jupyter-widgets/base",
            "_view_module_version": "1.2.0",
            "_view_name": "LayoutView",
            "align_content": null,
            "align_items": null,
            "align_self": null,
            "border": null,
            "bottom": null,
            "display": null,
            "flex": null,
            "flex_flow": null,
            "grid_area": null,
            "grid_auto_columns": null,
            "grid_auto_flow": null,
            "grid_auto_rows": null,
            "grid_column": null,
            "grid_gap": null,
            "grid_row": null,
            "grid_template_areas": null,
            "grid_template_columns": null,
            "grid_template_rows": null,
            "height": null,
            "justify_content": null,
            "justify_items": null,
            "left": null,
            "margin": null,
            "max_height": null,
            "max_width": null,
            "min_height": null,
            "min_width": null,
            "object_fit": null,
            "object_position": null,
            "order": null,
            "overflow": null,
            "overflow_x": null,
            "overflow_y": null,
            "padding": null,
            "right": null,
            "top": null,
            "visibility": null,
            "width": null
          }
        },
        "2b0bf1a9ebc34061b6a00ed4b837c521": {
          "model_module": "@jupyter-widgets/base",
          "model_name": "LayoutModel",
          "model_module_version": "1.2.0",
          "state": {
            "_model_module": "@jupyter-widgets/base",
            "_model_module_version": "1.2.0",
            "_model_name": "LayoutModel",
            "_view_count": null,
            "_view_module": "@jupyter-widgets/base",
            "_view_module_version": "1.2.0",
            "_view_name": "LayoutView",
            "align_content": null,
            "align_items": null,
            "align_self": null,
            "border": null,
            "bottom": null,
            "display": null,
            "flex": null,
            "flex_flow": null,
            "grid_area": null,
            "grid_auto_columns": null,
            "grid_auto_flow": null,
            "grid_auto_rows": null,
            "grid_column": null,
            "grid_gap": null,
            "grid_row": null,
            "grid_template_areas": null,
            "grid_template_columns": null,
            "grid_template_rows": null,
            "height": null,
            "justify_content": null,
            "justify_items": null,
            "left": null,
            "margin": null,
            "max_height": null,
            "max_width": null,
            "min_height": null,
            "min_width": null,
            "object_fit": null,
            "object_position": null,
            "order": null,
            "overflow": null,
            "overflow_x": null,
            "overflow_y": null,
            "padding": null,
            "right": null,
            "top": null,
            "visibility": null,
            "width": null
          }
        },
        "222c2f148157441eb7de212fc7cf5598": {
          "model_module": "@jupyter-widgets/controls",
          "model_name": "DescriptionStyleModel",
          "model_module_version": "1.5.0",
          "state": {
            "_model_module": "@jupyter-widgets/controls",
            "_model_module_version": "1.5.0",
            "_model_name": "DescriptionStyleModel",
            "_view_count": null,
            "_view_module": "@jupyter-widgets/base",
            "_view_module_version": "1.2.0",
            "_view_name": "StyleView",
            "description_width": ""
          }
        },
        "8e463732cf21404e94d95efd550acab6": {
          "model_module": "@jupyter-widgets/base",
          "model_name": "LayoutModel",
          "model_module_version": "1.2.0",
          "state": {
            "_model_module": "@jupyter-widgets/base",
            "_model_module_version": "1.2.0",
            "_model_name": "LayoutModel",
            "_view_count": null,
            "_view_module": "@jupyter-widgets/base",
            "_view_module_version": "1.2.0",
            "_view_name": "LayoutView",
            "align_content": null,
            "align_items": null,
            "align_self": null,
            "border": null,
            "bottom": null,
            "display": null,
            "flex": null,
            "flex_flow": null,
            "grid_area": null,
            "grid_auto_columns": null,
            "grid_auto_flow": null,
            "grid_auto_rows": null,
            "grid_column": null,
            "grid_gap": null,
            "grid_row": null,
            "grid_template_areas": null,
            "grid_template_columns": null,
            "grid_template_rows": null,
            "height": null,
            "justify_content": null,
            "justify_items": null,
            "left": null,
            "margin": null,
            "max_height": null,
            "max_width": null,
            "min_height": null,
            "min_width": null,
            "object_fit": null,
            "object_position": null,
            "order": null,
            "overflow": null,
            "overflow_x": null,
            "overflow_y": null,
            "padding": null,
            "right": null,
            "top": null,
            "visibility": null,
            "width": null
          }
        },
        "4255aba4adef41e7926cb2e404ab4c16": {
          "model_module": "@jupyter-widgets/controls",
          "model_name": "ProgressStyleModel",
          "model_module_version": "1.5.0",
          "state": {
            "_model_module": "@jupyter-widgets/controls",
            "_model_module_version": "1.5.0",
            "_model_name": "ProgressStyleModel",
            "_view_count": null,
            "_view_module": "@jupyter-widgets/base",
            "_view_module_version": "1.2.0",
            "_view_name": "StyleView",
            "bar_color": null,
            "description_width": ""
          }
        },
        "e381abd45d1346d4b98dc99c8e485a3e": {
          "model_module": "@jupyter-widgets/base",
          "model_name": "LayoutModel",
          "model_module_version": "1.2.0",
          "state": {
            "_model_module": "@jupyter-widgets/base",
            "_model_module_version": "1.2.0",
            "_model_name": "LayoutModel",
            "_view_count": null,
            "_view_module": "@jupyter-widgets/base",
            "_view_module_version": "1.2.0",
            "_view_name": "LayoutView",
            "align_content": null,
            "align_items": null,
            "align_self": null,
            "border": null,
            "bottom": null,
            "display": null,
            "flex": null,
            "flex_flow": null,
            "grid_area": null,
            "grid_auto_columns": null,
            "grid_auto_flow": null,
            "grid_auto_rows": null,
            "grid_column": null,
            "grid_gap": null,
            "grid_row": null,
            "grid_template_areas": null,
            "grid_template_columns": null,
            "grid_template_rows": null,
            "height": null,
            "justify_content": null,
            "justify_items": null,
            "left": null,
            "margin": null,
            "max_height": null,
            "max_width": null,
            "min_height": null,
            "min_width": null,
            "object_fit": null,
            "object_position": null,
            "order": null,
            "overflow": null,
            "overflow_x": null,
            "overflow_y": null,
            "padding": null,
            "right": null,
            "top": null,
            "visibility": null,
            "width": null
          }
        },
        "c1cdd1f0fe3e47e9862ca24a243301cf": {
          "model_module": "@jupyter-widgets/controls",
          "model_name": "DescriptionStyleModel",
          "model_module_version": "1.5.0",
          "state": {
            "_model_module": "@jupyter-widgets/controls",
            "_model_module_version": "1.5.0",
            "_model_name": "DescriptionStyleModel",
            "_view_count": null,
            "_view_module": "@jupyter-widgets/base",
            "_view_module_version": "1.2.0",
            "_view_name": "StyleView",
            "description_width": ""
          }
        },
        "039e4cf5b10b4be1a5b2f89f0058ae43": {
          "model_module": "@jupyter-widgets/controls",
          "model_name": "HBoxModel",
          "model_module_version": "1.5.0",
          "state": {
            "_dom_classes": [],
            "_model_module": "@jupyter-widgets/controls",
            "_model_module_version": "1.5.0",
            "_model_name": "HBoxModel",
            "_view_count": null,
            "_view_module": "@jupyter-widgets/controls",
            "_view_module_version": "1.5.0",
            "_view_name": "HBoxView",
            "box_style": "",
            "children": [
              "IPY_MODEL_c52c2a4e5c164777a256f4e927dc4aca",
              "IPY_MODEL_62c85435f89c4ff58149d191d232410e",
              "IPY_MODEL_909175bc7b1745e3ac14bc6fe0c16506"
            ],
            "layout": "IPY_MODEL_60685bd6c6214e489cce477896b562ab"
          }
        },
        "c52c2a4e5c164777a256f4e927dc4aca": {
          "model_module": "@jupyter-widgets/controls",
          "model_name": "HTMLModel",
          "model_module_version": "1.5.0",
          "state": {
            "_dom_classes": [],
            "_model_module": "@jupyter-widgets/controls",
            "_model_module_version": "1.5.0",
            "_model_name": "HTMLModel",
            "_view_count": null,
            "_view_module": "@jupyter-widgets/controls",
            "_view_module_version": "1.5.0",
            "_view_name": "HTMLView",
            "description": "",
            "description_tooltip": null,
            "layout": "IPY_MODEL_3ba26ca8f338427dacae20945936ee19",
            "placeholder": "​",
            "style": "IPY_MODEL_7bd295a0c71743fc82d090e37365aab1",
            "value": "100%"
          }
        },
        "62c85435f89c4ff58149d191d232410e": {
          "model_module": "@jupyter-widgets/controls",
          "model_name": "FloatProgressModel",
          "model_module_version": "1.5.0",
          "state": {
            "_dom_classes": [],
            "_model_module": "@jupyter-widgets/controls",
            "_model_module_version": "1.5.0",
            "_model_name": "FloatProgressModel",
            "_view_count": null,
            "_view_module": "@jupyter-widgets/controls",
            "_view_module_version": "1.5.0",
            "_view_name": "ProgressView",
            "bar_style": "success",
            "description": "",
            "description_tooltip": null,
            "layout": "IPY_MODEL_4315d0403fd049e7a3c1d0f494b6a860",
            "max": 2000,
            "min": 0,
            "orientation": "horizontal",
            "style": "IPY_MODEL_b9c2db298d244e078af4d8c06aa121a8",
            "value": 2000
          }
        },
        "909175bc7b1745e3ac14bc6fe0c16506": {
          "model_module": "@jupyter-widgets/controls",
          "model_name": "HTMLModel",
          "model_module_version": "1.5.0",
          "state": {
            "_dom_classes": [],
            "_model_module": "@jupyter-widgets/controls",
            "_model_module_version": "1.5.0",
            "_model_name": "HTMLModel",
            "_view_count": null,
            "_view_module": "@jupyter-widgets/controls",
            "_view_module_version": "1.5.0",
            "_view_name": "HTMLView",
            "description": "",
            "description_tooltip": null,
            "layout": "IPY_MODEL_3162c33084844ff4b4e2b487489cf3fb",
            "placeholder": "​",
            "style": "IPY_MODEL_e75658bf02484ee19dc8cf33918ccdeb",
            "value": " 2000/2000 [00:00&lt;00:00, 2403.55it/s]"
          }
        },
        "60685bd6c6214e489cce477896b562ab": {
          "model_module": "@jupyter-widgets/base",
          "model_name": "LayoutModel",
          "model_module_version": "1.2.0",
          "state": {
            "_model_module": "@jupyter-widgets/base",
            "_model_module_version": "1.2.0",
            "_model_name": "LayoutModel",
            "_view_count": null,
            "_view_module": "@jupyter-widgets/base",
            "_view_module_version": "1.2.0",
            "_view_name": "LayoutView",
            "align_content": null,
            "align_items": null,
            "align_self": null,
            "border": null,
            "bottom": null,
            "display": null,
            "flex": null,
            "flex_flow": null,
            "grid_area": null,
            "grid_auto_columns": null,
            "grid_auto_flow": null,
            "grid_auto_rows": null,
            "grid_column": null,
            "grid_gap": null,
            "grid_row": null,
            "grid_template_areas": null,
            "grid_template_columns": null,
            "grid_template_rows": null,
            "height": null,
            "justify_content": null,
            "justify_items": null,
            "left": null,
            "margin": null,
            "max_height": null,
            "max_width": null,
            "min_height": null,
            "min_width": null,
            "object_fit": null,
            "object_position": null,
            "order": null,
            "overflow": null,
            "overflow_x": null,
            "overflow_y": null,
            "padding": null,
            "right": null,
            "top": null,
            "visibility": null,
            "width": null
          }
        },
        "3ba26ca8f338427dacae20945936ee19": {
          "model_module": "@jupyter-widgets/base",
          "model_name": "LayoutModel",
          "model_module_version": "1.2.0",
          "state": {
            "_model_module": "@jupyter-widgets/base",
            "_model_module_version": "1.2.0",
            "_model_name": "LayoutModel",
            "_view_count": null,
            "_view_module": "@jupyter-widgets/base",
            "_view_module_version": "1.2.0",
            "_view_name": "LayoutView",
            "align_content": null,
            "align_items": null,
            "align_self": null,
            "border": null,
            "bottom": null,
            "display": null,
            "flex": null,
            "flex_flow": null,
            "grid_area": null,
            "grid_auto_columns": null,
            "grid_auto_flow": null,
            "grid_auto_rows": null,
            "grid_column": null,
            "grid_gap": null,
            "grid_row": null,
            "grid_template_areas": null,
            "grid_template_columns": null,
            "grid_template_rows": null,
            "height": null,
            "justify_content": null,
            "justify_items": null,
            "left": null,
            "margin": null,
            "max_height": null,
            "max_width": null,
            "min_height": null,
            "min_width": null,
            "object_fit": null,
            "object_position": null,
            "order": null,
            "overflow": null,
            "overflow_x": null,
            "overflow_y": null,
            "padding": null,
            "right": null,
            "top": null,
            "visibility": null,
            "width": null
          }
        },
        "7bd295a0c71743fc82d090e37365aab1": {
          "model_module": "@jupyter-widgets/controls",
          "model_name": "DescriptionStyleModel",
          "model_module_version": "1.5.0",
          "state": {
            "_model_module": "@jupyter-widgets/controls",
            "_model_module_version": "1.5.0",
            "_model_name": "DescriptionStyleModel",
            "_view_count": null,
            "_view_module": "@jupyter-widgets/base",
            "_view_module_version": "1.2.0",
            "_view_name": "StyleView",
            "description_width": ""
          }
        },
        "4315d0403fd049e7a3c1d0f494b6a860": {
          "model_module": "@jupyter-widgets/base",
          "model_name": "LayoutModel",
          "model_module_version": "1.2.0",
          "state": {
            "_model_module": "@jupyter-widgets/base",
            "_model_module_version": "1.2.0",
            "_model_name": "LayoutModel",
            "_view_count": null,
            "_view_module": "@jupyter-widgets/base",
            "_view_module_version": "1.2.0",
            "_view_name": "LayoutView",
            "align_content": null,
            "align_items": null,
            "align_self": null,
            "border": null,
            "bottom": null,
            "display": null,
            "flex": null,
            "flex_flow": null,
            "grid_area": null,
            "grid_auto_columns": null,
            "grid_auto_flow": null,
            "grid_auto_rows": null,
            "grid_column": null,
            "grid_gap": null,
            "grid_row": null,
            "grid_template_areas": null,
            "grid_template_columns": null,
            "grid_template_rows": null,
            "height": null,
            "justify_content": null,
            "justify_items": null,
            "left": null,
            "margin": null,
            "max_height": null,
            "max_width": null,
            "min_height": null,
            "min_width": null,
            "object_fit": null,
            "object_position": null,
            "order": null,
            "overflow": null,
            "overflow_x": null,
            "overflow_y": null,
            "padding": null,
            "right": null,
            "top": null,
            "visibility": null,
            "width": null
          }
        },
        "b9c2db298d244e078af4d8c06aa121a8": {
          "model_module": "@jupyter-widgets/controls",
          "model_name": "ProgressStyleModel",
          "model_module_version": "1.5.0",
          "state": {
            "_model_module": "@jupyter-widgets/controls",
            "_model_module_version": "1.5.0",
            "_model_name": "ProgressStyleModel",
            "_view_count": null,
            "_view_module": "@jupyter-widgets/base",
            "_view_module_version": "1.2.0",
            "_view_name": "StyleView",
            "bar_color": null,
            "description_width": ""
          }
        },
        "3162c33084844ff4b4e2b487489cf3fb": {
          "model_module": "@jupyter-widgets/base",
          "model_name": "LayoutModel",
          "model_module_version": "1.2.0",
          "state": {
            "_model_module": "@jupyter-widgets/base",
            "_model_module_version": "1.2.0",
            "_model_name": "LayoutModel",
            "_view_count": null,
            "_view_module": "@jupyter-widgets/base",
            "_view_module_version": "1.2.0",
            "_view_name": "LayoutView",
            "align_content": null,
            "align_items": null,
            "align_self": null,
            "border": null,
            "bottom": null,
            "display": null,
            "flex": null,
            "flex_flow": null,
            "grid_area": null,
            "grid_auto_columns": null,
            "grid_auto_flow": null,
            "grid_auto_rows": null,
            "grid_column": null,
            "grid_gap": null,
            "grid_row": null,
            "grid_template_areas": null,
            "grid_template_columns": null,
            "grid_template_rows": null,
            "height": null,
            "justify_content": null,
            "justify_items": null,
            "left": null,
            "margin": null,
            "max_height": null,
            "max_width": null,
            "min_height": null,
            "min_width": null,
            "object_fit": null,
            "object_position": null,
            "order": null,
            "overflow": null,
            "overflow_x": null,
            "overflow_y": null,
            "padding": null,
            "right": null,
            "top": null,
            "visibility": null,
            "width": null
          }
        },
        "e75658bf02484ee19dc8cf33918ccdeb": {
          "model_module": "@jupyter-widgets/controls",
          "model_name": "DescriptionStyleModel",
          "model_module_version": "1.5.0",
          "state": {
            "_model_module": "@jupyter-widgets/controls",
            "_model_module_version": "1.5.0",
            "_model_name": "DescriptionStyleModel",
            "_view_count": null,
            "_view_module": "@jupyter-widgets/base",
            "_view_module_version": "1.2.0",
            "_view_name": "StyleView",
            "description_width": ""
          }
        },
        "7d1f4a9ae82b4a93a78315750cd8c40b": {
          "model_module": "@jupyter-widgets/controls",
          "model_name": "HBoxModel",
          "model_module_version": "1.5.0",
          "state": {
            "_dom_classes": [],
            "_model_module": "@jupyter-widgets/controls",
            "_model_module_version": "1.5.0",
            "_model_name": "HBoxModel",
            "_view_count": null,
            "_view_module": "@jupyter-widgets/controls",
            "_view_module_version": "1.5.0",
            "_view_name": "HBoxView",
            "box_style": "",
            "children": [
              "IPY_MODEL_cffd141e0e854539aa5c00d5cf626f36",
              "IPY_MODEL_5fa7ae868d234c2eb07cd1ef7bf17f7f",
              "IPY_MODEL_dccbf22d6c03468282b84ffd214242ba"
            ],
            "layout": "IPY_MODEL_e514041b5a7044d9ae310b7ac6b0f9ec"
          }
        },
        "cffd141e0e854539aa5c00d5cf626f36": {
          "model_module": "@jupyter-widgets/controls",
          "model_name": "HTMLModel",
          "model_module_version": "1.5.0",
          "state": {
            "_dom_classes": [],
            "_model_module": "@jupyter-widgets/controls",
            "_model_module_version": "1.5.0",
            "_model_name": "HTMLModel",
            "_view_count": null,
            "_view_module": "@jupyter-widgets/controls",
            "_view_module_version": "1.5.0",
            "_view_name": "HTMLView",
            "description": "",
            "description_tooltip": null,
            "layout": "IPY_MODEL_a5e60c14d5f445e7a7a078cb8dc6d306",
            "placeholder": "​",
            "style": "IPY_MODEL_0ca1e2c471754d62bbfe516cf213f469",
            "value": "100%"
          }
        },
        "5fa7ae868d234c2eb07cd1ef7bf17f7f": {
          "model_module": "@jupyter-widgets/controls",
          "model_name": "FloatProgressModel",
          "model_module_version": "1.5.0",
          "state": {
            "_dom_classes": [],
            "_model_module": "@jupyter-widgets/controls",
            "_model_module_version": "1.5.0",
            "_model_name": "FloatProgressModel",
            "_view_count": null,
            "_view_module": "@jupyter-widgets/controls",
            "_view_module_version": "1.5.0",
            "_view_name": "ProgressView",
            "bar_style": "success",
            "description": "",
            "description_tooltip": null,
            "layout": "IPY_MODEL_326ccab0cab943c3b588d9790f7d5d37",
            "max": 2000,
            "min": 0,
            "orientation": "horizontal",
            "style": "IPY_MODEL_673e1e08a0f846508ac508ece9492be6",
            "value": 2000
          }
        },
        "dccbf22d6c03468282b84ffd214242ba": {
          "model_module": "@jupyter-widgets/controls",
          "model_name": "HTMLModel",
          "model_module_version": "1.5.0",
          "state": {
            "_dom_classes": [],
            "_model_module": "@jupyter-widgets/controls",
            "_model_module_version": "1.5.0",
            "_model_name": "HTMLModel",
            "_view_count": null,
            "_view_module": "@jupyter-widgets/controls",
            "_view_module_version": "1.5.0",
            "_view_name": "HTMLView",
            "description": "",
            "description_tooltip": null,
            "layout": "IPY_MODEL_3e92223d41ee4c5e89be5f32478c36c4",
            "placeholder": "​",
            "style": "IPY_MODEL_803d42cc839344bd994232d0892b1258",
            "value": " 2000/2000 [00:00&lt;00:00, 4559.26it/s]"
          }
        },
        "e514041b5a7044d9ae310b7ac6b0f9ec": {
          "model_module": "@jupyter-widgets/base",
          "model_name": "LayoutModel",
          "model_module_version": "1.2.0",
          "state": {
            "_model_module": "@jupyter-widgets/base",
            "_model_module_version": "1.2.0",
            "_model_name": "LayoutModel",
            "_view_count": null,
            "_view_module": "@jupyter-widgets/base",
            "_view_module_version": "1.2.0",
            "_view_name": "LayoutView",
            "align_content": null,
            "align_items": null,
            "align_self": null,
            "border": null,
            "bottom": null,
            "display": null,
            "flex": null,
            "flex_flow": null,
            "grid_area": null,
            "grid_auto_columns": null,
            "grid_auto_flow": null,
            "grid_auto_rows": null,
            "grid_column": null,
            "grid_gap": null,
            "grid_row": null,
            "grid_template_areas": null,
            "grid_template_columns": null,
            "grid_template_rows": null,
            "height": null,
            "justify_content": null,
            "justify_items": null,
            "left": null,
            "margin": null,
            "max_height": null,
            "max_width": null,
            "min_height": null,
            "min_width": null,
            "object_fit": null,
            "object_position": null,
            "order": null,
            "overflow": null,
            "overflow_x": null,
            "overflow_y": null,
            "padding": null,
            "right": null,
            "top": null,
            "visibility": null,
            "width": null
          }
        },
        "a5e60c14d5f445e7a7a078cb8dc6d306": {
          "model_module": "@jupyter-widgets/base",
          "model_name": "LayoutModel",
          "model_module_version": "1.2.0",
          "state": {
            "_model_module": "@jupyter-widgets/base",
            "_model_module_version": "1.2.0",
            "_model_name": "LayoutModel",
            "_view_count": null,
            "_view_module": "@jupyter-widgets/base",
            "_view_module_version": "1.2.0",
            "_view_name": "LayoutView",
            "align_content": null,
            "align_items": null,
            "align_self": null,
            "border": null,
            "bottom": null,
            "display": null,
            "flex": null,
            "flex_flow": null,
            "grid_area": null,
            "grid_auto_columns": null,
            "grid_auto_flow": null,
            "grid_auto_rows": null,
            "grid_column": null,
            "grid_gap": null,
            "grid_row": null,
            "grid_template_areas": null,
            "grid_template_columns": null,
            "grid_template_rows": null,
            "height": null,
            "justify_content": null,
            "justify_items": null,
            "left": null,
            "margin": null,
            "max_height": null,
            "max_width": null,
            "min_height": null,
            "min_width": null,
            "object_fit": null,
            "object_position": null,
            "order": null,
            "overflow": null,
            "overflow_x": null,
            "overflow_y": null,
            "padding": null,
            "right": null,
            "top": null,
            "visibility": null,
            "width": null
          }
        },
        "0ca1e2c471754d62bbfe516cf213f469": {
          "model_module": "@jupyter-widgets/controls",
          "model_name": "DescriptionStyleModel",
          "model_module_version": "1.5.0",
          "state": {
            "_model_module": "@jupyter-widgets/controls",
            "_model_module_version": "1.5.0",
            "_model_name": "DescriptionStyleModel",
            "_view_count": null,
            "_view_module": "@jupyter-widgets/base",
            "_view_module_version": "1.2.0",
            "_view_name": "StyleView",
            "description_width": ""
          }
        },
        "326ccab0cab943c3b588d9790f7d5d37": {
          "model_module": "@jupyter-widgets/base",
          "model_name": "LayoutModel",
          "model_module_version": "1.2.0",
          "state": {
            "_model_module": "@jupyter-widgets/base",
            "_model_module_version": "1.2.0",
            "_model_name": "LayoutModel",
            "_view_count": null,
            "_view_module": "@jupyter-widgets/base",
            "_view_module_version": "1.2.0",
            "_view_name": "LayoutView",
            "align_content": null,
            "align_items": null,
            "align_self": null,
            "border": null,
            "bottom": null,
            "display": null,
            "flex": null,
            "flex_flow": null,
            "grid_area": null,
            "grid_auto_columns": null,
            "grid_auto_flow": null,
            "grid_auto_rows": null,
            "grid_column": null,
            "grid_gap": null,
            "grid_row": null,
            "grid_template_areas": null,
            "grid_template_columns": null,
            "grid_template_rows": null,
            "height": null,
            "justify_content": null,
            "justify_items": null,
            "left": null,
            "margin": null,
            "max_height": null,
            "max_width": null,
            "min_height": null,
            "min_width": null,
            "object_fit": null,
            "object_position": null,
            "order": null,
            "overflow": null,
            "overflow_x": null,
            "overflow_y": null,
            "padding": null,
            "right": null,
            "top": null,
            "visibility": null,
            "width": null
          }
        },
        "673e1e08a0f846508ac508ece9492be6": {
          "model_module": "@jupyter-widgets/controls",
          "model_name": "ProgressStyleModel",
          "model_module_version": "1.5.0",
          "state": {
            "_model_module": "@jupyter-widgets/controls",
            "_model_module_version": "1.5.0",
            "_model_name": "ProgressStyleModel",
            "_view_count": null,
            "_view_module": "@jupyter-widgets/base",
            "_view_module_version": "1.2.0",
            "_view_name": "StyleView",
            "bar_color": null,
            "description_width": ""
          }
        },
        "3e92223d41ee4c5e89be5f32478c36c4": {
          "model_module": "@jupyter-widgets/base",
          "model_name": "LayoutModel",
          "model_module_version": "1.2.0",
          "state": {
            "_model_module": "@jupyter-widgets/base",
            "_model_module_version": "1.2.0",
            "_model_name": "LayoutModel",
            "_view_count": null,
            "_view_module": "@jupyter-widgets/base",
            "_view_module_version": "1.2.0",
            "_view_name": "LayoutView",
            "align_content": null,
            "align_items": null,
            "align_self": null,
            "border": null,
            "bottom": null,
            "display": null,
            "flex": null,
            "flex_flow": null,
            "grid_area": null,
            "grid_auto_columns": null,
            "grid_auto_flow": null,
            "grid_auto_rows": null,
            "grid_column": null,
            "grid_gap": null,
            "grid_row": null,
            "grid_template_areas": null,
            "grid_template_columns": null,
            "grid_template_rows": null,
            "height": null,
            "justify_content": null,
            "justify_items": null,
            "left": null,
            "margin": null,
            "max_height": null,
            "max_width": null,
            "min_height": null,
            "min_width": null,
            "object_fit": null,
            "object_position": null,
            "order": null,
            "overflow": null,
            "overflow_x": null,
            "overflow_y": null,
            "padding": null,
            "right": null,
            "top": null,
            "visibility": null,
            "width": null
          }
        },
        "803d42cc839344bd994232d0892b1258": {
          "model_module": "@jupyter-widgets/controls",
          "model_name": "DescriptionStyleModel",
          "model_module_version": "1.5.0",
          "state": {
            "_model_module": "@jupyter-widgets/controls",
            "_model_module_version": "1.5.0",
            "_model_name": "DescriptionStyleModel",
            "_view_count": null,
            "_view_module": "@jupyter-widgets/base",
            "_view_module_version": "1.2.0",
            "_view_name": "StyleView",
            "description_width": ""
          }
        },
        "67bdb968951148a490b1ae6b6da86d84": {
          "model_module": "@jupyter-widgets/controls",
          "model_name": "HBoxModel",
          "model_module_version": "1.5.0",
          "state": {
            "_dom_classes": [],
            "_model_module": "@jupyter-widgets/controls",
            "_model_module_version": "1.5.0",
            "_model_name": "HBoxModel",
            "_view_count": null,
            "_view_module": "@jupyter-widgets/controls",
            "_view_module_version": "1.5.0",
            "_view_name": "HBoxView",
            "box_style": "",
            "children": [
              "IPY_MODEL_9cce08a43c9548c3956da637ac773b30",
              "IPY_MODEL_03b73548e4e84318adc34741bd5658ba",
              "IPY_MODEL_7f0b1794b09c4abf8a912ed0443ac470"
            ],
            "layout": "IPY_MODEL_bb914a980f77439790c1352823a36152"
          }
        },
        "9cce08a43c9548c3956da637ac773b30": {
          "model_module": "@jupyter-widgets/controls",
          "model_name": "HTMLModel",
          "model_module_version": "1.5.0",
          "state": {
            "_dom_classes": [],
            "_model_module": "@jupyter-widgets/controls",
            "_model_module_version": "1.5.0",
            "_model_name": "HTMLModel",
            "_view_count": null,
            "_view_module": "@jupyter-widgets/controls",
            "_view_module_version": "1.5.0",
            "_view_name": "HTMLView",
            "description": "",
            "description_tooltip": null,
            "layout": "IPY_MODEL_d008fc94f82443ef8497b3d493837b55",
            "placeholder": "​",
            "style": "IPY_MODEL_9a7a0930462147c980ed2e8671ea230a",
            "value": "100%"
          }
        },
        "03b73548e4e84318adc34741bd5658ba": {
          "model_module": "@jupyter-widgets/controls",
          "model_name": "FloatProgressModel",
          "model_module_version": "1.5.0",
          "state": {
            "_dom_classes": [],
            "_model_module": "@jupyter-widgets/controls",
            "_model_module_version": "1.5.0",
            "_model_name": "FloatProgressModel",
            "_view_count": null,
            "_view_module": "@jupyter-widgets/controls",
            "_view_module_version": "1.5.0",
            "_view_name": "ProgressView",
            "bar_style": "success",
            "description": "",
            "description_tooltip": null,
            "layout": "IPY_MODEL_9e3cb8b07f8f4bf6ac0e2c122f615dd0",
            "max": 2000,
            "min": 0,
            "orientation": "horizontal",
            "style": "IPY_MODEL_6dbaa82b7e634685b530fb6c72258303",
            "value": 2000
          }
        },
        "7f0b1794b09c4abf8a912ed0443ac470": {
          "model_module": "@jupyter-widgets/controls",
          "model_name": "HTMLModel",
          "model_module_version": "1.5.0",
          "state": {
            "_dom_classes": [],
            "_model_module": "@jupyter-widgets/controls",
            "_model_module_version": "1.5.0",
            "_model_name": "HTMLModel",
            "_view_count": null,
            "_view_module": "@jupyter-widgets/controls",
            "_view_module_version": "1.5.0",
            "_view_name": "HTMLView",
            "description": "",
            "description_tooltip": null,
            "layout": "IPY_MODEL_d87db2ab9fb64ada844fa0a15f4d63bd",
            "placeholder": "​",
            "style": "IPY_MODEL_6c3d22cd4cff4d34979c2ad640366a42",
            "value": " 2000/2000 [00:06&lt;00:00, 316.04it/s]"
          }
        },
        "bb914a980f77439790c1352823a36152": {
          "model_module": "@jupyter-widgets/base",
          "model_name": "LayoutModel",
          "model_module_version": "1.2.0",
          "state": {
            "_model_module": "@jupyter-widgets/base",
            "_model_module_version": "1.2.0",
            "_model_name": "LayoutModel",
            "_view_count": null,
            "_view_module": "@jupyter-widgets/base",
            "_view_module_version": "1.2.0",
            "_view_name": "LayoutView",
            "align_content": null,
            "align_items": null,
            "align_self": null,
            "border": null,
            "bottom": null,
            "display": null,
            "flex": null,
            "flex_flow": null,
            "grid_area": null,
            "grid_auto_columns": null,
            "grid_auto_flow": null,
            "grid_auto_rows": null,
            "grid_column": null,
            "grid_gap": null,
            "grid_row": null,
            "grid_template_areas": null,
            "grid_template_columns": null,
            "grid_template_rows": null,
            "height": null,
            "justify_content": null,
            "justify_items": null,
            "left": null,
            "margin": null,
            "max_height": null,
            "max_width": null,
            "min_height": null,
            "min_width": null,
            "object_fit": null,
            "object_position": null,
            "order": null,
            "overflow": null,
            "overflow_x": null,
            "overflow_y": null,
            "padding": null,
            "right": null,
            "top": null,
            "visibility": null,
            "width": null
          }
        },
        "d008fc94f82443ef8497b3d493837b55": {
          "model_module": "@jupyter-widgets/base",
          "model_name": "LayoutModel",
          "model_module_version": "1.2.0",
          "state": {
            "_model_module": "@jupyter-widgets/base",
            "_model_module_version": "1.2.0",
            "_model_name": "LayoutModel",
            "_view_count": null,
            "_view_module": "@jupyter-widgets/base",
            "_view_module_version": "1.2.0",
            "_view_name": "LayoutView",
            "align_content": null,
            "align_items": null,
            "align_self": null,
            "border": null,
            "bottom": null,
            "display": null,
            "flex": null,
            "flex_flow": null,
            "grid_area": null,
            "grid_auto_columns": null,
            "grid_auto_flow": null,
            "grid_auto_rows": null,
            "grid_column": null,
            "grid_gap": null,
            "grid_row": null,
            "grid_template_areas": null,
            "grid_template_columns": null,
            "grid_template_rows": null,
            "height": null,
            "justify_content": null,
            "justify_items": null,
            "left": null,
            "margin": null,
            "max_height": null,
            "max_width": null,
            "min_height": null,
            "min_width": null,
            "object_fit": null,
            "object_position": null,
            "order": null,
            "overflow": null,
            "overflow_x": null,
            "overflow_y": null,
            "padding": null,
            "right": null,
            "top": null,
            "visibility": null,
            "width": null
          }
        },
        "9a7a0930462147c980ed2e8671ea230a": {
          "model_module": "@jupyter-widgets/controls",
          "model_name": "DescriptionStyleModel",
          "model_module_version": "1.5.0",
          "state": {
            "_model_module": "@jupyter-widgets/controls",
            "_model_module_version": "1.5.0",
            "_model_name": "DescriptionStyleModel",
            "_view_count": null,
            "_view_module": "@jupyter-widgets/base",
            "_view_module_version": "1.2.0",
            "_view_name": "StyleView",
            "description_width": ""
          }
        },
        "9e3cb8b07f8f4bf6ac0e2c122f615dd0": {
          "model_module": "@jupyter-widgets/base",
          "model_name": "LayoutModel",
          "model_module_version": "1.2.0",
          "state": {
            "_model_module": "@jupyter-widgets/base",
            "_model_module_version": "1.2.0",
            "_model_name": "LayoutModel",
            "_view_count": null,
            "_view_module": "@jupyter-widgets/base",
            "_view_module_version": "1.2.0",
            "_view_name": "LayoutView",
            "align_content": null,
            "align_items": null,
            "align_self": null,
            "border": null,
            "bottom": null,
            "display": null,
            "flex": null,
            "flex_flow": null,
            "grid_area": null,
            "grid_auto_columns": null,
            "grid_auto_flow": null,
            "grid_auto_rows": null,
            "grid_column": null,
            "grid_gap": null,
            "grid_row": null,
            "grid_template_areas": null,
            "grid_template_columns": null,
            "grid_template_rows": null,
            "height": null,
            "justify_content": null,
            "justify_items": null,
            "left": null,
            "margin": null,
            "max_height": null,
            "max_width": null,
            "min_height": null,
            "min_width": null,
            "object_fit": null,
            "object_position": null,
            "order": null,
            "overflow": null,
            "overflow_x": null,
            "overflow_y": null,
            "padding": null,
            "right": null,
            "top": null,
            "visibility": null,
            "width": null
          }
        },
        "6dbaa82b7e634685b530fb6c72258303": {
          "model_module": "@jupyter-widgets/controls",
          "model_name": "ProgressStyleModel",
          "model_module_version": "1.5.0",
          "state": {
            "_model_module": "@jupyter-widgets/controls",
            "_model_module_version": "1.5.0",
            "_model_name": "ProgressStyleModel",
            "_view_count": null,
            "_view_module": "@jupyter-widgets/base",
            "_view_module_version": "1.2.0",
            "_view_name": "StyleView",
            "bar_color": null,
            "description_width": ""
          }
        },
        "d87db2ab9fb64ada844fa0a15f4d63bd": {
          "model_module": "@jupyter-widgets/base",
          "model_name": "LayoutModel",
          "model_module_version": "1.2.0",
          "state": {
            "_model_module": "@jupyter-widgets/base",
            "_model_module_version": "1.2.0",
            "_model_name": "LayoutModel",
            "_view_count": null,
            "_view_module": "@jupyter-widgets/base",
            "_view_module_version": "1.2.0",
            "_view_name": "LayoutView",
            "align_content": null,
            "align_items": null,
            "align_self": null,
            "border": null,
            "bottom": null,
            "display": null,
            "flex": null,
            "flex_flow": null,
            "grid_area": null,
            "grid_auto_columns": null,
            "grid_auto_flow": null,
            "grid_auto_rows": null,
            "grid_column": null,
            "grid_gap": null,
            "grid_row": null,
            "grid_template_areas": null,
            "grid_template_columns": null,
            "grid_template_rows": null,
            "height": null,
            "justify_content": null,
            "justify_items": null,
            "left": null,
            "margin": null,
            "max_height": null,
            "max_width": null,
            "min_height": null,
            "min_width": null,
            "object_fit": null,
            "object_position": null,
            "order": null,
            "overflow": null,
            "overflow_x": null,
            "overflow_y": null,
            "padding": null,
            "right": null,
            "top": null,
            "visibility": null,
            "width": null
          }
        },
        "6c3d22cd4cff4d34979c2ad640366a42": {
          "model_module": "@jupyter-widgets/controls",
          "model_name": "DescriptionStyleModel",
          "model_module_version": "1.5.0",
          "state": {
            "_model_module": "@jupyter-widgets/controls",
            "_model_module_version": "1.5.0",
            "_model_name": "DescriptionStyleModel",
            "_view_count": null,
            "_view_module": "@jupyter-widgets/base",
            "_view_module_version": "1.2.0",
            "_view_name": "StyleView",
            "description_width": ""
          }
        },
        "66924a179882447180678709c9ec71e3": {
          "model_module": "@jupyter-widgets/controls",
          "model_name": "HBoxModel",
          "model_module_version": "1.5.0",
          "state": {
            "_dom_classes": [],
            "_model_module": "@jupyter-widgets/controls",
            "_model_module_version": "1.5.0",
            "_model_name": "HBoxModel",
            "_view_count": null,
            "_view_module": "@jupyter-widgets/controls",
            "_view_module_version": "1.5.0",
            "_view_name": "HBoxView",
            "box_style": "",
            "children": [
              "IPY_MODEL_c4570a9ce22a42f2a1ac9d73817e52dd",
              "IPY_MODEL_b413159639cc493fb2bea2a373d50e02",
              "IPY_MODEL_c524f6f4e2fe415c9e2ec329572a95f5"
            ],
            "layout": "IPY_MODEL_bc7b9856a4654f3da41bfa66b01b4997"
          }
        },
        "c4570a9ce22a42f2a1ac9d73817e52dd": {
          "model_module": "@jupyter-widgets/controls",
          "model_name": "HTMLModel",
          "model_module_version": "1.5.0",
          "state": {
            "_dom_classes": [],
            "_model_module": "@jupyter-widgets/controls",
            "_model_module_version": "1.5.0",
            "_model_name": "HTMLModel",
            "_view_count": null,
            "_view_module": "@jupyter-widgets/controls",
            "_view_module_version": "1.5.0",
            "_view_name": "HTMLView",
            "description": "",
            "description_tooltip": null,
            "layout": "IPY_MODEL_a65923d82abf430a983d4c4d48e65221",
            "placeholder": "​",
            "style": "IPY_MODEL_ed70954a0f71448fb75c83ddd33fcdc8",
            "value": "100%"
          }
        },
        "b413159639cc493fb2bea2a373d50e02": {
          "model_module": "@jupyter-widgets/controls",
          "model_name": "FloatProgressModel",
          "model_module_version": "1.5.0",
          "state": {
            "_dom_classes": [],
            "_model_module": "@jupyter-widgets/controls",
            "_model_module_version": "1.5.0",
            "_model_name": "FloatProgressModel",
            "_view_count": null,
            "_view_module": "@jupyter-widgets/controls",
            "_view_module_version": "1.5.0",
            "_view_name": "ProgressView",
            "bar_style": "success",
            "description": "",
            "description_tooltip": null,
            "layout": "IPY_MODEL_5ee0f107f1d247f7a79820a65486b1d8",
            "max": 2000,
            "min": 0,
            "orientation": "horizontal",
            "style": "IPY_MODEL_baea92e77f3e402e81202b0c3197687e",
            "value": 2000
          }
        },
        "c524f6f4e2fe415c9e2ec329572a95f5": {
          "model_module": "@jupyter-widgets/controls",
          "model_name": "HTMLModel",
          "model_module_version": "1.5.0",
          "state": {
            "_dom_classes": [],
            "_model_module": "@jupyter-widgets/controls",
            "_model_module_version": "1.5.0",
            "_model_name": "HTMLModel",
            "_view_count": null,
            "_view_module": "@jupyter-widgets/controls",
            "_view_module_version": "1.5.0",
            "_view_name": "HTMLView",
            "description": "",
            "description_tooltip": null,
            "layout": "IPY_MODEL_996c7b9db5b8409b9f9d119cb8e29511",
            "placeholder": "​",
            "style": "IPY_MODEL_52e6aabccc404aa6833d8e88e1435772",
            "value": " 2000/2000 [00:00&lt;00:00, 4320.39it/s]"
          }
        },
        "bc7b9856a4654f3da41bfa66b01b4997": {
          "model_module": "@jupyter-widgets/base",
          "model_name": "LayoutModel",
          "model_module_version": "1.2.0",
          "state": {
            "_model_module": "@jupyter-widgets/base",
            "_model_module_version": "1.2.0",
            "_model_name": "LayoutModel",
            "_view_count": null,
            "_view_module": "@jupyter-widgets/base",
            "_view_module_version": "1.2.0",
            "_view_name": "LayoutView",
            "align_content": null,
            "align_items": null,
            "align_self": null,
            "border": null,
            "bottom": null,
            "display": null,
            "flex": null,
            "flex_flow": null,
            "grid_area": null,
            "grid_auto_columns": null,
            "grid_auto_flow": null,
            "grid_auto_rows": null,
            "grid_column": null,
            "grid_gap": null,
            "grid_row": null,
            "grid_template_areas": null,
            "grid_template_columns": null,
            "grid_template_rows": null,
            "height": null,
            "justify_content": null,
            "justify_items": null,
            "left": null,
            "margin": null,
            "max_height": null,
            "max_width": null,
            "min_height": null,
            "min_width": null,
            "object_fit": null,
            "object_position": null,
            "order": null,
            "overflow": null,
            "overflow_x": null,
            "overflow_y": null,
            "padding": null,
            "right": null,
            "top": null,
            "visibility": null,
            "width": null
          }
        },
        "a65923d82abf430a983d4c4d48e65221": {
          "model_module": "@jupyter-widgets/base",
          "model_name": "LayoutModel",
          "model_module_version": "1.2.0",
          "state": {
            "_model_module": "@jupyter-widgets/base",
            "_model_module_version": "1.2.0",
            "_model_name": "LayoutModel",
            "_view_count": null,
            "_view_module": "@jupyter-widgets/base",
            "_view_module_version": "1.2.0",
            "_view_name": "LayoutView",
            "align_content": null,
            "align_items": null,
            "align_self": null,
            "border": null,
            "bottom": null,
            "display": null,
            "flex": null,
            "flex_flow": null,
            "grid_area": null,
            "grid_auto_columns": null,
            "grid_auto_flow": null,
            "grid_auto_rows": null,
            "grid_column": null,
            "grid_gap": null,
            "grid_row": null,
            "grid_template_areas": null,
            "grid_template_columns": null,
            "grid_template_rows": null,
            "height": null,
            "justify_content": null,
            "justify_items": null,
            "left": null,
            "margin": null,
            "max_height": null,
            "max_width": null,
            "min_height": null,
            "min_width": null,
            "object_fit": null,
            "object_position": null,
            "order": null,
            "overflow": null,
            "overflow_x": null,
            "overflow_y": null,
            "padding": null,
            "right": null,
            "top": null,
            "visibility": null,
            "width": null
          }
        },
        "ed70954a0f71448fb75c83ddd33fcdc8": {
          "model_module": "@jupyter-widgets/controls",
          "model_name": "DescriptionStyleModel",
          "model_module_version": "1.5.0",
          "state": {
            "_model_module": "@jupyter-widgets/controls",
            "_model_module_version": "1.5.0",
            "_model_name": "DescriptionStyleModel",
            "_view_count": null,
            "_view_module": "@jupyter-widgets/base",
            "_view_module_version": "1.2.0",
            "_view_name": "StyleView",
            "description_width": ""
          }
        },
        "5ee0f107f1d247f7a79820a65486b1d8": {
          "model_module": "@jupyter-widgets/base",
          "model_name": "LayoutModel",
          "model_module_version": "1.2.0",
          "state": {
            "_model_module": "@jupyter-widgets/base",
            "_model_module_version": "1.2.0",
            "_model_name": "LayoutModel",
            "_view_count": null,
            "_view_module": "@jupyter-widgets/base",
            "_view_module_version": "1.2.0",
            "_view_name": "LayoutView",
            "align_content": null,
            "align_items": null,
            "align_self": null,
            "border": null,
            "bottom": null,
            "display": null,
            "flex": null,
            "flex_flow": null,
            "grid_area": null,
            "grid_auto_columns": null,
            "grid_auto_flow": null,
            "grid_auto_rows": null,
            "grid_column": null,
            "grid_gap": null,
            "grid_row": null,
            "grid_template_areas": null,
            "grid_template_columns": null,
            "grid_template_rows": null,
            "height": null,
            "justify_content": null,
            "justify_items": null,
            "left": null,
            "margin": null,
            "max_height": null,
            "max_width": null,
            "min_height": null,
            "min_width": null,
            "object_fit": null,
            "object_position": null,
            "order": null,
            "overflow": null,
            "overflow_x": null,
            "overflow_y": null,
            "padding": null,
            "right": null,
            "top": null,
            "visibility": null,
            "width": null
          }
        },
        "baea92e77f3e402e81202b0c3197687e": {
          "model_module": "@jupyter-widgets/controls",
          "model_name": "ProgressStyleModel",
          "model_module_version": "1.5.0",
          "state": {
            "_model_module": "@jupyter-widgets/controls",
            "_model_module_version": "1.5.0",
            "_model_name": "ProgressStyleModel",
            "_view_count": null,
            "_view_module": "@jupyter-widgets/base",
            "_view_module_version": "1.2.0",
            "_view_name": "StyleView",
            "bar_color": null,
            "description_width": ""
          }
        },
        "996c7b9db5b8409b9f9d119cb8e29511": {
          "model_module": "@jupyter-widgets/base",
          "model_name": "LayoutModel",
          "model_module_version": "1.2.0",
          "state": {
            "_model_module": "@jupyter-widgets/base",
            "_model_module_version": "1.2.0",
            "_model_name": "LayoutModel",
            "_view_count": null,
            "_view_module": "@jupyter-widgets/base",
            "_view_module_version": "1.2.0",
            "_view_name": "LayoutView",
            "align_content": null,
            "align_items": null,
            "align_self": null,
            "border": null,
            "bottom": null,
            "display": null,
            "flex": null,
            "flex_flow": null,
            "grid_area": null,
            "grid_auto_columns": null,
            "grid_auto_flow": null,
            "grid_auto_rows": null,
            "grid_column": null,
            "grid_gap": null,
            "grid_row": null,
            "grid_template_areas": null,
            "grid_template_columns": null,
            "grid_template_rows": null,
            "height": null,
            "justify_content": null,
            "justify_items": null,
            "left": null,
            "margin": null,
            "max_height": null,
            "max_width": null,
            "min_height": null,
            "min_width": null,
            "object_fit": null,
            "object_position": null,
            "order": null,
            "overflow": null,
            "overflow_x": null,
            "overflow_y": null,
            "padding": null,
            "right": null,
            "top": null,
            "visibility": null,
            "width": null
          }
        },
        "52e6aabccc404aa6833d8e88e1435772": {
          "model_module": "@jupyter-widgets/controls",
          "model_name": "DescriptionStyleModel",
          "model_module_version": "1.5.0",
          "state": {
            "_model_module": "@jupyter-widgets/controls",
            "_model_module_version": "1.5.0",
            "_model_name": "DescriptionStyleModel",
            "_view_count": null,
            "_view_module": "@jupyter-widgets/base",
            "_view_module_version": "1.2.0",
            "_view_name": "StyleView",
            "description_width": ""
          }
        },
        "51ff3c0903994dd6b8ff5b036e02b421": {
          "model_module": "@jupyter-widgets/controls",
          "model_name": "HBoxModel",
          "model_module_version": "1.5.0",
          "state": {
            "_dom_classes": [],
            "_model_module": "@jupyter-widgets/controls",
            "_model_module_version": "1.5.0",
            "_model_name": "HBoxModel",
            "_view_count": null,
            "_view_module": "@jupyter-widgets/controls",
            "_view_module_version": "1.5.0",
            "_view_name": "HBoxView",
            "box_style": "",
            "children": [
              "IPY_MODEL_acce4a5bff0d47ce8cb4c5f148120781",
              "IPY_MODEL_7c29749cb1a74bba905014f2a81240e3",
              "IPY_MODEL_f384ab27987d4348bbdb92a189aa087a"
            ],
            "layout": "IPY_MODEL_962fe49704464c6088a7f6041747cce1"
          }
        },
        "acce4a5bff0d47ce8cb4c5f148120781": {
          "model_module": "@jupyter-widgets/controls",
          "model_name": "HTMLModel",
          "model_module_version": "1.5.0",
          "state": {
            "_dom_classes": [],
            "_model_module": "@jupyter-widgets/controls",
            "_model_module_version": "1.5.0",
            "_model_name": "HTMLModel",
            "_view_count": null,
            "_view_module": "@jupyter-widgets/controls",
            "_view_module_version": "1.5.0",
            "_view_name": "HTMLView",
            "description": "",
            "description_tooltip": null,
            "layout": "IPY_MODEL_fd022f63d8d34e71b11f9bd055889f6c",
            "placeholder": "​",
            "style": "IPY_MODEL_5ea3cec69ac5407b915f79f237932256",
            "value": "100%"
          }
        },
        "7c29749cb1a74bba905014f2a81240e3": {
          "model_module": "@jupyter-widgets/controls",
          "model_name": "FloatProgressModel",
          "model_module_version": "1.5.0",
          "state": {
            "_dom_classes": [],
            "_model_module": "@jupyter-widgets/controls",
            "_model_module_version": "1.5.0",
            "_model_name": "FloatProgressModel",
            "_view_count": null,
            "_view_module": "@jupyter-widgets/controls",
            "_view_module_version": "1.5.0",
            "_view_name": "ProgressView",
            "bar_style": "success",
            "description": "",
            "description_tooltip": null,
            "layout": "IPY_MODEL_c3b4cafd34484d8d8db22f86fb33c4d6",
            "max": 2000,
            "min": 0,
            "orientation": "horizontal",
            "style": "IPY_MODEL_1a5f403b2d7e425f99e5129ce9e14af2",
            "value": 2000
          }
        },
        "f384ab27987d4348bbdb92a189aa087a": {
          "model_module": "@jupyter-widgets/controls",
          "model_name": "HTMLModel",
          "model_module_version": "1.5.0",
          "state": {
            "_dom_classes": [],
            "_model_module": "@jupyter-widgets/controls",
            "_model_module_version": "1.5.0",
            "_model_name": "HTMLModel",
            "_view_count": null,
            "_view_module": "@jupyter-widgets/controls",
            "_view_module_version": "1.5.0",
            "_view_name": "HTMLView",
            "description": "",
            "description_tooltip": null,
            "layout": "IPY_MODEL_4db5f09d8f5a428094ae8809c881a275",
            "placeholder": "​",
            "style": "IPY_MODEL_2538df93a3de47e4860c2b38e2b3a599",
            "value": " 2000/2000 [00:12&lt;00:00, 302.87it/s]"
          }
        },
        "962fe49704464c6088a7f6041747cce1": {
          "model_module": "@jupyter-widgets/base",
          "model_name": "LayoutModel",
          "model_module_version": "1.2.0",
          "state": {
            "_model_module": "@jupyter-widgets/base",
            "_model_module_version": "1.2.0",
            "_model_name": "LayoutModel",
            "_view_count": null,
            "_view_module": "@jupyter-widgets/base",
            "_view_module_version": "1.2.0",
            "_view_name": "LayoutView",
            "align_content": null,
            "align_items": null,
            "align_self": null,
            "border": null,
            "bottom": null,
            "display": null,
            "flex": null,
            "flex_flow": null,
            "grid_area": null,
            "grid_auto_columns": null,
            "grid_auto_flow": null,
            "grid_auto_rows": null,
            "grid_column": null,
            "grid_gap": null,
            "grid_row": null,
            "grid_template_areas": null,
            "grid_template_columns": null,
            "grid_template_rows": null,
            "height": null,
            "justify_content": null,
            "justify_items": null,
            "left": null,
            "margin": null,
            "max_height": null,
            "max_width": null,
            "min_height": null,
            "min_width": null,
            "object_fit": null,
            "object_position": null,
            "order": null,
            "overflow": null,
            "overflow_x": null,
            "overflow_y": null,
            "padding": null,
            "right": null,
            "top": null,
            "visibility": null,
            "width": null
          }
        },
        "fd022f63d8d34e71b11f9bd055889f6c": {
          "model_module": "@jupyter-widgets/base",
          "model_name": "LayoutModel",
          "model_module_version": "1.2.0",
          "state": {
            "_model_module": "@jupyter-widgets/base",
            "_model_module_version": "1.2.0",
            "_model_name": "LayoutModel",
            "_view_count": null,
            "_view_module": "@jupyter-widgets/base",
            "_view_module_version": "1.2.0",
            "_view_name": "LayoutView",
            "align_content": null,
            "align_items": null,
            "align_self": null,
            "border": null,
            "bottom": null,
            "display": null,
            "flex": null,
            "flex_flow": null,
            "grid_area": null,
            "grid_auto_columns": null,
            "grid_auto_flow": null,
            "grid_auto_rows": null,
            "grid_column": null,
            "grid_gap": null,
            "grid_row": null,
            "grid_template_areas": null,
            "grid_template_columns": null,
            "grid_template_rows": null,
            "height": null,
            "justify_content": null,
            "justify_items": null,
            "left": null,
            "margin": null,
            "max_height": null,
            "max_width": null,
            "min_height": null,
            "min_width": null,
            "object_fit": null,
            "object_position": null,
            "order": null,
            "overflow": null,
            "overflow_x": null,
            "overflow_y": null,
            "padding": null,
            "right": null,
            "top": null,
            "visibility": null,
            "width": null
          }
        },
        "5ea3cec69ac5407b915f79f237932256": {
          "model_module": "@jupyter-widgets/controls",
          "model_name": "DescriptionStyleModel",
          "model_module_version": "1.5.0",
          "state": {
            "_model_module": "@jupyter-widgets/controls",
            "_model_module_version": "1.5.0",
            "_model_name": "DescriptionStyleModel",
            "_view_count": null,
            "_view_module": "@jupyter-widgets/base",
            "_view_module_version": "1.2.0",
            "_view_name": "StyleView",
            "description_width": ""
          }
        },
        "c3b4cafd34484d8d8db22f86fb33c4d6": {
          "model_module": "@jupyter-widgets/base",
          "model_name": "LayoutModel",
          "model_module_version": "1.2.0",
          "state": {
            "_model_module": "@jupyter-widgets/base",
            "_model_module_version": "1.2.0",
            "_model_name": "LayoutModel",
            "_view_count": null,
            "_view_module": "@jupyter-widgets/base",
            "_view_module_version": "1.2.0",
            "_view_name": "LayoutView",
            "align_content": null,
            "align_items": null,
            "align_self": null,
            "border": null,
            "bottom": null,
            "display": null,
            "flex": null,
            "flex_flow": null,
            "grid_area": null,
            "grid_auto_columns": null,
            "grid_auto_flow": null,
            "grid_auto_rows": null,
            "grid_column": null,
            "grid_gap": null,
            "grid_row": null,
            "grid_template_areas": null,
            "grid_template_columns": null,
            "grid_template_rows": null,
            "height": null,
            "justify_content": null,
            "justify_items": null,
            "left": null,
            "margin": null,
            "max_height": null,
            "max_width": null,
            "min_height": null,
            "min_width": null,
            "object_fit": null,
            "object_position": null,
            "order": null,
            "overflow": null,
            "overflow_x": null,
            "overflow_y": null,
            "padding": null,
            "right": null,
            "top": null,
            "visibility": null,
            "width": null
          }
        },
        "1a5f403b2d7e425f99e5129ce9e14af2": {
          "model_module": "@jupyter-widgets/controls",
          "model_name": "ProgressStyleModel",
          "model_module_version": "1.5.0",
          "state": {
            "_model_module": "@jupyter-widgets/controls",
            "_model_module_version": "1.5.0",
            "_model_name": "ProgressStyleModel",
            "_view_count": null,
            "_view_module": "@jupyter-widgets/base",
            "_view_module_version": "1.2.0",
            "_view_name": "StyleView",
            "bar_color": null,
            "description_width": ""
          }
        },
        "4db5f09d8f5a428094ae8809c881a275": {
          "model_module": "@jupyter-widgets/base",
          "model_name": "LayoutModel",
          "model_module_version": "1.2.0",
          "state": {
            "_model_module": "@jupyter-widgets/base",
            "_model_module_version": "1.2.0",
            "_model_name": "LayoutModel",
            "_view_count": null,
            "_view_module": "@jupyter-widgets/base",
            "_view_module_version": "1.2.0",
            "_view_name": "LayoutView",
            "align_content": null,
            "align_items": null,
            "align_self": null,
            "border": null,
            "bottom": null,
            "display": null,
            "flex": null,
            "flex_flow": null,
            "grid_area": null,
            "grid_auto_columns": null,
            "grid_auto_flow": null,
            "grid_auto_rows": null,
            "grid_column": null,
            "grid_gap": null,
            "grid_row": null,
            "grid_template_areas": null,
            "grid_template_columns": null,
            "grid_template_rows": null,
            "height": null,
            "justify_content": null,
            "justify_items": null,
            "left": null,
            "margin": null,
            "max_height": null,
            "max_width": null,
            "min_height": null,
            "min_width": null,
            "object_fit": null,
            "object_position": null,
            "order": null,
            "overflow": null,
            "overflow_x": null,
            "overflow_y": null,
            "padding": null,
            "right": null,
            "top": null,
            "visibility": null,
            "width": null
          }
        },
        "2538df93a3de47e4860c2b38e2b3a599": {
          "model_module": "@jupyter-widgets/controls",
          "model_name": "DescriptionStyleModel",
          "model_module_version": "1.5.0",
          "state": {
            "_model_module": "@jupyter-widgets/controls",
            "_model_module_version": "1.5.0",
            "_model_name": "DescriptionStyleModel",
            "_view_count": null,
            "_view_module": "@jupyter-widgets/base",
            "_view_module_version": "1.2.0",
            "_view_name": "StyleView",
            "description_width": ""
          }
        }
      }
    }
  },
  "cells": [
    {
      "cell_type": "code",
      "source": [
        "!python -m spacy download en_core_web_lg"
      ],
      "metadata": {
        "id": "W9gg8XnXCLxw"
      },
      "execution_count": null,
      "outputs": []
    },
    {
      "cell_type": "code",
      "execution_count": null,
      "metadata": {
        "id": "LXt6z7qnrAyv"
      },
      "outputs": [],
      "source": [
        "import pandas as pd\n",
        "import numpy as np\n",
        "import matplotlib.pyplot as plt\n",
        "import seaborn as sns\n",
        "from collections import defaultdict\n",
        "from tqdm.notebook import tqdm\n",
        "import spacy\n",
        "\n",
        "import nltk\n",
        "from nltk import word_tokenize\n",
        "from nltk.corpus import stopwords\n",
        "from nltk.corpus import wordnet as wn\n",
        "from nltk.stem import WordNetLemmatizer\n",
        "from nltk.stem import PorterStemmer\n",
        "from sklearn.naive_bayes import GaussianNB\n",
        "from sklearn.tree import DecisionTreeClassifier\n",
        "from sklearn.neural_network import MLPClassifier\n",
        "from sklearn.ensemble import AdaBoostClassifier\n",
        "\n",
        "from string import punctuation\n",
        "\n",
        "from sklearn.metrics.pairwise import cosine_similarity\n",
        "from sklearn import svm\n",
        "\n",
        "import random\n",
        "import pickle\n",
        "\n",
        "#---------------downloading ---------------------\n",
        "spacy = spacy.load(\"en_core_web_lg\")\n",
        "nltk.download('wordnet')\n",
        "nltk.download('stopwords')\n",
        "nltk.download('punkt')\n",
        "stopWords = stopwords.words('english')"
      ]
    },
    {
      "cell_type": "code",
      "source": [
        "#SNI dataset:\n",
        "train_raw_sni = pd.read_json(\"./drive/MyDrive/ColabData/snli_1.0_train.jsonl\",lines = True)\n",
        "train_raw_sni = train_raw_sni[train_raw_sni.gold_label!='-'][:3633]\n",
        "\n",
        "\n",
        "#RTE dataset\n",
        "train_raw_rte3_train = pd.read_xml(\"./drive/MyDrive/ColabData/rte3_dev.xml\")# 800 sample data\n",
        "train_raw_rte3_train.drop(columns=(\"length\"),inplace = True)\n",
        "train_raw_rte2_train = pd.read_xml(\"./drive/MyDrive/ColabData/rte2_dev.xml\")# 400 sample data\n",
        "train_raw_rte2_test = pd.read_xml(\"./drive/MyDrive/ColabData/rte2_test.xml\")# 800 sample data\n",
        "train_raw_rte1_train = pd.read_xml(\"./drive/MyDrive/ColabData/rte1_dev.xml\")# 567 sample data\n",
        "train_raw_rte1_test = pd.read_xml(\"./drive/MyDrive/ColabData/rte1_test.xml\")# 800 sample data\n",
        "train_raw_rte1_train.rename(columns = {\"value\":\"entailment\"},inplace = True)\n",
        "train_raw_rte1_test.rename(columns = {\"value\":\"entailment\"},inplace = True)\n",
        "\n",
        "\n",
        "train_raw = train_raw_rte3_train.append(train_raw_rte2_train,ignore_index=True)\n",
        "train_raw = train_raw.append(train_raw_rte2_test,ignore_index=True)\n",
        "train_raw = train_raw.append(train_raw_rte1_train,ignore_index=True)\n",
        "train_raw = train_raw.append(train_raw_rte1_test,ignore_index=True)\n",
        "\n",
        "\n",
        "\n",
        "\n",
        "train_raw.loc[ train_raw[\"entailment\"] == \"YES\",   \"entailment\" ] = \"entailment\"\n",
        "train_raw.loc[ train_raw[\"entailment\"] == True,  \"entailment\" ] = \"entailment\"\n",
        "train_raw.loc[ train_raw[\"entailment\"] == \"NO\",    \"entailment\" ] = \"other\"\n",
        "train_raw.loc[ train_raw[\"entailment\"] == False, \"entailment\" ] = \"other\"\n",
        "\n",
        "train_raw.rename(columns = {\"t\":\"sentence1\",\"h\":\"sentence2\",\"entailment\":\"gold_label\"},inplace = True)\n",
        "train_raw = train_raw.append(train_raw_sni,ignore_index = True)\n",
        "\n",
        "\n",
        "\n",
        "#RTE dataset\n",
        "test_raw_rte3 = pd.read_xml(\"./drive/MyDrive/ColabData/rte3_test.xml\")\n",
        "test_raw_sni = pd.read_json(\"./drive/MyDrive/ColabData/snli_1.0_test.jsonl\",lines = True)\n",
        "test_raw_sni = train_raw_sni[train_raw_sni.gold_label!='-'][:1200]\n",
        "\n",
        "test_raw_rte3.loc[test_raw_rte3[\"entailment\"]==\"YES\",\"entailment\"] = \"entailment\"\n",
        "test_raw_rte3.loc[test_raw_rte3[\"entailment\"]==\"NO\",\"entailment\"] = \"other\"\n",
        "test_raw_rte3.rename(columns = {\"t\":\"sentence1\",\"h\":\"sentence2\",\"entailment\":\"gold_label\"},inplace = True)\n",
        "\n",
        "test_raw = test_raw_rte3.append(test_raw_sni,ignore_index = True)\n",
        "\n"
      ],
      "metadata": {
        "id": "u6K8cC3XsB6r"
      },
      "execution_count": 2,
      "outputs": []
    },
    {
      "cell_type": "code",
      "source": [
        "train = train_raw\n",
        "train.replace(\"neutral\",\"other\", inplace = True)\n",
        "train.replace(\"contradiction\",\"other\", inplace = True)\n",
        "train = train.reset_index()\n",
        "\n",
        "test = test_raw\n",
        "\n",
        "print(\"len test:\",len(test),\"len train:\",len(train))"
      ],
      "metadata": {
        "id": "a54gEA_5sMke",
        "colab": {
          "base_uri": "https://localhost:8080/"
        },
        "outputId": "f6e6031d-95ab-4b83-9cdb-4f8c30ee3d4f"
      },
      "execution_count": 3,
      "outputs": [
        {
          "output_type": "stream",
          "name": "stdout",
          "text": [
            "len test: 2000 len train: 7000\n"
          ]
        }
      ]
    },
    {
      "cell_type": "code",
      "source": [
        "def normalizedTokenizer(text):\n",
        "   wnl = WordNetLemmatizer()\n",
        "   ps = PorterStemmer()\n",
        "   return [ps.stem(wnl.lemmatize(x)) for x in word_tokenize(text.lower()) if x not in punctuation and x not in stopWords] #"
      ],
      "metadata": {
        "id": "1QttBPKXlJiT"
      },
      "execution_count": 4,
      "outputs": []
    },
    {
      "cell_type": "markdown",
      "source": [
        "# First approach, cosine-similarity"
      ],
      "metadata": {
        "id": "7psnrMTBPD6_"
      }
    },
    {
      "cell_type": "code",
      "source": [
        "def generateBagOfWord(sentences):\n",
        "  BOW = defaultdict(lambda: defaultdict(lambda: 0))\n",
        "  corpus = list(enumerate(sentences))\n",
        "  for i, document in corpus:\n",
        "    tokens = normalizedTokenizer(document)\n",
        "    for token in tokens:\n",
        "        BOW[i][token] += 1\n",
        "  return BOW"
      ],
      "metadata": {
        "id": "WvDbeekWbFBL"
      },
      "execution_count": 5,
      "outputs": []
    },
    {
      "cell_type": "code",
      "source": [
        "def predict(T,H,threshold):\n",
        "  bow = generateBagOfWord([T,H])\n",
        "  data = (pd.DataFrame(bow).fillna(0, inplace=False).T).values\n",
        "  similarity = cosine_similarity(data[0].reshape(1, -1),data[1].reshape(1, -1))\n",
        "  if similarity > threshold:\n",
        "    return \"entailment\"\n",
        "  else:\n",
        "    return \"other\""
      ],
      "metadata": {
        "id": "QI8q19WQARcA"
      },
      "execution_count": 6,
      "outputs": []
    },
    {
      "cell_type": "code",
      "source": [
        "def evaluation(threshold):\n",
        "  tp = fp = fn = tn = 0\n",
        "  for index in range(len(test)):\n",
        "    prediction = predict(test.sentence1[index],test.sentence2[index],threshold)\n",
        "    actualLable = test.gold_label[index]\n",
        "    if actualLable == \"entailment\":\n",
        "      if prediction == \"entailment\":\n",
        "        tp +=1\n",
        "      else:\n",
        "        fn +=1\n",
        "    else:\n",
        "        if prediction == \"other\":\n",
        "          tn+=1\n",
        "        else:\n",
        "            fp+=1\n",
        "  return {\"Accuracy\":round( (tp+tn) / (tp+tn+fp+fn),2),\"Percision\":round(tp/(tp+fp),2),\"Recall\":round(tp/(tp+fn),2)}"
      ],
      "metadata": {
        "id": "0RI_qcjqPDWZ"
      },
      "execution_count": 7,
      "outputs": []
    },
    {
      "cell_type": "code",
      "source": [
        "threshold = 0.3\n",
        "evaluation(threshold)"
      ],
      "metadata": {
        "id": "6EABaZVij0m5",
        "colab": {
          "base_uri": "https://localhost:8080/"
        },
        "outputId": "8f9c188f-4492-4d07-b7eb-615677b3af4e"
      },
      "execution_count": 8,
      "outputs": [
        {
          "output_type": "execute_result",
          "data": {
            "text/plain": [
              "{'Accuracy': 0.61, 'Percision': 0.52, 'Recall': 0.79}"
            ]
          },
          "metadata": {},
          "execution_count": 8
        }
      ]
    },
    {
      "cell_type": "code",
      "source": [
        "T = \"Tim managed to stop the car\"\n",
        "H = \"Tim stopped the car\"\n",
        "H1 = \"Tim tried to stop the car\"\n",
        "H2 = \"Tim did something to the car\"\n",
        "H3 = \"the color of the cor is blue\"\n",
        "H4 = \"car is not moving any more\"\n",
        "print(\" T->H\",predict (T,H,threshold),\"correct:entrailment\\n\",\"T->H1\",predict (T,H1,threshold),\"correct:entrailment\\n\",\"T->H2\",predict (T,H2,threshold),\"correct:entrailment\\n\",\n",
        "      \"T->H3\",predict (T,H3,threshold),\"correct:other\\n\",\"T->H4\",predict (T,H4,threshold),\"correct:entrailment\\n\",)\n",
        "\n",
        "\n",
        "T = \"Tim has bought fish tonight\"\n",
        "H = \"Tim has spent money\"\n",
        "H1 = \"Tim has bought something\"\n",
        "H2 = \"Tim Is relaxed and happy!\"\n",
        "print(\" T->H\",predict (T,H,threshold),\"correct:entrailment\\n\",\"T->H1\",predict (T,H1,threshold),\"correct:entrailment\\n\",\"T->H2\",predict (T,H2,threshold),\"correct:other\\n\",)\n",
        "\n",
        "\n",
        "T = \"A girl playing a violin along with a group of people\"\n",
        "H = \"A girl is playing an instrument.\"\n",
        "H1 = \"A girl is playing outdoor alone\"\n",
        "H2 = \"A girl is playing volleyball with other groups of people\"\n",
        "print(\" T->H\",predict (T,H,threshold),\"correct:entrailment\\n\",\"T->H1\",predict (T,H1,threshold),\"correct:other\\n\",\"T->H2\",predict (T,H2,threshold),\"correct:other\\n\",)"
      ],
      "metadata": {
        "colab": {
          "base_uri": "https://localhost:8080/"
        },
        "id": "jVEBfsFahMoW",
        "outputId": "304c643d-d42a-48d3-e6a1-39d9da601791"
      },
      "execution_count": 9,
      "outputs": [
        {
          "output_type": "stream",
          "name": "stdout",
          "text": [
            " T->H entailment correct:entrailment\n",
            " T->H1 entailment correct:entrailment\n",
            " T->H2 entailment correct:entrailment\n",
            " T->H3 other correct:other\n",
            " T->H4 entailment correct:entrailment\n",
            "\n",
            " T->H other correct:entrailment\n",
            " T->H1 entailment correct:entrailment\n",
            " T->H2 other correct:other\n",
            "\n",
            " T->H entailment correct:entrailment\n",
            " T->H1 entailment correct:other\n",
            " T->H2 entailment correct:other\n",
            "\n"
          ]
        }
      ]
    },
    {
      "cell_type": "markdown",
      "source": [
        "# Second approach: Cosine Directional Similarity"
      ],
      "metadata": {
        "id": "Vlv7lMymF_RI"
      }
    },
    {
      "cell_type": "code",
      "source": [
        "def predict(T,H,threshold):\n",
        "  threshold_one = threshold[0]\n",
        "  threshold_two = threshold[1]\n",
        "  threshold_three = threshold[2]\n",
        "  sentence_one = normalizedTokenizer(T)\n",
        "  sentence_two = normalizedTokenizer(H)\n",
        "  c = len([x for x in sentence_one if x in sentence_two])\n",
        "  cos_T = np.sqrt(c/len(sentence_one))\n",
        "  cos_H = np.sqrt(c/len(sentence_two))\n",
        "  cos_HT = np.sqrt( (4*np.power(c,2)) / ( (len(sentence_two)+c) * (len(sentence_one)+c) ) )\n",
        "  if (cos_HT - cos_T) <= threshold_one and (cos_H - cos_HT) <= threshold_two and max(cos_H,cos_T,cos_HT) >=threshold_three:\n",
        "    return \"entailment\"\n",
        "  else:\n",
        "    return \"other\""
      ],
      "metadata": {
        "id": "K6Bul87bXJRz"
      },
      "execution_count": 10,
      "outputs": []
    },
    {
      "cell_type": "code",
      "source": [
        "def evaluation(threshold):\n",
        "  tp = fp = fn = tn = 0\n",
        "  for index in range(len(test)):\n",
        "    prediction = predict(test.sentence1[index],test.sentence2[index],threshold)\n",
        "    actualLable = test.gold_label[index]\n",
        "    if actualLable == \"entailment\":\n",
        "      if prediction == \"entailment\":\n",
        "        tp +=1\n",
        "      else:\n",
        "        fn +=1\n",
        "    else:\n",
        "        if prediction == \"other\":\n",
        "          tn+=1\n",
        "        else:\n",
        "            fp+=1\n",
        "  return {\"Accuracy\":round( (tp+tn) / (tp+tn+fp+fn),2),\"Percision\":round(tp/(tp+fp),2),\"Recall\":round(tp/(tp+fn),2)}"
      ],
      "metadata": {
        "id": "0VuupP6FeFoi"
      },
      "execution_count": 11,
      "outputs": []
    },
    {
      "cell_type": "code",
      "source": [
        "threshold = [0.5,0.7,0.7]\n",
        "evaluation(threshold)"
      ],
      "metadata": {
        "id": "qwNI8Ahpv5pS",
        "colab": {
          "base_uri": "https://localhost:8080/"
        },
        "outputId": "3af31d5e-6a50-4c8c-fddd-5a0b32ac2681"
      },
      "execution_count": 12,
      "outputs": [
        {
          "output_type": "execute_result",
          "data": {
            "text/plain": [
              "{'Accuracy': 0.6, 'Percision': 0.51, 'Recall': 0.87}"
            ]
          },
          "metadata": {},
          "execution_count": 12
        }
      ]
    },
    {
      "cell_type": "code",
      "source": [
        "T = \"Tim managed to stop the car\"\n",
        "H = \"Tim stopped the car\"\n",
        "H1 = \"Tim tried to stop the car\"\n",
        "H2 = \"Tim did something to the car\"\n",
        "H3 = \"the color of the cor is blue\"\n",
        "H4 = \"car is not moving any more\"\n",
        "print(\" T->H\",predict (T,H,threshold),\"correct:entrailment\\n\",\"T->H1\",predict (T,H1,threshold),\"correct:entrailment\\n\",\"T->H2\",predict (T,H2,threshold),\"correct:entrailment\\n\",\n",
        "      \"T->H3\",predict (T,H3,threshold),\"correct:other\\n\",\"T->H4\",predict (T,H4,threshold),\"correct:entrailment\\n\",)\n",
        "\n",
        "\n",
        "T = \"Tim has bought fish tonight\"\n",
        "H = \"Tim has spent money\"\n",
        "H1 = \"Tim has bought something\"\n",
        "H2 = \"Tim Is relaxed and happy!\"\n",
        "print(\" T->H\",predict (T,H,threshold),\"correct:entrailment\\n\",\"T->H1\",predict (T,H1,threshold),\"correct:entrailment\\n\",\"T->H2\",predict (T,H2,threshold),\"correct:other\\n\",)\n",
        "\n",
        "\n",
        "T = \"A girl playing a violin along with a group of people\"\n",
        "H = \"A girl is playing an instrument.\"\n",
        "H1 = \"A girl is playing outdoor alone\"\n",
        "H2 = \"A girl is playing volleyball with other groups of people\"\n",
        "print(\" T->H\",predict (T,H,threshold),\"correct:entrailment\\n\",\"T->H1\",predict (T,H1,threshold),\"correct:other\\n\",\"T->H2\",predict (T,H2,threshold),\"correct:other\\n\",)"
      ],
      "metadata": {
        "id": "65uxjsr3HNFz",
        "colab": {
          "base_uri": "https://localhost:8080/"
        },
        "outputId": "d4f80e2e-d9b4-464e-ce7e-6823160c896a"
      },
      "execution_count": 13,
      "outputs": [
        {
          "output_type": "stream",
          "name": "stdout",
          "text": [
            " T->H entailment correct:entrailment\n",
            " T->H1 entailment correct:entrailment\n",
            " T->H2 entailment correct:entrailment\n",
            " T->H3 other correct:other\n",
            " T->H4 entailment correct:entrailment\n",
            "\n",
            " T->H other correct:entrailment\n",
            " T->H1 entailment correct:entrailment\n",
            " T->H2 other correct:other\n",
            "\n",
            " T->H entailment correct:entrailment\n",
            " T->H1 entailment correct:other\n",
            " T->H2 entailment correct:other\n",
            "\n"
          ]
        }
      ]
    },
    {
      "cell_type": "markdown",
      "source": [
        "# Third Approach, Modified Lev. Distance"
      ],
      "metadata": {
        "id": "6CoU2Yqq73i9"
      }
    },
    {
      "cell_type": "code",
      "source": [
        "def editDistance(a,b):\n",
        "  remove_cost = 3\n",
        "  insert_cost = 3\n",
        "  swap_cost = 2\n",
        "  substitude_cost = 5\n",
        "  cost = 0\n",
        "  if len(b) < len(a):\n",
        "    difference = (len(a) - len(b))\n",
        "    cost += (remove_cost * difference)\n",
        "    a = a[:-difference]\n",
        "  elif len(b) > len(a):\n",
        "    difference = (len(b) - len(a))\n",
        "    cost += (insert_cost * difference)\n",
        "    a = a + b[-difference:]\n",
        "  for index in range(len(b)):\n",
        "    if a[index] != b[index]:\n",
        "      if index != len(b)-1 and index != 0:\n",
        "         if a[index + 1] == b[index]:\n",
        "           cost += swap_cost\n",
        "           a = a[:index]+a[index+1]+a[index]+a[index+2:]\n",
        "         elif a[index - 1] == b[index]:\n",
        "           cost += swap_cost\n",
        "           a = a[:index-1]+a[index-1]+a[index]+a[index+1:]\n",
        "      else:\n",
        "        cost += substitude_cost\n",
        "        a = a[:index]+b[index]+a[index+1:]\n",
        "  return cost\n",
        "\n",
        "\n",
        "def predict(T,H):\n",
        "  sentence_one = \"\".join(normalizedTokenizer(T))\n",
        "  sentence_two = \"\".join(normalizedTokenizer(H))\n",
        "  ed_TH = editDistance(sentence_one,sentence_two)\n",
        "  ed_HT = editDistance(sentence_two,sentence_one)\n",
        "  if ed_TH < ed_HT:\n",
        "    return \"entailment\"\n",
        "  else:\n",
        "    return \"other\""
      ],
      "metadata": {
        "id": "MfpSAXQ0L0db"
      },
      "execution_count": 14,
      "outputs": []
    },
    {
      "cell_type": "code",
      "source": [
        "def evaluation():\n",
        "  tp = fp = fn = tn = 0\n",
        "  for index in range(len(test)):\n",
        "    prediction = predict(test.sentence1[index],test.sentence2[index])\n",
        "    actualLable = test.gold_label[index]\n",
        "    if actualLable == \"entailment\":\n",
        "      if prediction == \"entailment\":\n",
        "        tp +=1\n",
        "      else:\n",
        "        fn +=1\n",
        "    else:\n",
        "        if prediction == \"other\":\n",
        "          tn+=1\n",
        "        else:\n",
        "            fp+=1\n",
        "  return {\"Accuracy\":round( (tp+tn) / (tp+tn+fp+fn),2),\"Percision\":round(tp/(tp+fp),2),\"Recall\":round(tp/(tp+fn),2)}"
      ],
      "metadata": {
        "id": "ngfQJRJ5QKsz"
      },
      "execution_count": 15,
      "outputs": []
    },
    {
      "cell_type": "code",
      "source": [
        "evaluation()"
      ],
      "metadata": {
        "id": "3k65Jb3GcAPL",
        "colab": {
          "base_uri": "https://localhost:8080/"
        },
        "outputId": "2f571607-1783-4839-f8f1-e1e47c9aa8b2"
      },
      "execution_count": 16,
      "outputs": [
        {
          "output_type": "execute_result",
          "data": {
            "text/plain": [
              "{'Accuracy': 0.55, 'Percision': 0.23, 'Recall': 0.05}"
            ]
          },
          "metadata": {},
          "execution_count": 16
        }
      ]
    },
    {
      "cell_type": "code",
      "source": [
        "T = \"Tim managed to stop the car\"\n",
        "H = \"Tim stopped the car\"\n",
        "H1 = \"Tim tried to stop the car\"\n",
        "H2 = \"Tim did something to the car\"\n",
        "H3 = \"the color of the cor is blue\"\n",
        "H4 = \"car is not moving any more\"\n",
        "print(\" T->H\",predict (T,H),\"correct:entrailment\\n\",\"T->H1\",predict (T,H1),\"correct:entrailment\\n\",\"T->H2\",predict (T,H2),\"correct:entrailment\\n\",\n",
        "      \"T->H3\",predict (T,H3),\"correct:other\\n\",\"T->H4\",predict (T,H4),\"correct:entrailment\\n\",)\n",
        "\n",
        "\n",
        "T = \"Tim has bought fish tonight\"\n",
        "H = \"Tim has spent money\"\n",
        "H1 = \"Tim has bought something\"\n",
        "H2 = \"Tim Is relaxed and happy!\"\n",
        "print(\" T->H\",predict (T,H),\"correct:entrailment\\n\",\"T->H1\",predict (T,H1),\"correct:entrailment\\n\",\"T->H2\",predict (T,H2),\"correct:other\\n\",)\n",
        "\n",
        "\n",
        "T = \"A girl playing a violin along with a group of people\"\n",
        "H = \"A girl is playing an instrument.\"\n",
        "H1 = \"A girl is playing outdoor alone\"\n",
        "H2 = \"A girl is playing volleyball with other groups of people\"\n",
        "print(\" T->H\",predict (T,H),\"correct:entrailment\\n\",\"T->H1\",predict (T,H1),\"correct:other\\n\",\"T->H2\",predict (T,H2),\"correct:other\\n\",)"
      ],
      "metadata": {
        "colab": {
          "base_uri": "https://localhost:8080/"
        },
        "id": "1Bh4ZnA2jxqx",
        "outputId": "f160235a-6768-4c29-e278-6dfd13eac385"
      },
      "execution_count": 17,
      "outputs": [
        {
          "output_type": "stream",
          "name": "stdout",
          "text": [
            " T->H other correct:entrailment\n",
            " T->H1 other correct:entrailment\n",
            " T->H2 other correct:entrailment\n",
            " T->H3 other correct:other\n",
            " T->H4 other correct:entrailment\n",
            "\n",
            " T->H other correct:entrailment\n",
            " T->H1 other correct:entrailment\n",
            " T->H2 other correct:other\n",
            "\n",
            " T->H other correct:entrailment\n",
            " T->H1 entailment correct:other\n",
            " T->H2 other correct:other\n",
            "\n"
          ]
        }
      ]
    },
    {
      "cell_type": "markdown",
      "source": [
        "# Fourth Approach, SVM and GaussianNB"
      ],
      "metadata": {
        "id": "a86lFNF-LBM5"
      }
    },
    {
      "cell_type": "code",
      "source": [
        "def tagsDifference(T,H):\n",
        "  counter = 0\n",
        "  sentence_one = spacy(T)\n",
        "  sentence_two = spacy(H)\n",
        "  tags_T = []\n",
        "  tags_H = []\n",
        "  for token in sentence_one:\n",
        "    tags_T.append(token.tag_)\n",
        "  for token in sentence_two:\n",
        "    tags_H.append(token.tag_)  \n",
        "  for tag in tags_H:\n",
        "    if tag in tags_T:\n",
        "      tags_T.remove(tag)\n",
        "      counter +=1\n",
        "  return counter / len(tags_H)\n",
        "\n",
        "\n",
        "\n",
        "def tagsSimilarity(T,H):\n",
        "  \n",
        "  sentence_one = spacy(T)\n",
        "  sentence_two = spacy(H)\n",
        "  tags_T = []\n",
        "  tags_H = []\n",
        "  for token in sentence_one:\n",
        "    tags_T.append(token.tag_)\n",
        "  for token in sentence_two:\n",
        "    tags_H.append(token.tag_)  \n",
        "\n",
        "  bow = generateBagOfWord([\" \".join(tags_T),\" \".join(tags_H)])\n",
        "  data = (pd.DataFrame(bow).fillna(0, inplace=False).T).values\n",
        "  similarity = cosine_similarity(data[0].reshape(1, -1),data[1].reshape(1, -1)).flatten()[0]\n",
        "  return similarity"
      ],
      "metadata": {
        "id": "Q3v3D9YhEY9G"
      },
      "execution_count": 18,
      "outputs": []
    },
    {
      "cell_type": "code",
      "source": [
        "def generateData(T,H):\n",
        "  vector = []\n",
        "  bow = generateBagOfWord([T,H])\n",
        "  data = (pd.DataFrame(bow).fillna(0, inplace=False).T).values\n",
        "\n",
        "  similarity = cosine_similarity(data[0].reshape(1, -1),data[1].reshape(1, -1)).flatten()[0]\n",
        "\n",
        "  sentence_one = normalizedTokenizer(T)\n",
        "  sentence_two = normalizedTokenizer(H)\n",
        "  c = len([x for x in sentence_one if x in sentence_two])\n",
        "  cos_T = np.sqrt(c/len(sentence_one))\n",
        "  cos_H = np.sqrt(c/len(sentence_two))\n",
        "  cos_HT = np.sqrt( (4*np.power(c,2)) / ( (len(sentence_two)+c) * (len(sentence_one)+c) ) )\n",
        "\n",
        "  sentence_one = \"\".join(normalizedTokenizer(T))\n",
        "  sentence_two = \"\".join(normalizedTokenizer(H))\n",
        "  ed_TH = editDistance(sentence_one,sentence_two)\n",
        "  ed_HT = editDistance(sentence_two,sentence_one)\n",
        "\n",
        "  vector.append(similarity)\n",
        "  vector.append(cos_T)\n",
        "  vector.append(cos_H)\n",
        "  vector.append(cos_HT)\n",
        "  vector.append(ed_HT - ed_TH)\n",
        "  vector.append(tagsDifference(T,H))\n",
        "  vector.append(tagsSimilarity(T,H))\n",
        "  vector.append(np.sqrt(tagsSimilarity(T,H)))\n",
        "  return vector\n",
        "\n",
        "\n",
        "def getX_Y(indecces,dataset):\n",
        "  x = []\n",
        "  y = []\n",
        "  for index in tqdm(indecces):\n",
        "    x.append(generateData(dataset.sentence1[index], dataset.sentence2[index]))\n",
        "    if dataset.gold_label[index] == \"entailment\":\n",
        "      y.append(1)\n",
        "    else:\n",
        "      y.append(0)\n",
        "  return x,y"
      ],
      "metadata": {
        "id": "fIU9aUOAcube"
      },
      "execution_count": 19,
      "outputs": []
    },
    {
      "cell_type": "code",
      "source": [
        "indecces = train.index.tolist()\n",
        "random.shuffle(indecces)\n",
        "X,Y = getX_Y(indecces,train)\n",
        "\n",
        "indecces = test.index.tolist()\n",
        "random.shuffle(indecces)\n",
        "X_test,Y_test = getX_Y(indecces,test)"
      ],
      "metadata": {
        "colab": {
          "base_uri": "https://localhost:8080/",
          "height": 81,
          "referenced_widgets": [
            "bf75fe1780494bba9437393f4878759d",
            "e25ba494fa26489ca9d6729f0a563dda",
            "0f94cc1ba82146b3867bd36e2a13b4f3",
            "a8213832fe82485f9c844e6192b0e54b",
            "78dffaf570e9426bbfd726258a244d2b",
            "1bc87aeb70334df79797658d2c0fc970",
            "b011ccfa5f2b4df19806155fd0bf7264",
            "a95cf0a48920496abcaef37e0a8f7376",
            "b96616b7237148d8962f57e215c55378",
            "075ab69c1e934a0fac5a0d50695bb8a5",
            "2aa0bd1adc75401782032375a9844bf0",
            "dfdba2a6e829450b80a003679ae14b3e",
            "5232ca9d9f89419a9e24c0b881907b18",
            "05c5f1642feb41f7b49b150d4826f68c",
            "5090217406624667b64a6e076055529d",
            "9b19fbff184c4abc9182a190d002cde9",
            "4141f661d13d4bb3a95af599b7a2b986",
            "58a622776e524d918b544a3eb71c6aae",
            "2ba65364459b40398e10a91c6f1cb17d",
            "9aa5615cc7db4f06a9263523c978746b",
            "4a6165bb351d4966ad4852508c6f8b2c",
            "65611ede20fa4afc9ebc97c85158c01c"
          ]
        },
        "id": "pATMrKn1ArJt",
        "outputId": "c48530f3-5871-47a4-fc6c-68398a95ca6b"
      },
      "execution_count": 20,
      "outputs": [
        {
          "output_type": "display_data",
          "data": {
            "text/plain": [
              "  0%|          | 0/7000 [00:00<?, ?it/s]"
            ],
            "application/vnd.jupyter.widget-view+json": {
              "version_major": 2,
              "version_minor": 0,
              "model_id": "bf75fe1780494bba9437393f4878759d"
            }
          },
          "metadata": {}
        },
        {
          "output_type": "display_data",
          "data": {
            "text/plain": [
              "  0%|          | 0/2000 [00:00<?, ?it/s]"
            ],
            "application/vnd.jupyter.widget-view+json": {
              "version_major": 2,
              "version_minor": 0,
              "model_id": "dfdba2a6e829450b80a003679ae14b3e"
            }
          },
          "metadata": {}
        }
      ]
    },
    {
      "cell_type": "code",
      "source": [
        "#---------------------Store prepared Data--------------------------------\n",
        "with open('./drive/MyDrive/ColabData/X_train.data', 'wb') as f:\n",
        "        pickle.dump(X, f)\n",
        "\n",
        "with open('./drive/MyDrive/ColabData/Y_train.data', 'wb') as f:\n",
        "        pickle.dump(Y, f)\n",
        "\n",
        "with open('./drive/MyDrive/ColabData/X_test.data', 'wb') as f:\n",
        "        pickle.dump(X_test, f)\n",
        "\n",
        "with open('./drive/MyDrive/ColabData/Y_test.data', 'wb') as f:\n",
        "        pickle.dump(Y_test, f)"
      ],
      "metadata": {
        "id": "Xvm8Rjo9SRe5"
      },
      "execution_count": 21,
      "outputs": []
    },
    {
      "cell_type": "code",
      "source": [
        "#---------------------Load prepared Data--------------------------------\n",
        "with open('./drive/MyDrive/ColabData/X_train.data', 'rb') as f:\n",
        "        X = pickle.load(f)\n",
        "\n",
        "with open('./drive/MyDrive/ColabData/Y_train.data', 'rb') as f:\n",
        "        Y = pickle.load(f)\n",
        "\n",
        "with open('./drive/MyDrive/ColabData/X_test.data', 'rb') as f:\n",
        "        X_test = pickle.load(f)\n",
        "\n",
        "with open('./drive/MyDrive/ColabData/Y_test.data', 'rb') as f:\n",
        "        Y_test = pickle.load(f)"
      ],
      "metadata": {
        "id": "lViTtrkASciC"
      },
      "execution_count": 22,
      "outputs": []
    },
    {
      "cell_type": "markdown",
      "source": [
        "**SVM**"
      ],
      "metadata": {
        "id": "cGU3TMB5CLzq"
      }
    },
    {
      "cell_type": "code",
      "source": [
        "def clf_model():\n",
        "  clf = svm.SVC(kernel = 'rbf', C = 200, gamma = 200)\n",
        "  clf.fit(X,Y)\n",
        "  return clf\n",
        "\n",
        "model_SVM = clf_model()"
      ],
      "metadata": {
        "id": "3V9kI8Wde62i"
      },
      "execution_count": 58,
      "outputs": []
    },
    {
      "cell_type": "code",
      "source": [
        "def predict(T,H):\n",
        "  test = [generateData(T,H)]\n",
        "  if model_SVM.predict(test)[0] == 1:\n",
        "      return \"entailment\"\n",
        "  else:\n",
        "      return \"other\"\n",
        "\n",
        "def evaluate():\n",
        "  tp = fp = fn = tn = 0\n",
        "  for index in tqdm(range(len(test))):\n",
        "\n",
        "    prediction =model_SVM.predict( [X_test[index]] )[0]\n",
        "    actualLable = Y_test[index]\n",
        "    if actualLable == 1:\n",
        "      if prediction == 1:\n",
        "        tp +=1\n",
        "      else:\n",
        "        fn +=1\n",
        "    else:\n",
        "        if prediction == 0:\n",
        "          tn+=1\n",
        "        else:\n",
        "            fp+=1\n",
        "  return {\"Accuracy\":round( (tp+tn) / (tp+tn+fp+fn),2),\"Percision\":round(tp/(tp+fp),2),\"Recall\":round(tp/(tp+fn),2)}"
      ],
      "metadata": {
        "id": "JQQOzC7io1G5"
      },
      "execution_count": 24,
      "outputs": []
    },
    {
      "cell_type": "code",
      "source": [
        "#{'Accuracy': 0.79, 'Percision': 0.77, 'Recall': 0.7}  C = 10 gamma = 200 and 1 epoch\n",
        "#{'Accuracy': 0.70, 'Percision': 0.64, 'Recall': 0.58}  C = 10 gamma = 10 and 2 epochs\n",
        "#{'Accuracy': 0.70, 'Percision': 0.64, 'Recall': 0.58}  C = 10 gamma = 10 and 5 epochs\n",
        "evaluate() "
      ],
      "metadata": {
        "id": "2F8VH9DYSqK0",
        "colab": {
          "base_uri": "https://localhost:8080/",
          "height": 67,
          "referenced_widgets": [
            "7f1d4aebff414d3e96d83879f54f7ffa",
            "c8f4850f16a84df2bcab1964b61e9d82",
            "9e847d0a8ad74f0cbefc8af4c2818a73",
            "2e1d0fdbdf5647e0af53559153ae5652",
            "84cb5dd4cc05424ebd29f5f08692c71e",
            "2b0bf1a9ebc34061b6a00ed4b837c521",
            "222c2f148157441eb7de212fc7cf5598",
            "8e463732cf21404e94d95efd550acab6",
            "4255aba4adef41e7926cb2e404ab4c16",
            "e381abd45d1346d4b98dc99c8e485a3e",
            "c1cdd1f0fe3e47e9862ca24a243301cf"
          ]
        },
        "outputId": "2b8bab31-8172-4b6d-d3d1-ec99d96cfacd"
      },
      "execution_count": 59,
      "outputs": [
        {
          "output_type": "display_data",
          "data": {
            "text/plain": [
              "  0%|          | 0/2000 [00:00<?, ?it/s]"
            ],
            "application/vnd.jupyter.widget-view+json": {
              "version_major": 2,
              "version_minor": 0,
              "model_id": "7f1d4aebff414d3e96d83879f54f7ffa"
            }
          },
          "metadata": {}
        },
        {
          "output_type": "execute_result",
          "data": {
            "text/plain": [
              "{'Accuracy': 0.81, 'Percision': 0.79, 'Recall': 0.71}"
            ]
          },
          "metadata": {},
          "execution_count": 59
        }
      ]
    },
    {
      "cell_type": "code",
      "source": [
        "T = \"Tim managed to stop the car\"\n",
        "H = \"Tim stopped the car\"\n",
        "H1 = \"Tim tried to stop the car\"\n",
        "H2 = \"Tim did something to the car\"\n",
        "H3 = \"the color of the cor is blue\"\n",
        "H4 = \"car is not moving any more\"\n",
        "print(\" T->H\",predict (T,H),\"correct:entrailment\\n\",\"T->H1\",predict (T,H1),\"correct:entrailment\\n\",\"T->H2\",predict (T,H2),\"correct:entrailment\\n\",\n",
        "      \"T->H3\",predict (T,H3),\"correct:other\\n\",\"T->H4\",predict (T,H4),\"correct:entrailment\\n\",)\n",
        "\n",
        "\n",
        "T = \"Tim has bought fish tonight\"\n",
        "H = \"Tim has spent money tonight\"\n",
        "H1 = \"Tim has bought something\"\n",
        "H2 = \"Tim Is relaxed and happy!\"\n",
        "print(\" T->H\",predict (T,H),\"correct:entrailment\\n\",\"T->H1\",predict (T,H1),\"correct:entrailment\\n\",\"T->H2\",predict (T,H2),\"correct:other\\n\",)\n",
        "\n",
        "\n",
        "T = \"A girl playing a violin along with a group of people\"\n",
        "H = \"A girl is playing an instrument.\"\n",
        "H1 = \"A girl is playing outdoor alone\"\n",
        "H2 = \"A girl is playing volleyball with other groups of people\"\n",
        "print(\" T->H\",predict (T,H),\"correct:entrailment\\n\",\"T->H1\",predict (T,H1),\"correct:other\\n\",\"T->H2\",predict (T,H2),\"correct:other\\n\",)"
      ],
      "metadata": {
        "colab": {
          "base_uri": "https://localhost:8080/"
        },
        "id": "eYY480YKSyPU",
        "outputId": "f8780e79-2851-41fd-9f29-76006b9ed620"
      },
      "execution_count": 60,
      "outputs": [
        {
          "output_type": "stream",
          "name": "stdout",
          "text": [
            " T->H other correct:entrailment\n",
            " T->H1 entailment correct:entrailment\n",
            " T->H2 other correct:entrailment\n",
            " T->H3 other correct:other\n",
            " T->H4 other correct:entrailment\n",
            "\n",
            " T->H other correct:entrailment\n",
            " T->H1 entailment correct:entrailment\n",
            " T->H2 other correct:other\n",
            "\n",
            " T->H other correct:entrailment\n",
            " T->H1 other correct:other\n",
            " T->H2 other correct:other\n",
            "\n"
          ]
        }
      ]
    },
    {
      "cell_type": "markdown",
      "source": [
        "**GaussianNB Classifier**"
      ],
      "metadata": {
        "id": "o5hfqGdjoiqC"
      }
    },
    {
      "cell_type": "code",
      "source": [
        "def clf_model():\n",
        "  clf = GaussianNB(var_smoothing= 1e-3)\n",
        "  clf.fit(X,Y)\n",
        "  return clf\n",
        "\n",
        "model_NB = clf_model()"
      ],
      "metadata": {
        "id": "OHLjuCqjB5fz"
      },
      "execution_count": 80,
      "outputs": []
    },
    {
      "cell_type": "code",
      "source": [
        "def predict(T,H):\n",
        "  test = [generateData(T,H)]\n",
        "  if model_NB.predict(test)[0] == 1:\n",
        "      return \"entailment\"\n",
        "  else:\n",
        "      return \"other\"\n",
        "\n",
        "def evaluate():\n",
        "  tp = fp = fn = tn = 0\n",
        "  for index in tqdm(range(len(test))):\n",
        "    prediction = model_NB.predict( [X_test[index]] )[0]\n",
        "    actualLable = Y_test[index]\n",
        "    if actualLable == 1:\n",
        "      if prediction == 1:\n",
        "        tp +=1\n",
        "      else:\n",
        "        fn +=1\n",
        "    else:\n",
        "        if prediction == 0:\n",
        "          tn+=1\n",
        "        else:\n",
        "            fp+=1\n",
        "  return {\"Accuracy\":round( (tp+tn) / (tp+tn+fp+fn),2),\"Percision\":round(tp/(tp+fp),2),\"Recall\":round(tp/(tp+fn),2)}"
      ],
      "metadata": {
        "id": "rOh13SBNCCmi"
      },
      "execution_count": 81,
      "outputs": []
    },
    {
      "cell_type": "code",
      "source": [
        "#{'Accuracy': 0.66, 'Percision': 0.56, 'Recall': 0.72} for 1 epoch\n",
        "#{'Accuracy': 0.64, 'Percision': 0.55, 'Recall': 0.74} for 2 epochs\n",
        "#{'Accuracy': 0.64, 'Percision': 0.55, 'Recall': 0.74} for 5 epochs\n",
        "evaluate()"
      ],
      "metadata": {
        "colab": {
          "base_uri": "https://localhost:8080/",
          "height": 67,
          "referenced_widgets": [
            "039e4cf5b10b4be1a5b2f89f0058ae43",
            "c52c2a4e5c164777a256f4e927dc4aca",
            "62c85435f89c4ff58149d191d232410e",
            "909175bc7b1745e3ac14bc6fe0c16506",
            "60685bd6c6214e489cce477896b562ab",
            "3ba26ca8f338427dacae20945936ee19",
            "7bd295a0c71743fc82d090e37365aab1",
            "4315d0403fd049e7a3c1d0f494b6a860",
            "b9c2db298d244e078af4d8c06aa121a8",
            "3162c33084844ff4b4e2b487489cf3fb",
            "e75658bf02484ee19dc8cf33918ccdeb"
          ]
        },
        "id": "JbuVbJZsCPlr",
        "outputId": "14ca3bbb-c75d-46f4-b0fd-096bc2c891a1"
      },
      "execution_count": 82,
      "outputs": [
        {
          "output_type": "display_data",
          "data": {
            "text/plain": [
              "  0%|          | 0/2000 [00:00<?, ?it/s]"
            ],
            "application/vnd.jupyter.widget-view+json": {
              "version_major": 2,
              "version_minor": 0,
              "model_id": "039e4cf5b10b4be1a5b2f89f0058ae43"
            }
          },
          "metadata": {}
        },
        {
          "output_type": "execute_result",
          "data": {
            "text/plain": [
              "{'Accuracy': 0.66, 'Percision': 0.56, 'Recall': 0.72}"
            ]
          },
          "metadata": {},
          "execution_count": 82
        }
      ]
    },
    {
      "cell_type": "code",
      "source": [
        "T = \"Tim managed to stop the car\"\n",
        "H = \"Tim stopped the car\"\n",
        "H1 = \"Tim tried to stop the car\"\n",
        "H2 = \"Tim did something to the car\"\n",
        "H3 = \"the color of the cor is blue\"\n",
        "H4 = \"car is not moving any more\"\n",
        "print(\" T->H\",predict (T,H),\"correct:entrailment\\n\",\"T->H1\",predict (T,H1),\"correct:entrailment\\n\",\"T->H2\",predict (T,H2),\"correct:entrailment\\n\",\n",
        "      \"T->H3\",predict (T,H3),\"correct:other\\n\",\"T->H4\",predict (T,H4),\"correct:entrailment\\n\",)\n",
        "\n",
        "\n",
        "T = \"Tim has bought fish tonight\"\n",
        "H = \"Tim has spent money\"\n",
        "H1 = \"Tim has bought something\"\n",
        "H2 = \"Tim Is relaxed and happy!\"\n",
        "print(\" T->H\",predict (T,H),\"correct:entrailment\\n\",\"T->H1\",predict (T,H1),\"correct:entrailment\\n\",\"T->H2\",predict (T,H2),\"correct:other\\n\",)\n",
        "\n",
        "\n",
        "T = \"A girl playing a violin along with a group of people\"\n",
        "H = \"A girl is playing an instrument.\"\n",
        "H1 = \"A girl is playing outdoor alone\"\n",
        "H2 = \"A girl is playing volleyball with other groups of people\"\n",
        "print(\" T->H\",predict (T,H),\"correct:entrailment\\n\",\"T->H1\",predict (T,H1),\"correct:other\\n\",\"T->H2\",predict (T,H2),\"correct:other\\n\",)"
      ],
      "metadata": {
        "colab": {
          "base_uri": "https://localhost:8080/"
        },
        "id": "bJagg_t-CZGM",
        "outputId": "90f14294-b8fd-4a57-e78a-7211ef907c18"
      },
      "execution_count": 83,
      "outputs": [
        {
          "output_type": "stream",
          "name": "stdout",
          "text": [
            " T->H entailment correct:entrailment\n",
            " T->H1 entailment correct:entrailment\n",
            " T->H2 entailment correct:entrailment\n",
            " T->H3 other correct:other\n",
            " T->H4 other correct:entrailment\n",
            "\n",
            " T->H other correct:entrailment\n",
            " T->H1 entailment correct:entrailment\n",
            " T->H2 other correct:other\n",
            "\n",
            " T->H entailment correct:entrailment\n",
            " T->H1 other correct:other\n",
            " T->H2 entailment correct:other\n",
            "\n"
          ]
        }
      ]
    },
    {
      "cell_type": "markdown",
      "source": [
        "**Decision Tree classifier**"
      ],
      "metadata": {
        "id": "v-QAEPt4v_zK"
      }
    },
    {
      "cell_type": "code",
      "source": [
        "def clf_model():\n",
        "  clf = DecisionTreeClassifier()\n",
        "  clf.fit(X,Y)\n",
        "  return clf\n",
        "\n",
        "model_DTC = clf_model()"
      ],
      "metadata": {
        "id": "-9kFoD_zwLFB"
      },
      "execution_count": 117,
      "outputs": []
    },
    {
      "cell_type": "code",
      "source": [
        "def predict(T,H):\n",
        "  test = [generateData(T,H)]\n",
        "  if model_DTC.predict(test)[0] == 1:\n",
        "      return \"entailment\"\n",
        "  else:\n",
        "      return \"other\"\n",
        "\n",
        "\n",
        "def evaluate():\n",
        "  tp = fp = fn = tn = 0\n",
        "  for index in tqdm(range(len(test))):\n",
        "    prediction = model_DTC.predict( [X_test[index]] )[0]\n",
        "    actualLable = Y_test[index]\n",
        "    if actualLable == 1:\n",
        "      if prediction == 1:\n",
        "        tp +=1\n",
        "      else:\n",
        "        fn +=1\n",
        "    else:\n",
        "        if prediction == 0:\n",
        "          tn+=1\n",
        "        else:\n",
        "            fp+=1\n",
        "  return {\"Accuracy\":round( (tp+tn) / (tp+tn+fp+fn),2),\"Percision\":round(tp/(tp+fp),2),\"Recall\":round(tp/(tp+fn),2)}"
      ],
      "metadata": {
        "id": "kbY8qv7Ew76i"
      },
      "execution_count": 118,
      "outputs": []
    },
    {
      "cell_type": "code",
      "source": [
        "#{'Accuracy': 0.71, 'Percision': 0.67, 'Recall': 0.55} for 1 epoch\n",
        "#{'Accuracy': 0.82, 'Percision': 0.78, 'Recall': 0.78}\n",
        "#{'Accuracy': 0.71, 'Percision': 0.67, 'Recall': 0.55} for 2 epochs\n",
        "#{'Accuracy': 0.71, 'Percision': 0.67, 'Recall': 0.55} for 5 epochs\n",
        "\n",
        "evaluate() "
      ],
      "metadata": {
        "colab": {
          "base_uri": "https://localhost:8080/",
          "height": 67,
          "referenced_widgets": [
            "7d1f4a9ae82b4a93a78315750cd8c40b",
            "cffd141e0e854539aa5c00d5cf626f36",
            "5fa7ae868d234c2eb07cd1ef7bf17f7f",
            "dccbf22d6c03468282b84ffd214242ba",
            "e514041b5a7044d9ae310b7ac6b0f9ec",
            "a5e60c14d5f445e7a7a078cb8dc6d306",
            "0ca1e2c471754d62bbfe516cf213f469",
            "326ccab0cab943c3b588d9790f7d5d37",
            "673e1e08a0f846508ac508ece9492be6",
            "3e92223d41ee4c5e89be5f32478c36c4",
            "803d42cc839344bd994232d0892b1258"
          ]
        },
        "id": "u_fl6Rh7xHIy",
        "outputId": "a7e5f2e9-cfe2-4abf-d036-489de5ed14cb"
      },
      "execution_count": 119,
      "outputs": [
        {
          "output_type": "display_data",
          "data": {
            "text/plain": [
              "  0%|          | 0/2000 [00:00<?, ?it/s]"
            ],
            "application/vnd.jupyter.widget-view+json": {
              "version_major": 2,
              "version_minor": 0,
              "model_id": "7d1f4a9ae82b4a93a78315750cd8c40b"
            }
          },
          "metadata": {}
        },
        {
          "output_type": "execute_result",
          "data": {
            "text/plain": [
              "{'Accuracy': 0.82, 'Percision': 0.78, 'Recall': 0.78}"
            ]
          },
          "metadata": {},
          "execution_count": 119
        }
      ]
    },
    {
      "cell_type": "code",
      "source": [
        "T = \"Tim managed to stop the car\"\n",
        "H = \"Tim stopped the car\"\n",
        "H1 = \"Tim tried to stop the car\"\n",
        "H2 = \"Tim did something to the car\"\n",
        "H3 = \"the color of the cor is blue\"\n",
        "H4 = \"car is not moving any more\"\n",
        "print(\" T->H\",predict (T,H),\"correct:entrailment\\n\",\"T->H1\",predict (T,H1),\"correct:entrailment\\n\",\"T->H2\",predict (T,H2),\"correct:entrailment\\n\",\n",
        "      \"T->H3\",predict (T,H3),\"correct:other\\n\",\"T->H4\",predict (T,H4),\"correct:entrailment\\n\",)\n",
        "\n",
        "\n",
        "T = \"Tim has bought fish tonight\"\n",
        "H = \"Tim has spent money\"\n",
        "H1 = \"Tim has bought something\"\n",
        "H2 = \"Tim Is relaxed and happy!\"\n",
        "print(\" T->H\",predict (T,H),\"correct:entrailment\\n\",\"T->H1\",predict (T,H1),\"correct:entrailment\\n\",\"T->H2\",predict (T,H2),\"correct:other\\n\",)\n",
        "\n",
        "\n",
        "T = \"A girl playing a violin along with a group of people\"\n",
        "H = \"A girl is playing an instrument.\"\n",
        "H1 = \"A girl is playing outdoor alone\"\n",
        "H2 = \"A girl is playing volleyball with other groups of people\"\n",
        "print(\" T->H\",predict (T,H),\"correct:entrailment\\n\",\"T->H1\",predict (T,H1),\"correct:other\\n\",\"T->H2\",predict (T,H2),\"correct:other\\n\",)"
      ],
      "metadata": {
        "colab": {
          "base_uri": "https://localhost:8080/"
        },
        "id": "VQGho_rKxKZH",
        "outputId": "a1b8aae1-bfb9-402a-8f2c-cc90de47a3a1"
      },
      "execution_count": 120,
      "outputs": [
        {
          "output_type": "stream",
          "name": "stdout",
          "text": [
            " T->H other correct:entrailment\n",
            " T->H1 entailment correct:entrailment\n",
            " T->H2 entailment correct:entrailment\n",
            " T->H3 other correct:other\n",
            " T->H4 other correct:entrailment\n",
            "\n",
            " T->H other correct:entrailment\n",
            " T->H1 other correct:entrailment\n",
            " T->H2 entailment correct:other\n",
            "\n",
            " T->H other correct:entrailment\n",
            " T->H1 entailment correct:other\n",
            " T->H2 entailment correct:other\n",
            "\n"
          ]
        }
      ]
    },
    {
      "cell_type": "markdown",
      "source": [
        "**AdaBoost Classifier**"
      ],
      "metadata": {
        "id": "ZtmHq9nPy4Vc"
      }
    },
    {
      "cell_type": "code",
      "source": [
        "def clf_model():\n",
        "  clf = AdaBoostClassifier(n_estimators=10)\n",
        "  clf.fit(X,Y)\n",
        "  return clf\n",
        "\n",
        "model_Ada = clf_model()"
      ],
      "metadata": {
        "id": "jzhCmMjmy9xB"
      },
      "execution_count": 139,
      "outputs": []
    },
    {
      "cell_type": "code",
      "source": [
        "def predict(T,H):\n",
        "  test = [generateData(T,H)]\n",
        "  if model_Ada.predict(test)[0] == 1:\n",
        "      return \"entailment\"\n",
        "  else:\n",
        "      return \"other\"\n",
        "\n",
        "def evaluate():\n",
        "  tp = fp = fn = tn = 0\n",
        "  for index in tqdm(range(len(test))):\n",
        "    prediction = model_Ada.predict( [X_test[index]] )[0]\n",
        "    actualLable = Y_test[index]\n",
        "    if actualLable == 1:\n",
        "      if prediction == 1:\n",
        "        tp +=1\n",
        "      else:\n",
        "        fn +=1\n",
        "    else:\n",
        "        if prediction == 0:\n",
        "          tn+=1\n",
        "        else:\n",
        "            fp+=1\n",
        "  return {\"Accuracy\":round( (tp+tn) / (tp+tn+fp+fn),2),\"Percision\":round(tp/(tp+fp),2),\"Recall\":round(tp/(tp+fn),2)}"
      ],
      "metadata": {
        "id": "vXwjpVYpzCSW"
      },
      "execution_count": 140,
      "outputs": []
    },
    {
      "cell_type": "code",
      "source": [
        "#{'Accuracy': 0.66, 'Percision': 0.56, 'Recall': 0.77} for 1 epoch\n",
        "#{'Accuracy': 0.66, 'Percision': 0.56, 'Recall': 0.77} for 2 epochs\n",
        "#{'Accuracy': 0.66, 'Percision': 0.56, 'Recall': 0.77} for 5 epochs\n",
        "evaluate() "
      ],
      "metadata": {
        "colab": {
          "base_uri": "https://localhost:8080/",
          "height": 67,
          "referenced_widgets": [
            "67bdb968951148a490b1ae6b6da86d84",
            "9cce08a43c9548c3956da637ac773b30",
            "03b73548e4e84318adc34741bd5658ba",
            "7f0b1794b09c4abf8a912ed0443ac470",
            "bb914a980f77439790c1352823a36152",
            "d008fc94f82443ef8497b3d493837b55",
            "9a7a0930462147c980ed2e8671ea230a",
            "9e3cb8b07f8f4bf6ac0e2c122f615dd0",
            "6dbaa82b7e634685b530fb6c72258303",
            "d87db2ab9fb64ada844fa0a15f4d63bd",
            "6c3d22cd4cff4d34979c2ad640366a42"
          ]
        },
        "id": "4mz0uikPzJBa",
        "outputId": "67e68c9a-017f-4950-b365-b473ab92e620"
      },
      "execution_count": 141,
      "outputs": [
        {
          "output_type": "display_data",
          "data": {
            "text/plain": [
              "  0%|          | 0/2000 [00:00<?, ?it/s]"
            ],
            "application/vnd.jupyter.widget-view+json": {
              "version_major": 2,
              "version_minor": 0,
              "model_id": "67bdb968951148a490b1ae6b6da86d84"
            }
          },
          "metadata": {}
        },
        {
          "output_type": "execute_result",
          "data": {
            "text/plain": [
              "{'Accuracy': 0.69, 'Percision': 0.6, 'Recall': 0.65}"
            ]
          },
          "metadata": {},
          "execution_count": 141
        }
      ]
    },
    {
      "cell_type": "code",
      "source": [
        "T = \"Tim managed to stop the car\"\n",
        "H = \"Tim stopped the car\"\n",
        "H1 = \"Tim tried to stop the car\"\n",
        "H2 = \"Tim did something to the car\"\n",
        "H3 = \"the color of the cor is blue\"\n",
        "H4 = \"car is not moving any more\"\n",
        "print(\" T->H\",predict (T,H),\"correct:entrailment\\n\",\"T->H1\",predict (T,H1),\"correct:entrailment\\n\",\"T->H2\",predict (T,H2),\"correct:entrailment\\n\",\n",
        "      \"T->H3\",predict (T,H3),\"correct:other\\n\",\"T->H4\",predict (T,H4),\"correct:entrailment\\n\",)\n",
        "\n",
        "\n",
        "T = \"Tim has bought fish tonight\"\n",
        "H = \"Tim has spent money\"\n",
        "H1 = \"Tim has bought something\"\n",
        "H2 = \"Tim Is relaxed and happy!\"\n",
        "print(\" T->H\",predict (T,H),\"correct:entrailment\\n\",\"T->H1\",predict (T,H1),\"correct:entrailment\\n\",\"T->H2\",predict (T,H2),\"correct:other\\n\",)\n",
        "\n",
        "\n",
        "T = \"A girl playing a violin along with a group of people\"\n",
        "H = \"A girl is playing an instrument.\"\n",
        "H1 = \"A girl is playing outdoor alone\"\n",
        "H2 = \"A girl is playing volleyball with other groups of people\"\n",
        "print(\" T->H\",predict (T,H),\"correct:entrailment\\n\",\"T->H1\",predict (T,H1),\"correct:other\\n\",\"T->H2\",predict (T,H2),\"correct:other\\n\",)"
      ],
      "metadata": {
        "colab": {
          "base_uri": "https://localhost:8080/"
        },
        "id": "egl69U13zJRO",
        "outputId": "7ee4a2e5-1c4c-40b5-aed9-a03394ba38a9"
      },
      "execution_count": 142,
      "outputs": [
        {
          "output_type": "stream",
          "name": "stdout",
          "text": [
            " T->H entailment correct:entrailment\n",
            " T->H1 entailment correct:entrailment\n",
            " T->H2 other correct:entrailment\n",
            " T->H3 other correct:other\n",
            " T->H4 other correct:entrailment\n",
            "\n",
            " T->H other correct:entrailment\n",
            " T->H1 entailment correct:entrailment\n",
            " T->H2 other correct:other\n",
            "\n",
            " T->H other correct:entrailment\n",
            " T->H1 other correct:other\n",
            " T->H2 other correct:other\n",
            "\n"
          ]
        }
      ]
    },
    {
      "cell_type": "markdown",
      "source": [
        "**MLP Classifier**"
      ],
      "metadata": {
        "id": "Vk1odILy0IHH"
      }
    },
    {
      "cell_type": "code",
      "source": [
        "def clf_model():\n",
        "  clf = MLPClassifier(random_state=50)\n",
        "  clf.fit(X,Y)\n",
        "  return clf\n",
        "\n",
        "model_MLP = clf_model()"
      ],
      "metadata": {
        "id": "WXF44B9A0REL"
      },
      "execution_count": 155,
      "outputs": []
    },
    {
      "cell_type": "code",
      "source": [
        "def predict(T,H):\n",
        "  test = [generateData(T,H)]\n",
        "  if model_MLP.predict(test)[0] == 1:\n",
        "      return \"entailment\"\n",
        "  else:\n",
        "      return \"other\"\n",
        "\n",
        "def evaluate():\n",
        "  tp = fp = fn = tn = 0\n",
        "  for index in tqdm(range(len(test))):\n",
        "    prediction = model_MLP.predict( [X_test[index]] )[0]\n",
        "    actualLable = Y_test[index]\n",
        "    if actualLable == 1:\n",
        "      if prediction == 1:\n",
        "        tp +=1\n",
        "      else:\n",
        "        fn +=1\n",
        "    else:\n",
        "        if prediction == 0:\n",
        "          tn+=1\n",
        "        else:\n",
        "            fp+=1\n",
        "  return {\"Accuracy\":round( (tp+tn) / (tp+tn+fp+fn),2),\"Percision\":round(tp/(tp+fp),2),\"Recall\":round(tp/(tp+fn),2)}"
      ],
      "metadata": {
        "id": "j7kPKi7N0T6n"
      },
      "execution_count": 156,
      "outputs": []
    },
    {
      "cell_type": "code",
      "source": [
        "#{'Accuracy': 0.72, 'Percision': 0.66, 'Recall': 0.61} for 1 epoch\n",
        "#{'Accuracy': 0.7, 'Percision': 0.63, 'Recall': 0.69} for 2 epochs\n",
        "#{'Accuracy': 0.69, 'Percision': 0.64, 'Recall': 0.57} for 5 epochs\n",
        "evaluate()"
      ],
      "metadata": {
        "colab": {
          "base_uri": "https://localhost:8080/",
          "height": 67,
          "referenced_widgets": [
            "66924a179882447180678709c9ec71e3",
            "c4570a9ce22a42f2a1ac9d73817e52dd",
            "b413159639cc493fb2bea2a373d50e02",
            "c524f6f4e2fe415c9e2ec329572a95f5",
            "bc7b9856a4654f3da41bfa66b01b4997",
            "a65923d82abf430a983d4c4d48e65221",
            "ed70954a0f71448fb75c83ddd33fcdc8",
            "5ee0f107f1d247f7a79820a65486b1d8",
            "baea92e77f3e402e81202b0c3197687e",
            "996c7b9db5b8409b9f9d119cb8e29511",
            "52e6aabccc404aa6833d8e88e1435772"
          ]
        },
        "id": "VyiiaU-00WMW",
        "outputId": "c056a1ce-3aab-4c0d-8a68-ac5e05a3a7f9"
      },
      "execution_count": 157,
      "outputs": [
        {
          "output_type": "display_data",
          "data": {
            "text/plain": [
              "  0%|          | 0/2000 [00:00<?, ?it/s]"
            ],
            "application/vnd.jupyter.widget-view+json": {
              "version_major": 2,
              "version_minor": 0,
              "model_id": "66924a179882447180678709c9ec71e3"
            }
          },
          "metadata": {}
        },
        {
          "output_type": "execute_result",
          "data": {
            "text/plain": [
              "{'Accuracy': 0.7, 'Percision': 0.63, 'Recall': 0.64}"
            ]
          },
          "metadata": {},
          "execution_count": 157
        }
      ]
    },
    {
      "cell_type": "code",
      "source": [
        "T = \"Tim managed to stop the car\"\n",
        "H = \"Tim stopped the car\"\n",
        "H1 = \"Tim tried to stop the car\"\n",
        "H2 = \"Tim did something to the car\"\n",
        "H3 = \"the color of the cor is blue\"\n",
        "H4 = \"car is not moving any more\"\n",
        "print(\" T->H\",predict (T,H),\"correct:entrailment\\n\",\"T->H1\",predict (T,H1),\"correct:entrailment\\n\",\"T->H2\",predict (T,H2),\"correct:entrailment\\n\",\n",
        "      \"T->H3\",predict (T,H3),\"correct:other\\n\",\"T->H4\",predict (T,H4),\"correct:entrailment\\n\",)\n",
        "\n",
        "\n",
        "T = \"Tim has bought fish tonight\"\n",
        "H = \"Tim has spent money\"\n",
        "H1 = \"Tim has bought something\"\n",
        "H2 = \"Tim Is relaxed and happy!\"\n",
        "print(\" T->H\",predict (T,H),\"correct:entrailment\\n\",\"T->H1\",predict (T,H1),\"correct:entrailment\\n\",\"T->H2\",predict (T,H2),\"correct:other\\n\",)\n",
        "\n",
        "\n",
        "T = \"A girl playing a violin along with a group of people\"\n",
        "H = \"A girl is playing an instrument.\"\n",
        "H1 = \"A girl is playing outdoor alone\"\n",
        "H2 = \"A girl is playing volleyball with other groups of people\"\n",
        "print(\" T->H\",predict (T,H),\"correct:entrailment\\n\",\"T->H1\",predict (T,H1),\"correct:other\\n\",\"T->H2\",predict (T,H2),\"correct:other\\n\",)"
      ],
      "metadata": {
        "colab": {
          "base_uri": "https://localhost:8080/"
        },
        "id": "L-XxPHHs0ZLH",
        "outputId": "2963f034-75ab-48ba-cec0-d86f08f29f42"
      },
      "execution_count": 158,
      "outputs": [
        {
          "output_type": "stream",
          "name": "stdout",
          "text": [
            " T->H entailment correct:entrailment\n",
            " T->H1 other correct:entrailment\n",
            " T->H2 other correct:entrailment\n",
            " T->H3 other correct:other\n",
            " T->H4 other correct:entrailment\n",
            "\n",
            " T->H other correct:entrailment\n",
            " T->H1 other correct:entrailment\n",
            " T->H2 other correct:other\n",
            "\n",
            " T->H other correct:entrailment\n",
            " T->H1 other correct:other\n",
            " T->H2 entailment correct:other\n",
            "\n"
          ]
        }
      ]
    },
    {
      "cell_type": "markdown",
      "source": [
        "**Combine**"
      ],
      "metadata": {
        "id": "MDN38n46Irts"
      }
    },
    {
      "cell_type": "code",
      "source": [
        "def predict(T,H):\n",
        "  test = [generateData(T,H)]\n",
        "  prediction = []\n",
        "  models = [model_SVM, model_MLP, model_Ada, model_DTC, model_NB]\n",
        "  for model in models:\n",
        "    prediction.append(model.predict(test)[0])\n",
        "  number_of_entailments = len(list(filter(lambda x: x==1,prediction)))\n",
        "  number_of_other = len(list(filter(lambda x: x==0,prediction)))\n",
        "  if number_of_entailments>number_of_other:\n",
        "      return \"entailment\"\n",
        "  else:\n",
        "      return \"other\"\n",
        "\n",
        "\n",
        "\n",
        "\n",
        "def evaluate():\n",
        "  tp = fp = fn = tn = 0\n",
        "  models = [model_SVM, model_MLP, model_Ada, model_DTC, model_NB]\n",
        "\n",
        "  for index in tqdm(range(len(test))):\n",
        "    sentence = [X_test[index]]\n",
        "    prediction = []\n",
        "    for model in models:\n",
        "      prediction.append(model.predict(sentence)[0])\n",
        "      if model is model_DTC:\n",
        "         prediction.append(model.predict(sentence)[0])\n",
        "         if model.predict(sentence)[0] == 1:\n",
        "          prediction.append(model.predict(sentence)[0])\n",
        "          prediction.append(model.predict(sentence)[0])\n",
        "          prediction.append(model.predict(sentence)[0])\n",
        "          \n",
        "\n",
        "    number_of_entailments = len(list(filter(lambda x: x==1,prediction)))\n",
        "    number_of_other = len(list(filter(lambda x: x==0,prediction)))\n",
        "    if number_of_entailments>number_of_other:\n",
        "        prediction = 1\n",
        "    else:\n",
        "        prediction = 0\n",
        "    actualLable = Y_test[index]\n",
        "    if actualLable == 1:\n",
        "      if prediction == 1:\n",
        "        tp +=1\n",
        "      else:\n",
        "        fn +=1\n",
        "    else:\n",
        "        if prediction == 0:\n",
        "          tn+=1\n",
        "        else:\n",
        "            fp+=1\n",
        "  return {\"Accuracy\":round( (tp+tn) / (tp+tn+fp+fn),2),\"Percision\":round(tp/(tp+fp),2),\"Recall\":round(tp/(tp+fn),2)}"
      ],
      "metadata": {
        "id": "PejT2CYYE1zs"
      },
      "execution_count": 225,
      "outputs": []
    },
    {
      "cell_type": "code",
      "source": [
        "evaluate()"
      ],
      "metadata": {
        "colab": {
          "base_uri": "https://localhost:8080/",
          "height": 67,
          "referenced_widgets": [
            "51ff3c0903994dd6b8ff5b036e02b421",
            "acce4a5bff0d47ce8cb4c5f148120781",
            "7c29749cb1a74bba905014f2a81240e3",
            "f384ab27987d4348bbdb92a189aa087a",
            "962fe49704464c6088a7f6041747cce1",
            "fd022f63d8d34e71b11f9bd055889f6c",
            "5ea3cec69ac5407b915f79f237932256",
            "c3b4cafd34484d8d8db22f86fb33c4d6",
            "1a5f403b2d7e425f99e5129ce9e14af2",
            "4db5f09d8f5a428094ae8809c881a275",
            "2538df93a3de47e4860c2b38e2b3a599"
          ]
        },
        "id": "EgpjbbWiLLsZ",
        "outputId": "b1606728-715e-4f27-a8c6-8d7a82e7b244"
      },
      "execution_count": 226,
      "outputs": [
        {
          "output_type": "display_data",
          "data": {
            "text/plain": [
              "  0%|          | 0/2000 [00:00<?, ?it/s]"
            ],
            "application/vnd.jupyter.widget-view+json": {
              "version_major": 2,
              "version_minor": 0,
              "model_id": "51ff3c0903994dd6b8ff5b036e02b421"
            }
          },
          "metadata": {}
        },
        {
          "output_type": "execute_result",
          "data": {
            "text/plain": [
              "{'Accuracy': 0.83, 'Percision': 0.77, 'Recall': 0.83}"
            ]
          },
          "metadata": {},
          "execution_count": 226
        }
      ]
    },
    {
      "cell_type": "code",
      "source": [
        "T = \"Tim managed to stop the car\"\n",
        "H = \"Tim stopped the car\"\n",
        "H1 = \"Tim tried to stop the car\"\n",
        "H2 = \"Tim did something to the car\"\n",
        "H3 = \"the color of the cor is blue\"\n",
        "H4 = \"car is not moving any more\"\n",
        "print(\" T->H\",predict (T,H),\"correct:entrailment\\n\",\"T->H1\",predict (T,H1),\"correct:entrailment\\n\",\"T->H2\",predict (T,H2),\"correct:entrailment\\n\",\n",
        "      \"T->H3\",predict (T,H3),\"correct:other\\n\",\"T->H4\",predict (T,H4),\"correct:entrailment\\n\",)\n",
        "\n",
        "\n",
        "T = \"Tim has bought fish tonight\"\n",
        "H = \"Tim has spent money tonight\"\n",
        "H1 = \"Tim has bought something\"\n",
        "H2 = \"Tim Is relaxed and happy!\"\n",
        "print(\" T->H\",predict (T,H),\"correct:entrailment\\n\",\"T->H1\",predict (T,H1),\"correct:entrailment\\n\",\"T->H2\",predict (T,H2),\"correct:other\\n\",)\n",
        "\n",
        "\n",
        "T = \"A girl playing a violin along with a group of people\"\n",
        "H = \"A girl is playing an instrument.\"\n",
        "H1 = \"A girl is playing outdoor alone\"\n",
        "H2 = \"A girl is playing volleyball with other groups of people\"\n",
        "print(\" T->H\",predict (T,H),\"correct:entrailment\\n\",\"T->H1\",predict (T,H1),\"correct:other\\n\",\"T->H2\",predict (T,H2),\"correct:other\\n\",)"
      ],
      "metadata": {
        "colab": {
          "base_uri": "https://localhost:8080/"
        },
        "id": "UYJsngzVLadM",
        "outputId": "05868e39-318c-4983-df94-3b60ea4f2fde"
      },
      "execution_count": 214,
      "outputs": [
        {
          "output_type": "stream",
          "name": "stdout",
          "text": [
            " T->H entailment correct:entrailment\n",
            " T->H1 entailment correct:entrailment\n",
            " T->H2 other correct:entrailment\n",
            " T->H3 other correct:other\n",
            " T->H4 other correct:entrailment\n",
            "\n",
            " T->H other correct:entrailment\n",
            " T->H1 entailment correct:entrailment\n",
            " T->H2 other correct:other\n",
            "\n",
            " T->H other correct:entrailment\n",
            " T->H1 other correct:other\n",
            " T->H2 entailment correct:other\n",
            "\n"
          ]
        }
      ]
    },
    {
      "cell_type": "code",
      "source": [
        ""
      ],
      "metadata": {
        "id": "kMgh3qzZXtTg"
      },
      "execution_count": null,
      "outputs": []
    },
    {
      "cell_type": "markdown",
      "source": [
        "Cosine similarity:\n",
        "{'Accuracy': 0.61, 'Percision': 0.52, 'Recall': 0.79}\n",
        "\n",
        "\n",
        "---\n",
        "\n",
        "\n",
        "\n",
        "Cosine Directional Similarity:\n",
        "{'Accuracy': 0.6, 'Percision': 0.51, 'Recall': 0.87}\n",
        "\n",
        "\n",
        "---\n",
        "\n",
        "\n",
        "\n",
        "Modified Lev. Distance:\n",
        "{'Accuracy': 0.55, 'Percision': 0.23, 'Recall': 0.05}\n",
        "\n",
        "\n",
        "---\n",
        "\n",
        "\n",
        "\n",
        "SVM:\n",
        "{'Accuracy': 0.81, 'Percision': 0.79, 'Recall': 0.71}\n",
        "\n",
        "\n",
        "---\n",
        "\n",
        "\n",
        "\n",
        "\n",
        "GaussianNB Classifier:\n",
        "{'Accuracy': 0.66, 'Percision': 0.56, 'Recall': 0.72}\n",
        "\n",
        "\n",
        "---\n",
        "\n",
        "\n",
        "\n",
        "Decision Tree classifier:\n",
        "{'Accuracy': 0.82, 'Percision': 0.78, 'Recall': 0.78}\n",
        "\n",
        "\n",
        "---\n",
        "\n",
        "\n",
        "\n",
        "AdaBoost Classifier:\n",
        "{'Accuracy': 0.69, 'Percision': 0.6, 'Recall': 0.65}\n",
        "\n",
        "\n",
        "---\n",
        "\n",
        "\n",
        "\n",
        "MLP Classifier:\n",
        "{'Accuracy': 0.7, 'Percision': 0.63, 'Recall': 0.64}\n",
        "\n",
        "\n",
        "---\n",
        "\n",
        "\n",
        "\n",
        "Combine:\n",
        "{'Accuracy': 0.83, 'Percision': 0.77, 'Recall': 0.83}\n"
      ],
      "metadata": {
        "id": "GUUeCM9xbHf1"
      }
    },
    {
      "cell_type": "code",
      "source": [
        ""
      ],
      "metadata": {
        "id": "FHkuK3Vzbb5u"
      },
      "execution_count": null,
      "outputs": []
    }
  ]
}